{
 "cells": [
  {
   "cell_type": "code",
   "execution_count": 3,
   "metadata": {},
   "outputs": [
    {
     "name": "stdout",
     "output_type": "stream",
     "text": [
      "[[1]\n",
      " [2]\n",
      " [3]\n",
      " [4]]\n",
      "[1 2 3 4 5 6 7 8]\n"
     ]
    }
   ],
   "source": [
    "import numpy as np\n",
    "\n",
    "a = np.array([[1], [2], [3], [4]])\n",
    "print(a)\n",
    "b = np.array([[5], [6], [7], [8]])\n",
    "print(np.append(a, b))"
   ]
  },
  {
   "cell_type": "code",
   "execution_count": 44,
   "metadata": {},
   "outputs": [
    {
     "name": "stdout",
     "output_type": "stream",
     "text": [
      "[[1]\n",
      " [4]\n",
      " [7]\n",
      " [2]\n",
      " [5]\n",
      " [8]\n",
      " [3]\n",
      " [6]\n",
      " [9]]\n",
      "[1 4 7 2 5 8 3 6 9]\n"
     ]
    }
   ],
   "source": [
    "a1 = np.array([[1, 2, 3], [4, 5, 6], [7, 8, 9]])\n",
    "a1 = a1.reshape((9, 1), order='F')\n",
    "print(a1)\n",
    "m = []\n",
    "m.append(a1)\n",
    "m.append(a1)\n",
    "m = np.asarray(m).T[0]\n",
    "print(m[:, 0])"
   ]
  },
  {
   "cell_type": "code",
   "execution_count": 58,
   "metadata": {},
   "outputs": [
    {
     "name": "stdout",
     "output_type": "stream",
     "text": [
      "[[1 1 1 1 1 1 1 1 1 1]\n",
      " [2 2 2 2 2 2 2 2 2 2]\n",
      " [3 3 3 3 3 3 3 3 3 3]\n",
      " [4 4 4 4 4 4 4 4 4 4]\n",
      " [5 5 5 5 5 5 5 5 5 5]]\n",
      "[1 2 3 4 5]\n"
     ]
    }
   ],
   "source": [
    "n = 10\n",
    "a = np.array([1, 2, 3, 4, 5])\n",
    "b = np.array(n * [a]).T\n",
    "print(b)\n",
    "print(a.T)"
   ]
  }
 ],
 "metadata": {
  "kernelspec": {
   "display_name": "Python 3",
   "language": "python",
   "name": "python3"
  },
  "language_info": {
   "codemirror_mode": {
    "name": "ipython",
    "version": 3
   },
   "file_extension": ".py",
   "mimetype": "text/x-python",
   "name": "python",
   "nbconvert_exporter": "python",
   "pygments_lexer": "ipython3",
   "version": "3.12.0"
  }
 },
 "nbformat": 4,
 "nbformat_minor": 2
}
