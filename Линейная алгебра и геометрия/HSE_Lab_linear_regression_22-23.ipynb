{
 "cells": [
  {
   "cell_type": "markdown",
   "metadata": {
    "id": "Ko9XxVaeqOQF"
   },
   "source": [
    "# Лабораторная работа 2\n",
    "\n",
    "## Линейная регрессия"
   ]
  },
  {
   "cell_type": "markdown",
   "metadata": {
    "id": "ajNyg1s8qOQJ"
   },
   "source": [
    "### Метод наименьших квадратов: постановка задачи\n",
    "\n",
    "Рассмотрим систему уравнений $Xa = y$, в которой $a$ — столбец неизвестных. Её можно переписать в векторном виде\n",
    "$$x_1 a_1 + x_2 a_2 + \\ldots + x_k a_k = y,$$\n",
    "где $x_1,\\ldots,x_k$ — столбцы матрицы $X$. Таким образом, решить исходную систему означает найти линейную комбинацию векторов $x_1,\\ldots,x_k$, равную правой части. Но что делать, если такой линейной комбинации не существует? Геометрически это означает, что вектор $y$ не лежит в подпространстве $U = \\langle x_1,\\ldots, x_k\\rangle$. В этом случае мы можем найти *псевдорешение*: вектор коэффициентов $\\hat{a}$, для которого линейная комбинация $x_1 \\hat{a}_1 + x_2 \\hat{a}_2 + \\ldots + x_k \\hat{a}_k$ хоть и не равна в точности $y$, но является наилучшим приближением — то есть ближайшей к $y$ точкой $\\hat{y}$ подпространства $U$ (иными словами, ортогональной проекцией $y$ на это подпростанство). Итак, цель наших исканий можно сформулировать двумя эквивалентными способами:\n",
    "\n",
    "1. Найти вектор $\\hat{a}$, для которого длина разности $|X\\hat{a} - y|$ минимальна (отсюда название \"метод наименьших квадратов\");\n",
    "2. Найти ортогональную проекцию $\\hat{y}$ вектора $y$ на подпространство $U$ и представить её в виде $X\\hat{a}$.\n",
    "\n",
    "Далее мы будем предполагать, что векторы $x_1,\\ldots,x_k$ линейно независимы (если нет, то сначала имеет смысл выделить максимальную линейно независимую подсистему).\n",
    "На лекциях было показано, что в этом случае проекция вектора $y$ на подпространство $U = \\langle x_1,\\ldots, x_k\\rangle$ записывается в виде\n",
    "$$\\hat{y} = X\\left(X^TX\\right)^{-1}X^Ty$$\n",
    "и, соответственно, искомый вектор $\\hat{a}$ равен\n",
    "$$\\hat{a} = \\left(X^TX\\right)^{-1}X^Ty.$$"
   ]
  },
  {
   "cell_type": "markdown",
   "metadata": {
    "id": "ofclUL48qOQK"
   },
   "source": [
    "### Задача линейной регрессии\n",
    "\n",
    "Начнём с примера. Допустим, вы хотите найти зависимость среднего балла S студента ФКН от его роста H, веса W, длины волос L и N — количества часов, которые он ежедневно посвящает учёбе. Представьте, что мы измерили все эти параметры для $n$ студентов и получили наборы значений: $S_1,\\ldots, S_n$, $H_1,\\ldots, H_n$ и так далее.\n",
    "\n",
    "Тут можно подбирать много разных умных моделей, но начать имеет смысл с самой простой, линейной:\n",
    "$$S = a_1H + a_2W + a_3L + a_4N + a_5.$$\n",
    "Конечно, строгой линейной зависимости нет (иначе можно было бы радостно упразднить экзамены), но мы можем попробовать подобрать коэффициенты $a_1, a_2, a_3, a_4, a_5$, для которых отклонение правой части от наблюдаемых было бы наименьшим:\n",
    "$$\\sum_{i=1}^n\\left(S_i - ( a_1H_i + a_2W_i + a_3L_i + a_4N_i + a_5)\\right)^2 \\longrightarrow \\min$$\n",
    "И сразу видно, что мы получили задачу на метод наименьших квадратов! А именно, у нас\n",
    "$$X =\n",
    "\\begin{pmatrix}\n",
    "H_1 & W_1 & L_1 & N_1 & 1\\\\\n",
    "H_2 & W_2 & L_2 & N_2 & 1\\\\\n",
    "\\dots & \\dots & \\dots & \\dots & \\dots \\\\\n",
    "H_n & W_n & L_n & N_n & 1\n",
    "\\end{pmatrix},\\qquad y=\n",
    "\\begin{pmatrix}\n",
    "S_1\\\\ S_2\\\\ \\vdots \\\\ S_n\n",
    "\\end{pmatrix}$$\n",
    "\n",
    "Решая эту задачу с помощью уже известных формул, получаем оценки коэффициентов $\\hat{a}_i$ ($i = 1\\ldots,5$)."
   ]
  },
  {
   "cell_type": "markdown",
   "metadata": {
    "id": "XGHDJWxTqOQL"
   },
   "source": [
    "Теперь проговорим общую постановку задачи линейной регрессии. У нас есть $k$ переменных $x_1,\\ldots,x_k$ (\"регрессоров\"), через которые мы хотим выразить \"объясняемую переменную\" $y$:\n",
    "$$y = a_1x_1 + a_2x_2 + \\ldots + a_kx_k.$$\n",
    "Значения всех переменных мы измерили $n$ раз (у $n$ различных объектов,  в $n$ различных моментов времени — это зависит от задачи). Подставим эти данные в предыдущее равенство:\n",
    "$$\\begin{pmatrix}\n",
    "y_1\\\\ y_2 \\\\ \\vdots \\\\ y_n\n",
    "\\end{pmatrix} = \n",
    "a_1\\begin{pmatrix}\n",
    "x_{11} \\\\ x_{21} \\\\ \\vdots \\\\ x_{n1} \\end{pmatrix} + a_2\\begin{pmatrix}\n",
    "x_{12} \\\\ x_{22} \\\\ \\vdots \\\\ x_{n2} \\end{pmatrix} + \\ldots + a_k\\begin{pmatrix}\n",
    "x_{1k} \\\\ x_{2k} \\\\ \\vdots \\\\ x_{nk} \\end{pmatrix}$$\n",
    "(здесь $x_{ij}$ — это значение $j$-го признака на $i$-м измерении). Это удобно переписать в матричном виде:\n",
    "$$\\begin{pmatrix}\n",
    "x_{11} & x_{12} & \\ldots & x_{1k}\\\\\n",
    "x_{21} & x_{22} & \\ldots & x_{2k}\\\\\n",
    "\\dots & \\dots & \\dots & \\dots\\\\\n",
    "x_{n1} & x_{n2} & \\ldots & x_{nk}\n",
    "\\end{pmatrix} \\cdot\n",
    "\\begin{pmatrix}\n",
    "a_1 \\\\ a_2 \\\\ \\vdots \\\\ a_k\n",
    "\\end{pmatrix} = \n",
    "\\begin{pmatrix}\n",
    "y_1 \\\\ y_2 \\\\ \\vdots \\\\ y_n\n",
    "\\end{pmatrix}$$\n",
    "или коротко $Xa = y$. Поскольку на практике эта система уравнений зачастую не имеет решения (ибо зависимости в жизни редко бывают действительно линейными), методом наименьших квадратов ищется псевдорешение."
   ]
  },
  {
   "cell_type": "markdown",
   "metadata": {
    "id": "6M_D0USiqOQL"
   },
   "source": [
    "### Оценка качества. Обучение и тест \n",
    "\n",
    "После того как вы построили регрессию и получили какую-то зависимость объясняемой переменной от регрессоров, настаёт время оценить качество регрессии. Есть много разных функционалов качества; мы пока будем говорить только о самом простом и очевидном из них: о среднеквадратичной ошибке (mean square error). Она равна\n",
    "$$\\frac1{n}|X\\hat{a} - y|^2 = \\frac1{n}\\sum_{i=1}^n\\left(\\hat{a}_1x_{i1} + \\hat{a}_2x_{i2} + \\ldots + \\hat{a}_kx_{ik} - y_i\\right)^2.$$\n",
    "\n",
    "В целом хочется искать модели с наименьшей mean square error на имеющихся данных. Однако слишком фанатичная гонка за минимизацией ошибки может привести к печальным последствиям, в чём вам предстоит убедиться в ходе выполнения этой лабораторной.\n",
    "\n",
    "Чтобы не попадать в эту ловушку, данные обычно делят на обучающие (по которым строят модель и оценивают коэффициенты) и тестовые. Лучшей стоит счесть ту модель, для которой значение функционала качества будет меньше."
   ]
  },
  {
   "cell_type": "markdown",
   "metadata": {
    "id": "C_HMy6kNqOQM"
   },
   "source": [
    "### Правила оформления графиков\n",
    "При работе с данными часто неудобно делать какие-то выводы, если смотреть на таблицу и числа в частности, поэтому важно уметь визуализировать данные. \n",
    "\n",
    "У matplotlib, конечно же, есть [документация](https://matplotlib.org/users/index.html) с большим количеством [примеров](https://matplotlib.org/examples/), но для начала достаточно знать про несколько основных типов графиков:\n",
    "- plot — обычный поточечный график, которым можно изображать кривые или отдельные точки;\n",
    "- hist — гистограмма, показывающая распределение некоторой величины;\n",
    "- scatter — график, показывающий взаимосвязь двух величин;\n",
    "- bar — столбцовый график, показывающий взаимосвязь количественной величины от категориальной.\n",
    "\n",
    "Ещё одна библиотека для визуализации: [seaborn](https://jakevdp.github.io/PythonDataScienceHandbook/04.14-visualization-with-seaborn.html). Это надстройка над matplotlib, иногда удобнее и красивее делать визуализации через неё. \n",
    "\n",
    "При выполнении этой лабораторной вы столкнётесь с необходимостью рисовать большое количество графиков. Не забывайте про базовые принципы построения приличных графиков:\n",
    "- оси должны быть подписаны, причём не слишком мелко;\n",
    "- у графика должно быть название;\n",
    "- если изображено несколько графиков, то необходима поясняющая легенда;\n",
    "- для точек из разных выборок необходимо использовать разные цвета;\n",
    "- все линии на графиках должны быть чётко видны (нет похожих цветов или цветов, сливающихся с фоном);\n",
    "- если отображена величина, имеющая очевидный диапазон значений (например, проценты могут быть от 0 до 100), то желательно масштабировать ось на весь диапазон значений (исключением является случай, когда вам необходимо показать малое отличие, которое незаметно в таких масштабах).\n",
    "\n",
    "Помните, что проверяющий имеет право снизить оценку за неопрятные графики."
   ]
  },
  {
   "cell_type": "markdown",
   "metadata": {
    "id": "3Jf2gQapqOQM"
   },
   "source": [
    "### Формат сдачи\n",
    "Задания сдаются через систему Anytask. Инвайт можно найти на странице курса. Присылать необходимо ноутбук с выполненным заданием. Сам ноутбук называйте в формате homework-practice-02-linregr-Username.ipynb, где Username — ваша фамилия."
   ]
  },
  {
   "cell_type": "markdown",
   "metadata": {
    "id": "oKY8bcLTqOQN"
   },
   "source": [
    "### Задание 1. Метод наименьших квадратов (3 балла)"
   ]
  },
  {
   "cell_type": "markdown",
   "metadata": {
    "id": "hRlWe7KKqOQN"
   },
   "source": [
    "Скачайте файлы ``train.txt`` и ``test.txt``. В первом из них находится обучающая выборка, а во втором — тестовая. Каждый из файлов содержит два столбца чисел, разделённых пробелами: в первом — $n$ точек (значения аргумента $x$), во втором — значения некоторой функции $y = f(x)$ в этих точках, искажённые случайным шумом. Ваша задача — по обучающей выборке подобрать функцию $y = g(x)$, пристойно приближающую неизвестную вам зависимость."
   ]
  },
  {
   "cell_type": "markdown",
   "metadata": {
    "id": "Lv_ustjBqOQO"
   },
   "source": [
    "Загрузим обучающие и тестовые данные (не забудьте ввести правильный путь!)."
   ]
  },
  {
   "cell_type": "code",
   "execution_count": 153,
   "metadata": {
    "id": "zsbRjiVQqOQO"
   },
   "outputs": [],
   "source": [
    "import numpy as np\n",
    "import matplotlib.pyplot as plt\n",
    "data_train = np.loadtxt('/Users/pavelblohin/Downloads/drive-download-20230327T151645Z-001/train.txt', delimiter=',')\n",
    "data_test = np.loadtxt('/Users/pavelblohin/Downloads/drive-download-20230327T151645Z-001/test.txt', delimiter=',')"
   ]
  },
  {
   "cell_type": "markdown",
   "metadata": {
    "id": "8nMMXMn9qOQP"
   },
   "source": [
    "**0. [0 баллов]** Разделим значения $x$ и $y$:"
   ]
  },
  {
   "cell_type": "code",
   "execution_count": 154,
   "metadata": {
    "id": "j8mHS807qOQQ"
   },
   "outputs": [],
   "source": [
    "X_train = data_train[:,0]\n",
    "y_train = data_train[:,1]\n",
    "X_test = data_test[:,0]\n",
    "y_test = data_test[:,1]\n",
    "\n",
    "# Сделайте то же для тестовой выборки\n",
    "#╰( ͡° ͜ʖ ͡° )つ──☆*:・ﾟ"
   ]
  },
  {
   "cell_type": "markdown",
   "metadata": {
    "id": "2pGVEni9qOQQ"
   },
   "source": [
    "**1. [0.1 балла]** Найдите с помощью метода наименьших квадратов линейную функцию ($y = kx + b$), наилучшим образом приближающую неизвестную зависимость. Полезные функции: ``numpy.ones(n)`` для создания массива из единиц длины $n$ и ``numpy.concatenate((А, В), axis=1)`` для слияния двух матриц по столбцам (пара ``А`` и ``В`` превращается в матрицу ``[A B]``). Напечатайте этот многочлен в виде $kx+b$."
   ]
  },
  {
   "cell_type": "code",
   "execution_count": 155,
   "metadata": {
    "id": "uPlCOqE7qOQQ"
   },
   "outputs": [
    {
     "name": "stdout",
     "output_type": "stream",
     "text": [
      "2.2791344980519486x + 4.433230905064935\n"
     ]
    }
   ],
   "source": [
    "#╰( ͡° ͜ʖ ͡° )つ──☆*:・ﾟ\n",
    "X = np.array([X_train]).T\n",
    "b = np.array([np.ones(len(X))]).T\n",
    "X_b = np.concatenate((X, b), axis=1)\n",
    "a = np.linalg.inv(X_b.T @ X_b) @ X_b.T @ y_train\n",
    "\n",
    "print(f'{a[0]}x + {a[1]}')"
   ]
  },
  {
   "cell_type": "markdown",
   "metadata": {
    "id": "WF-ivuwpqOQR"
   },
   "source": [
    "**2. [0.15 балла]** Нарисуйте на плоскости точки $(x_i, y_i)$ из обеих выборок и полученную линейную функцию."
   ]
  },
  {
   "cell_type": "code",
   "execution_count": 156,
   "metadata": {
    "id": "cW6-86trqOQR"
   },
   "outputs": [
    {
     "data": {
      "image/png": "[encoded data removed]",
      "text/plain": [
       "<Figure size 640x480 with 1 Axes>"
      ]
     },
     "metadata": {},
     "output_type": "display_data"
    }
   ],
   "source": [
    "#╰( ͡° ͜ʖ ͡° )つ──☆*:・ﾟ\n",
    "x_list_train = [i for i in X_train]\n",
    "y_list_train = [i for i in y_train]\n",
    "x_list_test = [i for i in X_test]\n",
    "y_list_test = [i for i in y_test]\n",
    "plt.xlabel('X')\n",
    "plt.ylabel('Y')\n",
    "plt.title('Точки из train и test')\n",
    "for i in range(len(X_train) - 1):\n",
    "    plt.plot(x_list_train[i], y_list_train[i], 'r.')\n",
    "    plt.plot(x_list_test[i], y_list_test[i], 'b.')\n",
    "x_list = np.arange(-0.3, 1.3, 0.1)\n",
    "plt.plot(x_list, a[0] * x_list + a[1])\n",
    "plt.show()"
   ]
  },
  {
   "cell_type": "markdown",
   "metadata": {
    "id": "tHX9676bqOQR"
   },
   "source": [
    "**3. [0.15 балла]** Глядя на данные, подумайте, многочленом какой степени можно было бы лучше всего приблизить эту функцию с точки зрения минимизации среднеквадратичной ошибки на обучающей выборке. Найдите этот многочлен и напечатайте его в виде $a_0 + a_1 x + \\ldots a_k x^k$."
   ]
  },
  {
   "cell_type": "code",
   "execution_count": 148,
   "metadata": {
    "id": "TqJQhc-UqOQR"
   },
   "outputs": [
    {
     "name": "stdout",
     "output_type": "stream",
     "text": [
      "-6.8954 + 147.5257x + 266.4893x^2 - 10647.1384x^3 + 31493.2695x^4 + 134634.2588x^5 - 801253.3818x^6 + 982928.2500x^7 + 572250.0000x^8 - 124372.0000x^9 - 3149384.0000x^10 - 9584.0000x^11 + 3279689.5000x^12 + 2942197.0000x^13 + 4397307.0000x^14 - 42202304.0000x^15 + 83049256.0000x^16 - 44808648.0000x^17 - 72566154.0000x^18 + 107348216.0000x^19 - 39066056.0000x^20\n"
     ]
    }
   ],
   "source": [
    "#╰( ͡° ͜ʖ ͡° )つ──☆*:・ﾟ\n",
    "X = np.array(([X_train])).T\n",
    "l_0 = X\n",
    "l_previous = [np.ones(len(X))]\n",
    "for i in range(1, 21):\n",
    "    x_temp = [j ** i for j in X_train]\n",
    "    tmp = np.concatenate((np.array([x_temp]).T, np.array(l_previous).T), axis=1)\n",
    "    l_previous.insert(0, x_temp)\n",
    "    l_0 = tmp\n",
    "ans = np.linalg.inv(l_0.T @ l_0) @ (l_0.T @ y_train)\n",
    "ans = ans[::-1]\n",
    "str_out = ''\n",
    "for i in range(len(ans)):\n",
    "        if i == 0:\n",
    "            str_out += f'{ans[i]:.4f}'\n",
    "        elif i == 1:\n",
    "            if ans[i] > 0:\n",
    "                str_out += f' + {ans[i]:.4f}x'\n",
    "            elif ans[i] == 0:\n",
    "                continue\n",
    "            else:\n",
    "                str_out += f' - {abs(ans[i]):.4f}x'\n",
    "        elif ans[i] > 0:\n",
    "            str_out += f' + {ans[i]:.4f}x^{i}'\n",
    "        elif ans[i] == 0:\n",
    "            continue\n",
    "        else:\n",
    "            str_out += f' - {abs(ans[i]):.4f}x^{i}'\n",
    "print(str_out)\n"
   ]
  },
  {
   "cell_type": "markdown",
   "metadata": {
    "id": "o2SM-4sGqOQR"
   },
   "source": [
    "**4. [0.1 балла]** Нарисуйте его график на одном чертеже вместе с точками $(x_i, y_i)$ из обеих выборок."
   ]
  },
  {
   "cell_type": "code",
   "execution_count": 85,
   "metadata": {
    "id": "_AX0GL31qOQR"
   },
   "outputs": [
    {
     "data": {
      "text/plain": [
       "(-0.5, 1.1)"
      ]
     },
     "execution_count": 85,
     "metadata": {},
     "output_type": "execute_result"
    },
    {
     "data": {
      "image/png": "[encoded data removed]",
      "text/plain": [
       "<Figure size 640x480 with 1 Axes>"
      ]
     },
     "metadata": {},
     "output_type": "display_data"
    }
   ],
   "source": [
    "#╰( ͡° ͜ʖ ͡° )つ──☆*:・ﾟ\n",
    "# dist = np.arange(0.0, 1.0, 0.1)\n",
    "dist = np.linspace(-1,1.1,1000)\n",
    "x_range = np.vander(dist, 21, increasing=True)\n",
    "y = np.sum(ans * x_range, axis=1)\n",
    "plt.xlabel('X')\n",
    "plt.ylabel('Y')\n",
    "plt.title('Точки из trin и test')\n",
    "plt.scatter(x_list_train, y_list_train, c = 'r', s = 15, label = 'Данные train')\n",
    "plt.scatter(x_list_test, y_list_test, c = 'b', s = 15, label = 'Данные test')\n",
    "plt.plot(dist, y,)\n",
    "plt.legend()\n",
    "plt.ylim(-3,9)\n",
    "plt.xlim(-0.5, 1.1)"
   ]
  },
  {
   "cell_type": "markdown",
   "metadata": {
    "id": "KdHazeiGqOQS"
   },
   "source": [
    "**5. [0.25 балла]** Для $k = 1,2,3,\\ldots,10$ найдите многочлен $\\hat{f}_k$ степени $k$, наилучшим образом приближающий неизвестную зависимость. Напечатайте найденные многочлены в виде $a_0 + a_1 x + \\ldots a_k x^k$."
   ]
  },
  {
   "cell_type": "code",
   "execution_count": 86,
   "metadata": {
    "id": "w_y0Xn4AqOQS"
   },
   "outputs": [
    {
     "name": "stdout",
     "output_type": "stream",
     "text": [
      "1)  4.4332 + 2.2791x\n",
      "\n",
      "2)  4.4725 + 1.1578x + 1.4016x^2\n",
      "\n",
      "3)  4.4607 + 1.0650x + 1.8598x^2 - 0.3818x^3\n",
      "\n",
      "4)  4.3412 + 1.1718x + 6.7941x^2 - 13.0513x^3 + 7.9185x^4\n",
      "\n",
      "5)  4.4313 - 0.0753x + 3.2747x^2 + 21.3748x^3 - 51.1315x^4 + 29.5250x^5\n",
      "\n",
      "6)  4.3838 - 0.0753x + 16.0029x^2 + 121.2571x^3 - 481.5101x^4 + 581.4533x^5 - 229.9701x^6\n",
      "\n",
      "7)  4.4445 - 0.0753x + 7.2155x^2 + 119.3508x^3 - 314.2312x^4 + 122.8782x^5 + 238.6994x^6 - 167.3820x^7\n",
      "\n",
      "8)  4.6638 - 0.0753x - 26.6956x^2 + 268.8604x^3 + 109.8957x^4 - 3132.8564x^5 + 6760.6285x^6 - 5701.7102x^7 + 1729.4776x^8\n",
      "\n",
      "9)  4.6459 - 0.0753x - 24.2627x^2 + 219.0420x^3 + 176.2454x^4 - 2441.9626x^5 + 3913.2680x^6 - 1216.4480x^7 - 1522.0984x^8 + 903.2155x^9\n",
      "\n",
      "10)  4.6692 - 0.0753x - 36.1753x^2 + 44.9367x^3 + 1201.9474x^4 - 1660.8328x^5 - 12969.8311x^6 + 46686.3836x^7 - 63620.6666x^8 + 40177.3285x^9 - 9818.5287x^10\n",
      "\n"
     ]
    }
   ],
   "source": [
    "#╰( ͡° ͜ʖ ͡° )つ──☆*:・ﾟ\n",
    "X = np.array(([X_train])).T\n",
    "l = [] # лист со всеми матрицами \n",
    "l_previous = [np.ones(len(X))]\n",
    "for i in range(1, 11):\n",
    "    x_temp = [j ** i for j in X_train]\n",
    "    tmp = np.concatenate((np.array([x_temp]).T, np.array(l_previous).T), axis=1)\n",
    "    l_previous.insert(0, x_temp)\n",
    "    l.append(tmp)\n",
    "    \n",
    "a_list = list() # для слудующего задания\n",
    "\n",
    "for x_i in range(len(l)):\n",
    "    str_out = ''\n",
    "    a_i = np.linalg.inv(l[x_i].T @ l[x_i]) @ l[x_i].T @ y_train.T\n",
    "    a_i = a_i[::-1]\n",
    "    a_list.append(a_i)\n",
    "    for i in range(len(a_i)):\n",
    "        if i == 0:\n",
    "            str_out += f'{a_i[i]:.4f}'\n",
    "        elif i == 1:\n",
    "            if a_i[i] > 0:\n",
    "                str_out += f' + {a_i[i]:.4f}x'\n",
    "            elif a_i[i] == 0:\n",
    "                continue\n",
    "            else:\n",
    "                str_out += f' - {abs(ans[i]):.4f}x'\n",
    "        elif a_i[i] > 0:\n",
    "            str_out += f' + {a_i[i]:.4f}x^{i}'\n",
    "        elif a_i[i] == 0:\n",
    "            continue\n",
    "        else:\n",
    "            str_out += f' - {abs(a_i[i]):.4f}x^{i}'\n",
    "    print(f'{x_i + 1}) ', str_out)\n",
    "    print()\n",
    "\n"
   ]
  },
  {
   "cell_type": "markdown",
   "metadata": {
    "id": "wwl54m8wqOQS"
   },
   "source": [
    "**6. [1 балл]** Для каждого из них найдите среднеквадратическую ошибку на обучающих данных и на тестовых данных: $\\frac1{n}\\sum_{i=1}^n\\left( \\hat{f}_k(x_i) - y_i \\right)^2$ (в первом случае сумма ведётся по парам $(x_i, y_i)$ из обучающих данных, а во втором — по парам из тестовых данных)."
   ]
  },
  {
   "cell_type": "code",
   "execution_count": 87,
   "metadata": {
    "id": "1J3cBlupqOQS"
   },
   "outputs": [
    {
     "name": "stdout",
     "output_type": "stream",
     "text": [
      "1) тренировночне данные 0.2968966332625196, тестовые данные 0.4351202004048883\n",
      "2) тренировночне данные 0.26969891587669137, тестовые данные 0.35647628878312115\n",
      "3) тренировночне данные 0.26949718714796106, тестовые данные 0.35534645715184604\n",
      "4) тренировночне данные 0.2610665330579276, тестовые данные 0.44172701892945626\n",
      "5) тренировночне данные 0.24998504648317524, тестовые данные 0.5579732021845734\n",
      "6) тренировночне данные 0.18829348988370678, тестовые данные 2.581692933527579\n",
      "7) тренировночне данные 0.18539621153294336, тестовые данные 2.515782901868329\n",
      "8) тренировночне данные 0.1590555657908874, тестовые данные 4.357288056065126\n",
      "9) тренировночне данные 0.15847184274742868, тестовые данные 4.776344678800605\n",
      "10) тренировночне данные 0.1531661110377196, тестовые данные 14.631868658080236\n"
     ]
    }
   ],
   "source": [
    "#╰( ͡° ͜ʖ ͡° )つ──☆*:・ﾟ\n",
    "rmse_train = list()\n",
    "rmse_test = list()\n",
    "for i in range(len(a_list)):\n",
    "    temp_train = 0\n",
    "    temp_test = 0\n",
    "    for j in range(len(X_train)):\n",
    "        temp_train_res = 0\n",
    "        temp_test_res = 0\n",
    "        for k in range(len(a_list[i])):\n",
    "            temp_train_res += (X_train[j] ** k) * a_list[i][k]\n",
    "            temp_test_res += (X_test[j] ** k) * a_list[i][k]\n",
    "        temp_train += ((temp_train_res - y_train[j]) ** 2) / len(X_train)\n",
    "        temp_test += ((temp_test_res - y_test[j]) ** 2) / len(X_test)\n",
    "    rmse_test.append(temp_test)\n",
    "    rmse_train.append(temp_train)\n",
    "for i in range(len(rmse_train)):\n",
    "    print(f'{i + 1}) тренировночне данные {rmse_train[i]}, тестовые данные {rmse_test[i]}')"
   ]
  },
  {
   "cell_type": "markdown",
   "metadata": {
    "id": "xpScehMYqOQS"
   },
   "source": [
    "**7. [0.75 балла]** Для $k = 1,2,3,4,5,6$ нарисуйте графики полученных многочленов на одном чертеже вместе с точками $(x_i, y_i)$ из обеих выборок (возможно, график стоит сделать побольше; это делается командой `plt.figure(figsize=(width, height))`)."
   ]
  },
  {
   "cell_type": "code",
   "execution_count": 93,
   "metadata": {
    "id": "hofYSv0oqOQS"
   },
   "outputs": [
    {
     "data": {
      "text/plain": [
       "<matplotlib.legend.Legend at 0x7fbaf9377550>"
      ]
     },
     "execution_count": 93,
     "metadata": {},
     "output_type": "execute_result"
    },
    {
     "data": {
      "image/png": "[encoded data removed]",
      "text/plain": [
       "<Figure size 1000x1000 with 1 Axes>"
      ]
     },
     "metadata": {},
     "output_type": "display_data"
    }
   ],
   "source": [
    "#╰( ͡° ͜ʖ ͡° )つ──☆*:・ﾟ\n",
    "color = ['r', 'g', 'b', 'c', 'm', 'y']\n",
    "plt.figure(figsize=(10, 10))\n",
    "plt.ylim(-3, 9)\n",
    "for i in range (1, 7):\n",
    "    x_i = np.vander(dist, i + 1, increasing=True)\n",
    "    y_i = np.sum(a_list[i - 1] * x_i, axis=1)\n",
    "    plt.plot(dist, y_i, c = color[i-1], label = f'{i}-я степень')\n",
    "plt.xlabel('X')\n",
    "plt.ylabel('Y')\n",
    "plt.title('Точки из trin и test')\n",
    "plt.scatter(x_list_train, y_list_train, c = 'r', s = 15, label = 'Данные train')\n",
    "plt.scatter(x_list_test, y_list_test, c = 'b', s = 15, label = 'Данные test')\n",
    "plt.legend()"
   ]
  },
  {
   "cell_type": "markdown",
   "metadata": {
    "id": "ParzqKySqOQT"
   },
   "source": [
    "**8. [0.5 балла]** Что происходит с ошибкой при росте степени многочлена? Казалось бы, чем больше степень, тем более сложным будет многочлен и тем лучше он будет приближать нашу функцию. Подтверждают ли это ваши наблюдения? Как вам кажется, чем объясняется поведение ошибки на тестовых данных при $k = 10$? Как, по вашему мнению, в машинном обучении называется наблюдаемый вами эффект?"
   ]
  },
  {
   "cell_type": "markdown",
   "metadata": {
    "id": "jkyipwBZqOQT"
   },
   "source": [
    "╰( ͡° ͜ʖ ͡° )つ──☆*:・ﾟ\n",
    "При росте сепени многочлена график функции сильнее приблежается к точкам train, но отдаляется от точек test. Наблюдения подтверждаются частично, а именно потому что чем больше мы увеличиваем степень, тем больше мы приближаем нашу функцию к train-точкам (поскольку мы искали псевдорешение именно для их системы). Наша функция всё лучше и лучше подходит для train-значений и всё хуже подходит для других (в частоности и для test). Этот эффект называется переобучение."
   ]
  },
  {
   "cell_type": "markdown",
   "metadata": {
    "id": "dqDO2JvrqOQT"
   },
   "source": [
    "### Задание 2. Линейная регрессия (3.5 балла)"
   ]
  },
  {
   "cell_type": "markdown",
   "metadata": {
    "id": "q2SeG4JXqOQT"
   },
   "source": [
    "Скачайте файлы ``flats_moscow_mod.txt`` и ``flats_moscow_description.txt``. В первом из них содержатся данные о квартирах в Москве. Каждая строка содержит шесть характеристик некоторой квартиры, разделённые знаками табуляции; в первой строке записаны кодовые названия характеристик. Во втором файле приведены краткие описания признаков."
   ]
  },
  {
   "cell_type": "markdown",
   "metadata": {
    "id": "ujhqvIceqOQT"
   },
   "source": [
    "**0. [0 баллов]** Разделите выборку на обучающую и тестовую. Делать это лучше случайным образом (ведь вы не знаете, как создатели датасета упорядочили объекты); рекомендуем вам для этого функцию `sklearn.model_selection.train_test_split` с параметром `test_size=0.3`. Не забудьте зафиксировать параметр `random_state`."
   ]
  },
  {
   "cell_type": "code",
   "execution_count": 68,
   "metadata": {
    "id": "VyTvlY47qOQT"
   },
   "outputs": [],
   "source": [
    "#╰( ͡° ͜ʖ ͡° )つ──☆*:・ﾟ\n",
    "import numpy as np\n",
    "import matplotlib.pyplot as plt\n",
    "from sklearn.model_selection import train_test_split\n",
    "\n",
    "all_data = np.loadtxt(\"/Users/pavelblohin/Downloads/drive-download-20230327T151645Z-001/flats_moscow_mod.txt\", delimiter=\"\\t\", skiprows=1)\n",
    "data_train, data_test = train_test_split(all_data, test_size=0.3, random_state=2)\n"
   ]
  },
  {
   "cell_type": "markdown",
   "metadata": {
    "id": "SaNTUg0AqOQT"
   },
   "source": [
    "**1. [0.5 балла]** Вашей задачей будет построить с помощью метода наименьших квадратов (линейную) зависимость между ценой квартиры и остальными доступными параметрами. С помощью известных вам формул найдите регрессионные коэффициенты. Выпишите построенную модель."
   ]
  },
  {
   "cell_type": "code",
   "execution_count": 69,
   "metadata": {
    "id": "XEljbR-wqOQT"
   },
   "outputs": [
    {
     "name": "stdout",
     "output_type": "stream",
     "text": [
      "price = 2.0943 * totsp + 0.4212 * livesp + 0.4958 * kitsp + -3.5846 * dist + -1.3132 * metrdist\n"
     ]
    }
   ],
   "source": [
    "#╰( ͡° ͜ʖ ͡° )つ──☆*:・ﾟ\n",
    "price_train = np.array([data_train[:, 0]]).T\n",
    "other_train = data_train[:, 1:]\n",
    "a = np.linalg.inv(other_train.T @ other_train) @ other_train.T @ price_train\n",
    "\n",
    "print(f\"price = {a[0][0]:.4f} * totsp + {a[1][0]:.4f} * livesp + {a[2][0]:.4f} * kitsp + {a[3][0]:.4f} * dist + {a[4][0]:.4f} * metrdist\")"
   ]
  },
  {
   "cell_type": "markdown",
   "metadata": {
    "id": "5bJZj-FnqOQU"
   },
   "source": [
    "**2. [0.25 балла]** Какой смысл имеют их знаки? Согласуются ли они с вашими представлениями о жизни?"
   ]
  },
  {
   "cell_type": "markdown",
   "metadata": {
    "id": "vktQsPdWqOQU"
   },
   "source": [
    "╰( ͡° ͜ʖ ͡° )つ──☆*:・ﾟ\n",
    "Исходя из данных размер всей квратиры, жилогой площади и кухни имеют положительные коэф. : значит чем больше квратира тем дороже она стоит. Больше всего влияет общая площадь и жилая площадь, меньше влияет размер кухни. Расстояние от центра и метро имеют отрицательные коэф. что означает чем дальше квартира от метро и центра города тем она дешевле. И ведь действительно это так, чем ближе квартира к центру, тем лучше инфраструктура, а значит всё необходимое в шаговой доступности. Расстояние от метро играет чуть меньшую роль, но чем оно меньше тем лучше для жильца, есть возможность добраться например до центра или человек не обладает собственным транспортным средством, почему и вынужден пользоваться общесвтенным. Могу предположить что расстояние до метро влияет чуть меньше, поскольку рядом с ним может шумно. В целом данные  коэф. согласуются с моими представлениями о жизни."
   ]
  },
  {
   "cell_type": "markdown",
   "metadata": {
    "id": "lmsbkMMzqOQU"
   },
   "source": [
    "**3. [0.25 балла]** Оцените качество приближения, вычислив среднеквадратическую ошибку на тестовой выборке."
   ]
  },
  {
   "cell_type": "code",
   "execution_count": 70,
   "metadata": {
    "id": "4W2zfjDBqOQU"
   },
   "outputs": [
    {
     "name": "stdout",
     "output_type": "stream",
     "text": [
      "1157.6956058063356\n"
     ]
    }
   ],
   "source": [
    "#╰( ͡° ͜ʖ ͡° )つ──☆*:・ﾟ\n",
    "price_test = np.array([data_test[:, 0]]).T\n",
    "other_test = data_test[:, 1:]\n",
    "rmse_test = 0\n",
    "\n",
    "for i in range(len(price_test)):\n",
    "    temp_sum = 0\n",
    "    for j in range(len(a)):\n",
    "        temp_sum += a[j][0] * other_test[i][j]\n",
    "    rmse_test += ((temp_sum - price_test[i]) ** 2)\n",
    "rmse_test = float(rmse_test / len(price_test))\n",
    "\n",
    "print(rmse_test)"
   ]
  },
  {
   "cell_type": "markdown",
   "metadata": {
    "collapsed": true,
    "id": "Hlx8rdo7qOQU"
   },
   "source": [
    "### Усложнение модели"
   ]
  },
  {
   "cell_type": "markdown",
   "metadata": {
    "id": "_XYUBuuKqOQU"
   },
   "source": [
    "Конечно, никто не гарантирует, что объясняемая переменная (цена квартиры) зависит от остальных характеристик именно линейно. Зависимость может быть, например, квадратичной или логарифмической; больше того, могут быть важны не только отдельные признаки, но и их комбинации. Это можно учитывать, добавляя в качестве дополнительных признаков разные функции от уже имеющихся характеристик: их квадраты, логарифмы, попарные произведения."
   ]
  },
  {
   "cell_type": "markdown",
   "metadata": {
    "id": "Al0tSMRzqOQU"
   },
   "source": [
    "В этом задании вам нужно постараться улучшить качество модели, добавляя дополнительные признаки, являющиеся функциями от уже имеющихся. Но будьте осторожны: чрезмерное усложнение модели будет приводить к переобучению."
   ]
  },
  {
   "cell_type": "markdown",
   "metadata": {
    "id": "xcMvA2eCqOQV"
   },
   "source": [
    "**4. [0.25 балла]** Опишите признаки, которые вы решили добавить. Объясните, чем был мотивирован выбор именно этих признаков."
   ]
  },
  {
   "cell_type": "markdown",
   "metadata": {
    "id": "sg80itXGqOQV"
   },
   "source": [
    "╰( ͡° ͜ʖ ͡° )つ──☆*:・ﾟ\n",
    "Я заменил площадь кварьтиры и площадь кухни на их квадраты, поскольку по моему размеры квартиры и кухни(где семья проводит большУю часть своего времени) часто становиться решающим фактором при покупке квартиры. так же добавил отношение расстоние от центра города до метро, поскольку если мы отдалимся от центра, но метро будет в шаговой доступности, скорее всего он выберет этот вариант (чуть дальше от шумного центра, а добраться до него можно быстро)"
   ]
  },
  {
   "cell_type": "markdown",
   "metadata": {
    "id": "GzWK2iAAqOQV"
   },
   "source": [
    "**5. [2 балла]** Постройте с помощью метода наименьших квадратов (линейную) зависимость между ценой квартиры и новыми признаками. С помощью известных вам формул найдите регрессионные коэффициенты. Выпишите построенную модель."
   ]
  },
  {
   "cell_type": "code",
   "execution_count": 76,
   "metadata": {
    "id": "gBTFofg6qOQV"
   },
   "outputs": [
    {
     "name": "stdout",
     "output_type": "stream",
     "text": [
      "price = 0.0082 * totsp^2 + 2.2661 * livesp^2 + 0.0440 * kitsp + -2.7072 * dist + -0.2403 * metrdist + 0.0863 * dist/metrdist\n"
     ]
    }
   ],
   "source": [
    "#╰( ͡° ͜ʖ ͡° )つ──☆*:・ﾟ\n",
    "price_train = np.copy(np.array([data_train[:, 0]]).T)\n",
    "other_train = np.copy(data_train[:, 1:])\n",
    "\n",
    "new_totsp = []\n",
    "new_kitsp = []\n",
    "for i in range(len(other_train)):\n",
    "    new_totsp.append(other_train[i][0] ** 2)\n",
    "    new_kitsp.append(other_train[i][2] ** 2)\n",
    "for i in range(len(new_totsp)):\n",
    "    other_train[i][0] = new_totsp[i]\n",
    "    other_train[i][2] = new_kitsp[i]\n",
    "\n",
    "dist_list = []\n",
    "for i in range(len(other_train)):\n",
    "    dist_list.append((other_train[i][3]) / (other_train[i][4] * 0.05))\n",
    "other_train = np.concatenate((other_train, np.array([dist_list]).T), axis=1)\n",
    "\n",
    "a1 = np.linalg.inv(other_train.T @ other_train) @ other_train.T @ price_train\n",
    "\n",
    "print(f\"price = {a1[0][0]:.4f} * totsp^2 + {a1[1][0]:.4f} * livesp^2 + {a1[2][0]:.4f} * kitsp + {a1[3][0]:.4f} * dist + {a1[4][0]:.4f} * metrdist + {a1[5][0]:.4f} * dist/metrdist\")\n"
   ]
  },
  {
   "cell_type": "markdown",
   "metadata": {
    "id": "YZmgNGJ6qOQV"
   },
   "source": [
    "**6. [0.25 балла]** Оцените качество приближения, вычислив среднеквадратическую ошибку на тестовой выборке."
   ]
  },
  {
   "cell_type": "code",
   "execution_count": 77,
   "metadata": {
    "id": "0V6MvEGTqOQV"
   },
   "outputs": [
    {
     "name": "stdout",
     "output_type": "stream",
     "text": [
      "Погрешность: 980.708585198835\n"
     ]
    }
   ],
   "source": [
    "#╰( ͡° ͜ʖ ͡° )つ──☆*:・ﾟ\n",
    "price_test1 = np.copy(np.array([data_test[:, 0]]).T)\n",
    "other_test1 = np.copy(data_test[:, 1:])\n",
    "\n",
    "new_totsp1 = []\n",
    "new_kitsp1 = []\n",
    "for i in range(len(other_test1)):\n",
    "    new_totsp1.append(other_test1[i][0] ** 2)\n",
    "    new_kitsp1.append(other_test1[i][2] ** 2)\n",
    "for i in range(len(new_totsp1)):\n",
    "    other_test1[i][0] = new_totsp1[i]\n",
    "    other_test1[i][2] = new_kitsp1[i]\n",
    "\n",
    "dist_list1 = []\n",
    "for i in range(len(other_test1)):\n",
    "    dist_list1.append((other_test1[i][3]) / (other_test1[i][4] * 0.05))\n",
    "other_test2 = np.concatenate((other_test1, np.array([dist_list1]).T), axis=1)\n",
    "\n",
    "rmse_test = 0\n",
    "for i in range(len(price_test1)):\n",
    "    temp_sum = 0\n",
    "    for j in range(len(a1)):\n",
    "        temp_sum += a1[j][0] * other_test2[i][j]\n",
    "    rmse_test += ((temp_sum - price_test1[i]) ** 2)\n",
    "rmse_test = float(rmse_test / len(price_test1))\n",
    "print(f'Погрешность: {rmse_test}')"
   ]
  },
  {
   "cell_type": "markdown",
   "metadata": {
    "id": "HLfo4lHxqOQV"
   },
   "source": [
    "### Задание 3. Регуляризация (3.5 балла)"
   ]
  },
  {
   "cell_type": "markdown",
   "metadata": {
    "id": "FYxo3T5qqOQV"
   },
   "source": [
    "Вспомним, что задача линейной регрессии формулируется как задача нахождения проекции вектора значений объясняемой переменной $y$ на линейную оболочку $\\langle x_1,\\ldots,x_k\\rangle$ векторов значений регрессоров. Если векторы $x_1,\\ldots,x_k$ линейно зависимы, то матрица $X^TX$ вырожденна и задача не будет решаться с помощью приведённой выше формулы. В жизни, по счастью, различные признаки редко бывают *в точности* линейно зависимы, однако во многих ситуациях они скоррелированы и становятся \"почти\" линейно зависимыми. Таковы, к примеру, зарплата человека, его уровень образования, цена машины и суммарная площадь недвижимости, которой он владеет. В этом случае матрица $X^TX$ будет близка к вырожденной, и это приводит к численной неустойчивости и плохому качеству решений; как следствие, будет иметь место переобучение. Один из симптомов этой проблемы — необычно большие по модулю компоненты вектора $a$.\n",
    "\n",
    "Есть много способов борьбы с этим злом. Один из них — регуляризация. Сейчас мы рассмотрим одну из её разновидностей — **L2-регуляризацию**. Идея в том, чтобы подправить матрицу $X^TX$, сделав её \"получше\". Например, это можно сделать, заменив её на $(X^TX + \\lambda E)$, где $\\lambda > 0$ — некоторый скаляр. Пожертвовав точностью на обучающей выборке, мы тем не менее получаем численно более стабильное псевдорешение $a = (X^TX + \\lambda E)^{-1}X^Ty$ и снижаем эффект переобучения. *Гиперпараметр* $\\lambda$ нужно подбирать, и каких-то универсальных способов это делать нет, но зачастую можно его подобрать таким, чтобы ошибка на тестовой выборке падала.\n",
    "\n",
    "Однако есть некоторые правила, которых стоит придерживаться при подборе коэффициента регуляризации. Обычно в такой ситуации всю выборку делят на три части: обучающую, *валидационную* и тестовую. Сначала по валидационной подбирают значение гиперпараметра, потом по обучающей строят модель, а по тестовой оценивают её итоговое качество. Кроме того, подбирать $\\lambda$ нужно по логарифметической сетке, чтобы узнать оптимальный порядок величины."
   ]
  },
  {
   "cell_type": "markdown",
   "metadata": {
    "id": "drc2I8QkqOQW"
   },
   "source": [
    "**1. [0.25 балла]** Почему не стоит подбирать коэффициент регуляризации по обучающей выборке? По тестовой выборке?"
   ]
  },
  {
   "cell_type": "markdown",
   "metadata": {
    "id": "dj18QOSMqOQW"
   },
   "source": [
    "╰( ͡° ͜ʖ ͡° )つ──☆*:・ﾟ\n",
    "Во первых это одно из главных правил регуляризации, подбирать гипер параметр нужно по третьей(валидационной) выборке данных. Мы стараемся найти более стабильное псеводорешение (подправить матрицу, чтобы она была лучше и более отдалённой от вырожденной), поэтому, если подбирать коэф. по тестовой или тренировочной выборке, велик шанс переобучения и на других данных мы получим менее точный результат."
   ]
  },
  {
   "cell_type": "markdown",
   "metadata": {
    "id": "fsVCD8uqqOQW"
   },
   "source": [
    "**2. [0 баллов]** Теперь давайте вспомним первую задачу. Если вы её сделали, то помните, что ошибка аппроксимации многочленом шестой степени довольно высокая. Попытаемся использовать регуляризацию при построении модели. Поделите обучающую выборку из первой задачи на две части, одну из которых объявите обучающей, а другую — валидационной (будьте осторожны при выборе `train_size`, в этой выборке не так много данных)."
   ]
  },
  {
   "cell_type": "code",
   "execution_count": 113,
   "metadata": {
    "id": "bQw3VuFRqOQW"
   },
   "outputs": [],
   "source": [
    "#╰( ͡° ͜ʖ ͡° )つ──☆*:・ﾟ\n",
    "import numpy as np\n",
    "import matplotlib.pyplot as plt\n",
    "from sklearn.model_selection import train_test_split\n",
    "\n",
    "data_train_validate = np.loadtxt('/Users/pavelblohin/Downloads/drive-download-20230327T151645Z-001/train.txt', delimiter=',')\n",
    "data_test = np.loadtxt('/Users/pavelblohin/Downloads/drive-download-20230327T151645Z-001/test.txt', delimiter=',')\n",
    "data_train, data_validate = train_test_split(data_train_validate, test_size=0.4, random_state=1)"
   ]
  },
  {
   "cell_type": "markdown",
   "metadata": {
    "id": "xymHWtPDqOQW"
   },
   "source": [
    "**3. [0.75 балла]** Убедитесь, что, используя регуляризацию с хорошо подобранным коэффициентом $\\lambda$, ошибку на тестовой выборке можно сделать не больше, чем для многочлена оптимальной степени в модели без регуляризации."
   ]
  },
  {
   "cell_type": "code",
   "execution_count": 165,
   "metadata": {
    "id": "Bl8KmMIUqOQW"
   },
   "outputs": [
    {
     "name": "stdout",
     "output_type": "stream",
     "text": [
      "Предыдущая ошибка при 6 степени: 2.581692933527579\n",
      "Предыдущая минимальная ошибка: 0.35534645715184604\n",
      "Ошибка с учётом регуляризации при 6 степени: 0.3079779010508695\n",
      "Гиперпараметр  𝜆: 1.023292992280754\n"
     ]
    }
   ],
   "source": [
    "#╰( ͡° ͜ʖ ͡° )つ──☆*:・ﾟ\n",
    "X_train = data_train[:,0]\n",
    "y_train = data_train[:,1]\n",
    "X_test = data_test[:,0]\n",
    "y_test = data_test[:,1]\n",
    "X_validate = data_validate[:,0]\n",
    "y_validate = data_validate[:,1]\n",
    "\n",
    "van_train = np.vander(X_train, N=7, increasing=True)\n",
    "\n",
    "space = np.logspace(0.01, 100, num = 1000)\n",
    "min_eror = 10e20\n",
    "gip_coef = 0 # гиперпараметр. лямда\n",
    "\n",
    "for l in space:\n",
    "    a = np.linalg.inv(van_train.T @ van_train + l * np.eye(len(van_train.T @ van_train))) @ van_train.T @ y_train\n",
    "    rmse_tmp = 0\n",
    "    for i in range(len(X_validate)):\n",
    "        tmp = 0 \n",
    "        for j in range(len(a)):\n",
    "            tmp += (X_validate[i] ** j) * a[j]\n",
    "        rmse_tmp += (tmp - y_validate[i]) ** 2\n",
    "        \n",
    "    a_coef2 = 0\n",
    "    for i in range(len(a)):\n",
    "        a_coef2 += a[i] ** 2\n",
    "   \n",
    "    if (rmse_tmp + l * a_coef2) < min_eror:\n",
    "        min_eror = rmse_tmp + l * a_coef2\n",
    "        gip_coef = l\n",
    "\n",
    "a = np.linalg.inv(van_train.T @ van_train + gip_coef * np.eye(len(van_train.T @ van_train))) @ van_train.T @ y_train\n",
    "\n",
    "rmse = 0\n",
    "for i in range(len(X_test)):\n",
    "    tmp = 0\n",
    "    for j in range(len(a)):\n",
    "        tmp += (X_test[i] ** j) * a[j]\n",
    "    rmse += (tmp - y_test[i]) ** 2\n",
    "rmse /= len(X_test)\n",
    "print(f'Предыдущая ошибка при 6 степени: {rmse_test[5]}')\n",
    "print(f'Предыдущая минимальная ошибка: {rmse_test[2]}')\n",
    "print(f'Ошибка с учётом регуляризации при 6 степени: {rmse}')\n",
    "print(f'Гиперпараметр 𝜆: {gip_coef}')\n",
    "\n",
    "# Вывод: мы уменьшили среднеквадратическую ошибку"
   ]
  },
  {
   "cell_type": "markdown",
   "metadata": {
    "id": "oURPN62hqOQW"
   },
   "source": [
    "**4. [0.25 балла]** Для этого $\\lambda$ сравните $\\det(X^TX)$ и $\\det(X^TX + \\lambda E)$. Теоретически объясните полученный результат, доказав, что $\\det(X^TX+\\lambda E) > 0$ при $\\lambda>0$."
   ]
  },
  {
   "cell_type": "markdown",
   "metadata": {
    "id": "N70vmy1KqOQW"
   },
   "source": [
    "╰( ͡° ͜ʖ ͡° )つ──☆*:・ﾟ"
   ]
  },
  {
   "cell_type": "markdown",
   "metadata": {
    "id": "rl0oq4uvqOQX"
   },
   "source": [
    "**5. [0.25 балла]** Нарисуйте на одном чертеже графики многочленов шестой степени, приближающих неизвестную функцию, для модели с регуляризацией и без."
   ]
  },
  {
   "cell_type": "code",
   "execution_count": 162,
   "metadata": {
    "id": "fBvCVQYnqOQX"
   },
   "outputs": [
    {
     "data": {
      "text/plain": [
       "<matplotlib.legend.Legend at 0x7f84f0d57f10>"
      ]
     },
     "execution_count": 162,
     "metadata": {},
     "output_type": "execute_result"
    },
    {
     "data": {
      "image/png": "[encoded data removed]",
      "text/plain": [
       "<Figure size 640x480 with 1 Axes>"
      ]
     },
     "metadata": {},
     "output_type": "display_data"
    }
   ],
   "source": [
    "#╰( ͡° ͜ʖ ͡° )つ──☆*:・ﾟ\n",
    "\n",
    "# для подсчёта по старым данным: без раздедения на train и validate\n",
    "X_train_old = data_train_validate[:,0]\n",
    "y_train_old = data_train_validate[:,1]\n",
    "van_train_old = np.vander(X_train_old, 7, increasing=True)\n",
    "a_old = np.linalg.inv(van_train_old.T @ van_train_old) @ van_train_old.T @ y_train_old\n",
    "\n",
    "# строим графики:\n",
    "dist = np.linspace(-1,1.1,1000)\n",
    "x_range = np.vander(dist, N=7, increasing=True)\n",
    "\n",
    "# списки точек\n",
    "x_list_train = [i for i in X_train_old]\n",
    "y_list_train = [i for i in y_train_old]\n",
    "x_list_test = [i for i in X_test]\n",
    "y_list_test = [i for i in y_test]\n",
    "\n",
    "plt.xlabel('X')\n",
    "plt.ylabel('Y')\n",
    "plt.title('Точки из trin и test')\n",
    "\n",
    "plt.scatter(x_list_train, y_list_train, c = 'r', s = 15, label = 'Данные train')\n",
    "plt.scatter(x_list_test, y_list_test, c = 'b', s = 15, label = 'Данные test')\n",
    "\n",
    "y_old = np.sum(a_old * x_range, axis=1)\n",
    "y = np.sum(a * x_range, axis=1)\n",
    "\n",
    "plt.ylim(-3,9)\n",
    "plt.xlim(-0.5, 1.1)\n",
    "plt.plot(dist, y_old, c = 'y', label = 'Без регуляризации')\n",
    "plt.plot(dist, y, c = 'g', label = 'С регуляризации')\n",
    "plt.legend()"
   ]
  },
  {
   "cell_type": "markdown",
   "metadata": {
    "id": "Ue7wuRSmqOQX"
   },
   "source": [
    "**6. [0.25 балла]** Чем первый из них выгодно отличается от второго?"
   ]
  },
  {
   "cell_type": "markdown",
   "metadata": {
    "id": "WkpFHQRjqOQX"
   },
   "source": [
    "╰( ͡° ͜ʖ ͡° )つ──☆*:・ﾟ\n",
    "Наш график более плавый, в нём меньше перегибов и на нём лучше видна зависимость, по ней проще предсказывать результаты, поскльку нет резких непредсказуемых скачков, и в среднем предсказание будет точнее для разных данных, а без регуляризации алгоритм переобучен на train данных и среднеквадратическая ошибка на много больше"
   ]
  },
  {
   "cell_type": "markdown",
   "metadata": {
    "id": "3iMIX5tZqOQX"
   },
   "source": [
    "**7. [0.75 балла]** Пусть заданы $X\\in \\text{Mat}_{n \\times k}(\\mathbb{R})$ ($k \\leqslant n$), $y \\in \\mathbb{R}^n$, $\\lambda \\geqslant 0$, а также известно, что $\\text{rk}~X = k$. Решите теоретически следующую задачу оптимизации:\n",
    "$$|Xa - y|^2 + \\lambda|a|^2\\rightarrow\\min\\limits_{a \\in \\mathbb{R}^k}.$$\n",
    "(То есть найдите все векторы $a \\in \\mathbb{R}^k$, для которых выражение слева принимает наименьшее возможное значение.) В частности, докажите существование решений и укажите их количество в зависимости от входных данных."
   ]
  },
  {
   "cell_type": "markdown",
   "metadata": {
    "id": "kn3zeYm8qOQX"
   },
   "source": [
    "╰( ͡° ͜ʖ ͡° )つ──☆*:・ﾟ"
   ]
  },
  {
   "cell_type": "markdown",
   "metadata": {
    "id": "qyty-nT4qOQX"
   },
   "source": [
    "Интуитивно это можно понимать так: мы ищем компромисс между минимизацией длины разности $|Xa - y|$ (то есть точностью решения задачи регрессии) и тем, чтобы компоненты вектора $a$ не становились слишком большими по модулю."
   ]
  },
  {
   "cell_type": "markdown",
   "metadata": {
    "id": "hYVu62REqOQY"
   },
   "source": [
    "**8. [0.25 балла]** Попробуйте объяснить, почему регуляризовать (штрафовать за слишком большую абсолютную величину) коэффициент при константном признаке (который состоит из одних единиц) — плохая идея."
   ]
  },
  {
   "cell_type": "markdown",
   "metadata": {
    "id": "9huVuXRwqOQY"
   },
   "source": [
    "╰( ͡° ͜ʖ ͡° )つ──☆*:・ﾟРегулязировать коэф. при константном признаке плохо, потому что он уже стараеться приблизить нашу зависимость. Когда мы учитываем его при регуляризации мы меняем наш константный сдвиг, который и так приближал нашу систему к верному решению. Также, при очень больших константах, например как атмосферное давление (очень большое чиселко) \"наше сжатие коэф.\" не сильно на него повлияе и вообще не будет менять точность. Но чаще всего это только уменьшит точность"
   ]
  },
  {
   "cell_type": "markdown",
   "metadata": {
    "id": "U_fJfTQmqOQY"
   },
   "source": [
    "**9. [0.5 балла]** Пусть теперь $\\text{rk}~X < k$. Всегда ли в этом случае существует решение? Если существует, то является ли оно единственным? Ответ обоснуйте."
   ]
  },
  {
   "cell_type": "markdown",
   "metadata": {
    "id": "FXHRvj3kqOQY"
   },
   "source": [
    "╰( ͡° ͜ʖ ͡° )つ──☆*:・ﾟ"
   ]
  },
  {
   "cell_type": "markdown",
   "metadata": {
    "id": "StfBsh05qOQY"
   },
   "source": [
    "**10. [0.25 балла]** Покажите теоретически, что если решений бесконечно много, то среди них обязательно найдутся решения со сколь угодно большими по модулю компонентами вектора $a$. Почему большие веса в линейной модели — плохо?"
   ]
  },
  {
   "cell_type": "markdown",
   "metadata": {
    "id": "U46zoG88qOQY"
   },
   "source": [
    "╰( ͡° ͜ʖ ͡° )つ──☆*:・ﾟ"
   ]
  },
  {
   "cell_type": "markdown",
   "metadata": {
    "id": "C5AyMk6rqOQZ"
   },
   "source": [
    "### Задание 4. Онлайн-обучение линейной регрессии (3 балла)"
   ]
  },
  {
   "cell_type": "markdown",
   "metadata": {
    "id": "xI-JbvXzqOQZ"
   },
   "source": [
    "Раньше мы работали в ситуации, когда объекты $x_i$ и значения $y_i$ даны с самого начала и всегда доступны. Допустим теперь, что пары $(x_i, y_i)$ поступают к нам по одной и мы не можем себе позволить хранить их все в памяти (это может быть актуально, например, если вы пытаетесь обучить модель на устройстве со сравнительно небольшим количеством оперативной памяти: скажем, на мобильном телефоне или на бортовом компьютере спутника связи). В этом случае нам нужно уметь решать следующую задачу:\n",
    "\n",
    "**Известно:** решение задачи регрессии для датасета $(x_1, y_1),\\ldots,(x_t,y_t)$;\n",
    "\n",
    "**На вход поступает:** новая пара $(x_{t+1}, y_{t+1})$;\n",
    "\n",
    "**Требуется:** быстро (за время, не зависящее от $t$) отыскать решение задачи регрессии для расширенного датасета $(x_1, y_1),\\ldots,(x_t,y_t),(x_{t+1}, y_{t+1})$."
   ]
  },
  {
   "cell_type": "markdown",
   "metadata": {
    "id": "trXdoqPfqOQZ"
   },
   "source": [
    "Обозначим $X_{(t)} = (x_1\\ldots x_t)^T$ и $y_{(t)} = (y_1,\\ldots,y_t)^T$. Тогда, как мы хорошо помним, решение задачи регрессии для датасета $(x_1, y_1),\\ldots,(x_t,y_t)$ имеет вид $\\hat{a}_{(t)} = \\left(X^T_{(t)}X_{(t)}\\right)^{-1}X^T_{(t)}y_{(t)}$. Размеры матриц $X^T_{(t)}X_{(t)}$ и $X^T_{(t)}y_{(t)}$ не зависят от $t$, поэтому их мы, пожалуй, можем себе позволить хранить в памяти."
   ]
  },
  {
   "cell_type": "markdown",
   "metadata": {
    "id": "dVMx4fCyqOQZ"
   },
   "source": [
    "**1. [1 балл]** И вот ваше первое задание в этом разделе: придумайте алгоритм, принимающий на вход матрицы $X^T_{(t)}X_{(t)}$ и $X^T_{(t)}y_{(t)}$, а также пару $(x_{t+1}, y_{t+1})$, и вычисляющий матрицы $X^T_{(t+1)}X_{(t+1)}$ и $X^T_{(t+1)}y_{(t+1)}$. Сложность вашего алгоритма не должна зависеть от $t$. Опишите ваш алгоритм теоретически и обоснуйте его сложность."
   ]
  },
  {
   "cell_type": "markdown",
   "metadata": {
    "id": "DO3cSnAQqOQZ"
   },
   "source": [
    "╰( ͡° ͜ʖ ͡° )つ──☆*:・ﾟПусть в нашей матрице изначально было t строк, тогда в новой t + 1, получим новую матрицу грамма 𝑋𝑇(𝑡+1)𝑋(𝑡+1), значит по отношению к старой (𝑋𝑇(𝑡)𝑋(𝑡)) в 𝑋𝑇(𝑡+1) добавился справа столбец, а в 𝑋(𝑡+1) протсто добавилась снизу строка. Также размер этой матрицы не зависит от t, а зависит только от количества регрессеров.\n",
    "тогда к каждому i-ому j-му элементу матрицы грамма ( 𝑋𝑇(𝑡+1)𝑦(𝑡+1) ) надо добвать произведение i-ого на j-ый элемент новой пары данных (𝑥𝑡+1,𝑦𝑡+1), сложность этого алгоритма зависит опять таки только от регрессеров ^ 2, для 𝑋𝑇(𝑡)𝑦(𝑡) аналогичный алгортим."
   ]
  },
  {
   "cell_type": "markdown",
   "metadata": {
    "id": "roPL0vwzqOQZ"
   },
   "source": [
    "**2. [2 балла]** Теперь настало время написать немного кода и порисовать красивые картинки. Вам нужно будет реализовать симуляцию онлайн-обучения регрессии для задачи приближения функции (в данном случае $f_{true}(x) = 2x\\sin(5x) + x^2 - 1$; все значения искажены небольшим нормальным шумом) многочленом степени не выше 5."
   ]
  },
  {
   "cell_type": "code",
   "execution_count": 166,
   "metadata": {
    "id": "ehAVEhm6qOQa"
   },
   "outputs": [
    {
     "ename": "SyntaxError",
     "evalue": "invalid syntax (260758298.py, line 26)",
     "output_type": "error",
     "traceback": [
      "\u001b[0;36m  Cell \u001b[0;32mIn[166], line 26\u001b[0;36m\u001b[0m\n\u001b[0;31m    y_pred = #╰( ͡° ͜ʖ ͡° )つ──☆*:・ﾟ\u001b[0m\n\u001b[0m             ^\u001b[0m\n\u001b[0;31mSyntaxError\u001b[0m\u001b[0;31m:\u001b[0m invalid syntax\n"
     ]
    }
   ],
   "source": [
    "from IPython.display import clear_output\n",
    "\n",
    "f_true = lambda x: 2*x*np.sin(5*x) + x**2 - 1 # this is the true function\n",
    "\n",
    "# We need this to make the plot of f_true:\n",
    "x_grid = np.linspace(-2,5,100) # 100 linearly spaced numbers\n",
    "x_grid_enl = np.hstack((x_grid.reshape((100,1))**j for j in range(6)))\n",
    "y_grid = f_true(x_grid)\n",
    "\n",
    "\n",
    "for i in range(200):\n",
    "\n",
    "    x_new = np.random.uniform(-2, 5)\n",
    "    y_new = f_true(x_new) + 2*np.random.randn()\n",
    "    \n",
    "    #╰( ͡° ͜ʖ ͡° )つ──☆*:・ﾟ\n",
    "    \n",
    "    # the rest of the code is just bells and whistles\n",
    "    if (i+1)%5==0:\n",
    "        clear_output(True)\n",
    "        plt.plot(x_grid,y_grid, color='blue', label='true f')\n",
    "        plt.scatter(x_new, y_new, color='red')\n",
    "        \n",
    "        #╰( ͡° ͜ʖ ͡° )つ──☆*:・ﾟ\n",
    "        \n",
    "        y_pred = #╰( ͡° ͜ʖ ͡° )つ──☆*:・ﾟ\n",
    "        \n",
    "        plt.scatter(x_grid, y_pred, color='orange', linewidth=5, label='predicted f')\n",
    "        \n",
    "        plt.legend(loc='upper left')\n",
    "        plt.show()"
   ]
  },
  {
   "cell_type": "markdown",
   "metadata": {
    "id": "GFW5dq7TqOQa"
   },
   "source": [
    "### Добавление. QR-разложение"
   ]
  },
  {
   "cell_type": "markdown",
   "metadata": {
    "id": "0YTcuQZqqOQa"
   },
   "source": [
    "**QR-разложением** матрицы $A$ (не обязательно квадратной) мы будем называть её представление в виде $A = QR$, где $Q$ — матрица с ортонормированными столбцами, а $R$ — верхнетреугольная матрица.\n",
    "\n",
    "Смысл QR-разложения следующий. Пусть $a_1,\\ldots,a_m$ — столбцы матрицы $A$, $q_1,\\ldots,q_t$ — столбцы матрицы $Q$. Тогда $q_1,\\ldots,q_t$ — это ортонормированный базис в подпространстве, являющемся линейной оболочкой векторов $a_1,\\ldots,a_m$, а в матрице $R$ записаны коэффициенты, с помощью которых $a_i$ выражаются через $q_1,\\ldots,q_t$.\n",
    "\n",
    "Находить QR-разложение заданной матрицы можно разными способами. Мы познакомим вас не с самым лучшим из них, но по крайней мере с наиболее простым концептуально. Заметим, что ортогональный базис линейной оболочки можно найти с помощью ортогонализации Грама-Шмидта. При этом коэффициенты из матрицы $R$ получаются в качестве побочного продукта этого процесса:\n",
    "\n",
    "```python\n",
    "for j = 1...n:\n",
    "    q_j = a_j\n",
    "    for i = 1,...,j-1:\n",
    "        r_ij = (q_i, a_j)\n",
    "        q_j = q_j - r_ij * q_i\n",
    "    r_jj = |q_j|\n",
    "    if r_jj == 0: # a_j in <a_1,...,a_j-1>\n",
    "        # What would you do in this case?..\n",
    "    q_j = q_j / r_jj\n",
    "```\n",
    "\n",
    "Для нахождения QR-разложения вы можете использовать библиотечную функцию `scipy.linalg.qr`."
   ]
  },
  {
   "cell_type": "markdown",
   "metadata": {
    "id": "Zpwq9fXVqOQa"
   },
   "source": [
    "Поскольку лабораторная про линейную регрессию, не так-то просто замять вопрос о том, какое же отношение QR-разложение имеет к задаче регрессии. Упомянем одно из возможных применений.\n",
    "\n",
    "Допустим, мы нашли QR-разложение матрицы $X$, а именно: $X = QR$. Тогда\n",
    "$$X^TX = (QR)^T(QR) = R^TQ^TQR = R^TR$$"
   ]
  },
  {
   "cell_type": "markdown",
   "metadata": {
    "id": "dAw3yCcDqOQa"
   },
   "source": [
    "Поскольку в задаче регрессии матрица $X$ обычного полного ранга (то есть её столбцы линейно независимы), матрица $R$ будет квадратной. Благодаря этому нашу обычную формулу для набора регрессионных коэффициентов $\\hat{a}$ можно переписать в следующем виде:\n",
    "\n",
    "$$\\hat{a} = (X^TX)^{-1}X^Ty = (R^TR)^{-1}(QR)^Ty = R^{-1}(R^T)^{-1}R^TQ^Ty = R^{-1}Q^Ty$$\n",
    "\n",
    "Как видите, формула стала проще. Более того, зачастую обращение матрицы $R$ может быть численно более устойчиво, чем обращение матрицы $X^TX$."
   ]
  }
 ],
 "metadata": {
  "colab": {
   "provenance": []
  },
  "kernelspec": {
   "display_name": "Python 3 (ipykernel)",
   "language": "python",
   "name": "python3"
  },
  "language_info": {
   "codemirror_mode": {
    "name": "ipython",
    "version": 3
   },
   "file_extension": ".py",
   "mimetype": "text/x-python",
   "name": "python",
   "nbconvert_exporter": "python",
   "pygments_lexer": "ipython3",
   "version": "3.10.9"
  }
 },
 "nbformat": 4,
 "nbformat_minor": 1
}
