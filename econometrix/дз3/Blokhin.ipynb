{
 "cells": [
  {
   "cell_type": "markdown",
   "metadata": {},
   "source": [
    "# Домашнее задание по метрике №3\n",
    "\n",
    "Работу выполнял Блохин Павел Сергеевич ЭАД222, id - 14\n",
    "\n",
    "year = 2023\n",
    "\n",
    "industry = НАУКА, КУЛЬТУРА\n",
    "\n",
    "region = все\n"
   ]
  },
  {
   "cell_type": "code",
   "execution_count": 12,
   "metadata": {},
   "outputs": [],
   "source": [
    "import polars as pl\n",
    "import pandas as pd \n",
    "import numpy as np\n",
    "import statsmodels.api as sm # type: ignore\n",
    "import matplotlib.pyplot as plt\n",
    "import seaborn as sns"
   ]
  },
  {
   "cell_type": "code",
   "execution_count": 1,
   "metadata": {},
   "outputs": [
    {
     "data": {
      "text/html": [
       "<div>\n",
       "<style scoped>\n",
       "    .dataframe tbody tr th:only-of-type {\n",
       "        vertical-align: middle;\n",
       "    }\n",
       "\n",
       "    .dataframe tbody tr th {\n",
       "        vertical-align: top;\n",
       "    }\n",
       "\n",
       "    .dataframe thead th {\n",
       "        text-align: right;\n",
       "    }\n",
       "</style>\n",
       "<table border=\"1\" class=\"dataframe\">\n",
       "  <thead>\n",
       "    <tr style=\"text-align: right;\">\n",
       "      <th></th>\n",
       "      <th>region</th>\n",
       "      <th>educ</th>\n",
       "      <th>age</th>\n",
       "      <th>female</th>\n",
       "      <th>industry</th>\n",
       "      <th>work_hours</th>\n",
       "      <th>wage</th>\n",
       "      <th>foreign_language</th>\n",
       "      <th>internet</th>\n",
       "      <th>alcohol</th>\n",
       "      <th>is_children</th>\n",
       "      <th>health</th>\n",
       "      <th>weight</th>\n",
       "      <th>height</th>\n",
       "      <th>smoke</th>\n",
       "      <th>year</th>\n",
       "    </tr>\n",
       "  </thead>\n",
       "  <tbody>\n",
       "    <tr>\n",
       "      <th>9</th>\n",
       "      <td>Краснодар</td>\n",
       "      <td>2</td>\n",
       "      <td>36,5</td>\n",
       "      <td>1</td>\n",
       "      <td>НАУКА, КУЛЬТУРА</td>\n",
       "      <td>8</td>\n",
       "      <td>50000</td>\n",
       "      <td>1</td>\n",
       "      <td>1</td>\n",
       "      <td>0</td>\n",
       "      <td>1</td>\n",
       "      <td>0</td>\n",
       "      <td>78</td>\n",
       "      <td>170</td>\n",
       "      <td>0</td>\n",
       "      <td>2023</td>\n",
       "    </tr>\n",
       "    <tr>\n",
       "      <th>29</th>\n",
       "      <td>Удмуртская Республика, Глазов и Глазовский район</td>\n",
       "      <td>2</td>\n",
       "      <td>42,5</td>\n",
       "      <td>1</td>\n",
       "      <td>НАУКА, КУЛЬТУРА</td>\n",
       "      <td>8</td>\n",
       "      <td>25000</td>\n",
       "      <td>0</td>\n",
       "      <td>1</td>\n",
       "      <td>0</td>\n",
       "      <td>1</td>\n",
       "      <td>1</td>\n",
       "      <td>49,7</td>\n",
       "      <td>157</td>\n",
       "      <td>0</td>\n",
       "      <td>2023</td>\n",
       "    </tr>\n",
       "    <tr>\n",
       "      <th>92</th>\n",
       "      <td>Волгоградская область, Руднянский район</td>\n",
       "      <td>2</td>\n",
       "      <td>36,5</td>\n",
       "      <td>0</td>\n",
       "      <td>НАУКА, КУЛЬТУРА</td>\n",
       "      <td>8</td>\n",
       "      <td>34000</td>\n",
       "      <td>0</td>\n",
       "      <td>1</td>\n",
       "      <td>0</td>\n",
       "      <td>1</td>\n",
       "      <td>0</td>\n",
       "      <td>84</td>\n",
       "      <td>176</td>\n",
       "      <td>0</td>\n",
       "      <td>2023</td>\n",
       "    </tr>\n",
       "    <tr>\n",
       "      <th>122</th>\n",
       "      <td>Казань</td>\n",
       "      <td>0</td>\n",
       "      <td>66</td>\n",
       "      <td>1</td>\n",
       "      <td>НАУКА, КУЛЬТУРА</td>\n",
       "      <td>6</td>\n",
       "      <td>14000</td>\n",
       "      <td>0</td>\n",
       "      <td>1</td>\n",
       "      <td>1</td>\n",
       "      <td>1</td>\n",
       "      <td>0</td>\n",
       "      <td>70</td>\n",
       "      <td>157</td>\n",
       "      <td>0</td>\n",
       "      <td>2023</td>\n",
       "    </tr>\n",
       "    <tr>\n",
       "      <th>142</th>\n",
       "      <td>Курган</td>\n",
       "      <td>2</td>\n",
       "      <td>49,5</td>\n",
       "      <td>1</td>\n",
       "      <td>НАУКА, КУЛЬТУРА</td>\n",
       "      <td>8</td>\n",
       "      <td>17000</td>\n",
       "      <td>1</td>\n",
       "      <td>1</td>\n",
       "      <td>1</td>\n",
       "      <td>1</td>\n",
       "      <td>1</td>\n",
       "      <td>71</td>\n",
       "      <td>164</td>\n",
       "      <td>0</td>\n",
       "      <td>2023</td>\n",
       "    </tr>\n",
       "    <tr>\n",
       "      <th>...</th>\n",
       "      <td>...</td>\n",
       "      <td>...</td>\n",
       "      <td>...</td>\n",
       "      <td>...</td>\n",
       "      <td>...</td>\n",
       "      <td>...</td>\n",
       "      <td>...</td>\n",
       "      <td>...</td>\n",
       "      <td>...</td>\n",
       "      <td>...</td>\n",
       "      <td>...</td>\n",
       "      <td>...</td>\n",
       "      <td>...</td>\n",
       "      <td>...</td>\n",
       "      <td>...</td>\n",
       "      <td>...</td>\n",
       "    </tr>\n",
       "    <tr>\n",
       "      <th>4484</th>\n",
       "      <td>Калужская область, Куйбышевский район</td>\n",
       "      <td>2</td>\n",
       "      <td>33</td>\n",
       "      <td>1</td>\n",
       "      <td>НАУКА, КУЛЬТУРА</td>\n",
       "      <td>8</td>\n",
       "      <td>27000</td>\n",
       "      <td>1</td>\n",
       "      <td>1</td>\n",
       "      <td>1</td>\n",
       "      <td>1</td>\n",
       "      <td>1</td>\n",
       "      <td>62</td>\n",
       "      <td>155</td>\n",
       "      <td>0</td>\n",
       "      <td>2023</td>\n",
       "    </tr>\n",
       "    <tr>\n",
       "      <th>4487</th>\n",
       "      <td>Тамбовская область, Уварово и Уваровский район</td>\n",
       "      <td>0</td>\n",
       "      <td>61,5</td>\n",
       "      <td>1</td>\n",
       "      <td>НАУКА, КУЛЬТУРА</td>\n",
       "      <td>8</td>\n",
       "      <td>15000</td>\n",
       "      <td>0</td>\n",
       "      <td>0</td>\n",
       "      <td>1</td>\n",
       "      <td>1</td>\n",
       "      <td>1</td>\n",
       "      <td>76</td>\n",
       "      <td>159</td>\n",
       "      <td>0</td>\n",
       "      <td>2023</td>\n",
       "    </tr>\n",
       "    <tr>\n",
       "      <th>4551</th>\n",
       "      <td>Красноярский край, Назарово и Назаровский район</td>\n",
       "      <td>1</td>\n",
       "      <td>29,5</td>\n",
       "      <td>1</td>\n",
       "      <td>НАУКА, КУЛЬТУРА</td>\n",
       "      <td>8</td>\n",
       "      <td>30000</td>\n",
       "      <td>0</td>\n",
       "      <td>1</td>\n",
       "      <td>1</td>\n",
       "      <td>1</td>\n",
       "      <td>0</td>\n",
       "      <td>57</td>\n",
       "      <td>170</td>\n",
       "      <td>0</td>\n",
       "      <td>2023</td>\n",
       "    </tr>\n",
       "    <tr>\n",
       "      <th>4584</th>\n",
       "      <td>Москва</td>\n",
       "      <td>0</td>\n",
       "      <td>42,5</td>\n",
       "      <td>1</td>\n",
       "      <td>НАУКА, КУЛЬТУРА</td>\n",
       "      <td>8</td>\n",
       "      <td>44000</td>\n",
       "      <td>0</td>\n",
       "      <td>1</td>\n",
       "      <td>1</td>\n",
       "      <td>1</td>\n",
       "      <td>0</td>\n",
       "      <td>45</td>\n",
       "      <td>160</td>\n",
       "      <td>1</td>\n",
       "      <td>2023</td>\n",
       "    </tr>\n",
       "    <tr>\n",
       "      <th>4609</th>\n",
       "      <td>Печора и Печорский р-н (с 2020 года)</td>\n",
       "      <td>0</td>\n",
       "      <td>39,5</td>\n",
       "      <td>0</td>\n",
       "      <td>НАУКА, КУЛЬТУРА</td>\n",
       "      <td>8</td>\n",
       "      <td>25000</td>\n",
       "      <td>0</td>\n",
       "      <td>1</td>\n",
       "      <td>1</td>\n",
       "      <td>1</td>\n",
       "      <td>0</td>\n",
       "      <td>96</td>\n",
       "      <td>169</td>\n",
       "      <td>1</td>\n",
       "      <td>2023</td>\n",
       "    </tr>\n",
       "  </tbody>\n",
       "</table>\n",
       "<p>119 rows × 16 columns</p>\n",
       "</div>"
      ],
      "text/plain": [
       "                                                region  educ   age  female  \\\n",
       "9                                            Краснодар     2  36,5       1   \n",
       "29    Удмуртская Республика, Глазов и Глазовский район     2  42,5       1   \n",
       "92             Волгоградская область, Руднянский район     2  36,5       0   \n",
       "122                                             Казань     0    66       1   \n",
       "142                                             Курган     2  49,5       1   \n",
       "...                                                ...   ...   ...     ...   \n",
       "4484             Калужская область, Куйбышевский район     2    33       1   \n",
       "4487    Тамбовская область, Уварово и Уваровский район     0  61,5       1   \n",
       "4551   Красноярский край, Назарово и Назаровский район     1  29,5       1   \n",
       "4584                                            Москва     0  42,5       1   \n",
       "4609              Печора и Печорский р-н (с 2020 года)     0  39,5       0   \n",
       "\n",
       "             industry  work_hours   wage  foreign_language  internet  alcohol  \\\n",
       "9     НАУКА, КУЛЬТУРА           8  50000                 1         1        0   \n",
       "29    НАУКА, КУЛЬТУРА           8  25000                 0         1        0   \n",
       "92    НАУКА, КУЛЬТУРА           8  34000                 0         1        0   \n",
       "122   НАУКА, КУЛЬТУРА           6  14000                 0         1        1   \n",
       "142   НАУКА, КУЛЬТУРА           8  17000                 1         1        1   \n",
       "...               ...         ...    ...               ...       ...      ...   \n",
       "4484  НАУКА, КУЛЬТУРА           8  27000                 1         1        1   \n",
       "4487  НАУКА, КУЛЬТУРА           8  15000                 0         0        1   \n",
       "4551  НАУКА, КУЛЬТУРА           8  30000                 0         1        1   \n",
       "4584  НАУКА, КУЛЬТУРА           8  44000                 0         1        1   \n",
       "4609  НАУКА, КУЛЬТУРА           8  25000                 0         1        1   \n",
       "\n",
       "      is_children  health weight height  smoke  year  \n",
       "9               1       0     78    170      0  2023  \n",
       "29              1       1   49,7    157      0  2023  \n",
       "92              1       0     84    176      0  2023  \n",
       "122             1       0     70    157      0  2023  \n",
       "142             1       1     71    164      0  2023  \n",
       "...           ...     ...    ...    ...    ...   ...  \n",
       "4484            1       1     62    155      0  2023  \n",
       "4487            1       1     76    159      0  2023  \n",
       "4551            1       0     57    170      0  2023  \n",
       "4584            1       0     45    160      1  2023  \n",
       "4609            1       0     96    169      1  2023  \n",
       "\n",
       "[119 rows x 16 columns]"
      ]
     },
     "execution_count": 1,
     "metadata": {},
     "output_type": "execute_result"
    }
   ],
   "source": [
    "import pandas as pd\n",
    "df_hw = pd.read_csv('Homework_2_data.csv', sep=';')\n",
    "year = 2023\n",
    "industry = 'НАУКА, КУЛЬТУРА'\n",
    "region = ''\n",
    "if industry == '':\n",
    "    my_data = (df_hw[(df_hw.year == year) & (df_hw.region == region)])\n",
    "elif region == '':\n",
    "    my_data = (df_hw[(df_hw.year == year) & (df_hw.industry == industry)])\n",
    "my_data"
   ]
  },
  {
   "cell_type": "markdown",
   "metadata": {},
   "source": [
    "ну конечно мы будем все числа держать в str а не в int"
   ]
  },
  {
   "cell_type": "code",
   "execution_count": 9,
   "metadata": {},
   "outputs": [],
   "source": [
    "df = pl.DataFrame(my_data)\n",
    "df = df.with_row_index()\n",
    "df = df.with_columns(\n",
    "    pl.col('age').str.replace(',', '.'), \n",
    "    pl.col('wage').str.replace(',', '.'), \n",
    "    pl.col('weight').str.replace(',', '.'), \n",
    "    pl.col('height').str.replace(',', '.')\n",
    ")\n",
    "df = df.with_columns(\n",
    "    pl.col('age').cast(pl.Float64),\n",
    "    pl.col('wage').cast(pl.Float64),\n",
    "    pl.col('weight').cast(pl.Float64),\n",
    "    pl.col('height').cast(pl.Float64)\n",
    ")\n",
    "df = df.with_columns(\n",
    "    pl.when(pl.col('educ') == 2).then(1).\n",
    "    otherwise(0).alias('high')\n",
    ")\n",
    "df = df.to_pandas()"
   ]
  },
  {
   "cell_type": "markdown",
   "metadata": {},
   "source": [
    "## Задание 1\n",
    "\n",
    "### Оцениваем линейную модель "
   ]
  },
  {
   "cell_type": "code",
   "execution_count": 10,
   "metadata": {},
   "outputs": [
    {
     "name": "stdout",
     "output_type": "stream",
     "text": [
      "                            OLS Regression Results                            \n",
      "==============================================================================\n",
      "Dep. Variable:                   wage   R-squared:                       0.273\n",
      "Model:                            OLS   Adj. R-squared:                  0.248\n",
      "Method:                 Least Squares   F-statistic:                     10.72\n",
      "Date:                Sun, 15 Dec 2024   Prob (F-statistic):           2.08e-07\n",
      "Time:                        01:06:22   Log-Likelihood:                -1367.0\n",
      "No. Observations:                 119   AIC:                             2744.\n",
      "Df Residuals:                     114   BIC:                             2758.\n",
      "Df Model:                           4                                         \n",
      "Covariance Type:            nonrobust                                         \n",
      "===============================================================================\n",
      "                  coef    std err          t      P>|t|      [0.025      0.975]\n",
      "-------------------------------------------------------------------------------\n",
      "age          -128.8333    186.065     -0.692      0.490    -497.426     239.759\n",
      "high          2.38e+04   4590.958      5.183      0.000    1.47e+04    3.29e+04\n",
      "female      -1.466e+04   5960.579     -2.459      0.015   -2.65e+04   -2848.562\n",
      "is_children  4.089e+04   1.16e+04      3.523      0.001    1.79e+04    6.39e+04\n",
      "smoke        6970.9357   6422.989      1.085      0.280   -5752.955    1.97e+04\n",
      "==============================================================================\n",
      "Omnibus:                       48.026   Durbin-Watson:                   1.840\n",
      "Prob(Omnibus):                  0.000   Jarque-Bera (JB):              122.154\n",
      "Skew:                           1.573   Prob(JB):                     2.98e-27\n",
      "Kurtosis:                       6.840   Cond. No.                         290.\n",
      "==============================================================================\n",
      "\n",
      "Notes:\n",
      "[1] Standard Errors assume that the covariance matrix of the errors is correctly specified.\n"
     ]
    }
   ],
   "source": [
    "X = df[['age', 'high', 'female', 'is_children', 'smoke']]\n",
    "X = sm.add_constant(X)\n",
    "y = df['wage']\n",
    "\n",
    "model_1 = sm.OLS(y, X).fit()\n",
    "print(model_1.summary())"
   ]
  },
  {
   "cell_type": "code",
   "execution_count": 11,
   "metadata": {},
   "outputs": [
    {
     "name": "stdout",
     "output_type": "stream",
     "text": [
      "Уравнение модели:\n",
      "wage =  + (-128.83) * age + (23795.93) * high + (-14656.42) * female + (40889.57) * is_children + (6970.94) * smoke\n"
     ]
    }
   ],
   "source": [
    "coefficients = model_1.params\n",
    "\n",
    "# Формируем уравнение модели\n",
    "equation = f\"wage = \"\n",
    "for variable, coef in coefficients.items():\n",
    "    equation += f\" + ({coef:.2f}) * {variable}\"\n",
    "\n",
    "# Выводим уравнение\n",
    "print(\"Уравнение модели:\")\n",
    "print(equation)"
   ]
  },
  {
   "cell_type": "markdown",
   "metadata": {},
   "source": [
    "всё тоже самое что и во втором дз, выводы будут в отчете\n",
    "\n",
    "p.s в прошлом дз показывал, что за константу тут идёт is_children\n"
   ]
  },
  {
   "cell_type": "markdown",
   "metadata": {},
   "source": [
    "## Задание 2\n",
    "\n",
    "### Полулогарифмическая модель"
   ]
  },
  {
   "cell_type": "code",
   "execution_count": 17,
   "metadata": {},
   "outputs": [
    {
     "name": "stdout",
     "output_type": "stream",
     "text": [
      "                            OLS Regression Results                            \n",
      "==============================================================================\n",
      "Dep. Variable:                   wage   R-squared:                       0.297\n",
      "Model:                            OLS   Adj. R-squared:                  0.272\n",
      "Method:                 Least Squares   F-statistic:                     12.01\n",
      "Date:                Sun, 15 Dec 2024   Prob (F-statistic):           3.51e-08\n",
      "Time:                        02:04:09   Log-Likelihood:                -92.906\n",
      "No. Observations:                 119   AIC:                             195.8\n",
      "Df Residuals:                     114   BIC:                             209.7\n",
      "Df Model:                           4                                         \n",
      "Covariance Type:            nonrobust                                         \n",
      "===============================================================================\n",
      "                  coef    std err          t      P>|t|      [0.025      0.975]\n",
      "-------------------------------------------------------------------------------\n",
      "age            -0.0023      0.004     -0.551      0.583      -0.011       0.006\n",
      "high            0.5600      0.103      5.448      0.000       0.356       0.764\n",
      "female         -0.3768      0.133     -2.824      0.006      -0.641      -0.112\n",
      "is_children    10.3792      0.260     39.942      0.000       9.864      10.894\n",
      "smoke           0.1339      0.144      0.931      0.354      -0.151       0.419\n",
      "==============================================================================\n",
      "Omnibus:                        0.815   Durbin-Watson:                   1.796\n",
      "Prob(Omnibus):                  0.665   Jarque-Bera (JB):                0.936\n",
      "Skew:                           0.168   Prob(JB):                        0.626\n",
      "Kurtosis:                       2.724   Cond. No.                         290.\n",
      "==============================================================================\n",
      "\n",
      "Notes:\n",
      "[1] Standard Errors assume that the covariance matrix of the errors is correctly specified.\n"
     ]
    }
   ],
   "source": [
    "X = df[['age', 'high', 'female', 'is_children', 'smoke']]\n",
    "X = sm.add_constant(X)\n",
    "y = np.log(df['wage'])\n",
    "\n",
    "model_2 = sm.OLS(y, X).fit()\n",
    "print(model_2.summary())"
   ]
  },
  {
   "cell_type": "code",
   "execution_count": 18,
   "metadata": {},
   "outputs": [
    {
     "name": "stdout",
     "output_type": "stream",
     "text": [
      "Уравнение модели:\n",
      "ln(wage) =  + (-0.002) * age + (0.560) * high + (-0.377) * female + (10.379) * is_children + (0.134) * smoke\n"
     ]
    }
   ],
   "source": [
    "coefficients2 = model_2.params\n",
    "\n",
    "# Формируем уравнение модели\n",
    "equation = f\"ln(wage) = \"\n",
    "for variable, coef in coefficients2.items():\n",
    "    equation += f\" + ({coef:.3f}) * {variable}\"\n",
    "\n",
    "# Выводим уравнение\n",
    "print(\"Уравнение модели:\")\n",
    "print(equation)"
   ]
  },
  {
   "cell_type": "markdown",
   "metadata": {},
   "source": [
    "измениние $X_i$ признака на одну единицу, $y$ увеличится примерно на $\\beta_i$ %\n",
    "\n",
    "подробнее в отчете "
   ]
  },
  {
   "cell_type": "markdown",
   "metadata": {},
   "source": [
    "## Задание 3\n",
    "\n",
    "### Линейная модель с логарифмами "
   ]
  },
  {
   "cell_type": "code",
   "execution_count": 21,
   "metadata": {},
   "outputs": [
    {
     "name": "stdout",
     "output_type": "stream",
     "text": [
      "                            OLS Regression Results                            \n",
      "==============================================================================\n",
      "Dep. Variable:                   wage   R-squared:                       0.295\n",
      "Model:                            OLS   Adj. R-squared:                  0.271\n",
      "Method:                 Least Squares   F-statistic:                     11.95\n",
      "Date:                Sun, 15 Dec 2024   Prob (F-statistic):           3.81e-08\n",
      "Time:                        16:59:00   Log-Likelihood:                -92.996\n",
      "No. Observations:                 119   AIC:                             196.0\n",
      "Df Residuals:                     114   BIC:                             209.9\n",
      "Df Model:                           4                                         \n",
      "Covariance Type:            nonrobust                                         \n",
      "===============================================================================\n",
      "                  coef    std err          t      P>|t|      [0.025      0.975]\n",
      "-------------------------------------------------------------------------------\n",
      "high            0.5633      0.103      5.484      0.000       0.360       0.767\n",
      "female         -0.3766      0.134     -2.820      0.006      -0.641      -0.112\n",
      "is_children    10.5452      0.799     13.201      0.000       8.963      12.128\n",
      "smoke           0.1373      0.144      0.955      0.342      -0.147       0.422\n",
      "ln_age         -0.0728      0.201     -0.363      0.717      -0.470       0.324\n",
      "==============================================================================\n",
      "Omnibus:                        0.877   Durbin-Watson:                   1.803\n",
      "Prob(Omnibus):                  0.645   Jarque-Bera (JB):                0.994\n",
      "Skew:                           0.174   Prob(JB):                        0.608\n",
      "Kurtosis:                       2.719   Cond. No.                         68.4\n",
      "==============================================================================\n",
      "\n",
      "Notes:\n",
      "[1] Standard Errors assume that the covariance matrix of the errors is correctly specified.\n"
     ]
    },
    {
     "name": "stderr",
     "output_type": "stream",
     "text": [
      "/var/folders/dj/30dsg7n53xq2qg8xkn96drq00000gn/T/ipykernel_24684/1491014034.py:2: SettingWithCopyWarning: \n",
      "A value is trying to be set on a copy of a slice from a DataFrame.\n",
      "Try using .loc[row_indexer,col_indexer] = value instead\n",
      "\n",
      "See the caveats in the documentation: https://pandas.pydata.org/pandas-docs/stable/user_guide/indexing.html#returning-a-view-versus-a-copy\n",
      "  X['ln_age'] = np.log(X['age'])\n"
     ]
    }
   ],
   "source": [
    "X = df[['age', 'high', 'female', 'is_children', 'smoke']]\n",
    "X['ln_age'] = np.log(X['age'])\n",
    "X = X.drop('age', axis=1)\n",
    "X = sm.add_constant(X)\n",
    "y = np.log(df['wage'])\n",
    "\n",
    "model_3 = sm.OLS(y, X).fit()\n",
    "print(model_3.summary())"
   ]
  },
  {
   "cell_type": "code",
   "execution_count": 22,
   "metadata": {},
   "outputs": [
    {
     "name": "stdout",
     "output_type": "stream",
     "text": [
      "Уравнение модели:\n",
      "ln(wage) =  + (0.563) * high + (-0.377) * female + (10.545) * is_children + (0.137) * smoke + (-0.073) * ln_age\n"
     ]
    }
   ],
   "source": [
    "coefficients3 = model_3.params\n",
    "\n",
    "# Формируем уравнение модели\n",
    "equation = f\"ln(wage) = \"\n",
    "for variable, coef in coefficients3.items():\n",
    "    equation += f\" + ({coef:.3f}) * {variable}\"\n",
    "\n",
    "# Выводим уравнение\n",
    "print(\"Уравнение модели:\")\n",
    "print(equation)"
   ]
  },
  {
   "cell_type": "markdown",
   "metadata": {},
   "source": [
    "## Задание 4\n",
    "\n",
    "### Выбор между второй и третьей моделью\n",
    "\n",
    "Посмотрем на значения $R^2$, $R^2_{adj}$, $F-statistic$, можно сделать вывод что модель 2 лучше чем модель 3.\n",
    "Поэтому надо сравнивать просто линейную модель и полулогарифмическую модель\n"
   ]
  },
  {
   "cell_type": "markdown",
   "metadata": {},
   "source": [
    "### Выбор между первой и второй моделью\n",
    "\n",
    "Будем пользоваться тестом Бокса-Кокса с преобразованием Зарембки\n"
   ]
  },
  {
   "cell_type": "code",
   "execution_count": null,
   "metadata": {},
   "outputs": [
    {
     "name": "stdout",
     "output_type": "stream",
     "text": [
      "hi2 statistics: 53.28642224282302\n"
     ]
    }
   ],
   "source": [
    "from scipy.stats.mstats import gmean\n",
    "\n",
    "X = df[['age', 'high', 'female', 'is_children', 'smoke']]\n",
    "y = df['wage']\n",
    "y_mean_g = gmean(y)\n",
    "y_help = y / y_mean_g\n",
    "\n",
    "#оценим две вспомогательные регрессии \n",
    "\n",
    "model_1_test = sm.OLS(y_help, X).fit()\n",
    "model_2_test = sm.OLS(np.log(y_help), X).fit()\n",
    "rss_1 = model_1_test.ssr\n",
    "rss_2 = model_2_test.ssr\n",
    "hi_2 = X.shape[0] / 2 * np.abs(np.log(rss_1 / rss_2))\n",
    "print(f'hi2 statistics: {hi_2}')"
   ]
  },
  {
   "cell_type": "markdown",
   "metadata": {},
   "source": [
    "исходя из значений $\\chi^2$ очевидно что $H_0$ отвергается, значит различия есть, тоесть смотрим на меньший $RSS$"
   ]
  },
  {
   "cell_type": "code",
   "execution_count": 28,
   "metadata": {},
   "outputs": [
    {
     "name": "stdout",
     "output_type": "stream",
     "text": [
      "linear RSS: 81.30998066885628\n",
      "log RSS: 33.20493969156385\n"
     ]
    }
   ],
   "source": [
    "print(f'linear RSS: {rss_1}')\n",
    "print(f'log RSS: {rss_2}')"
   ]
  },
  {
   "cell_type": "markdown",
   "metadata": {},
   "source": [
    "Делаем вывод, что полулогарифмическая модель лучше"
   ]
  },
  {
   "cell_type": "markdown",
   "metadata": {},
   "source": [
    "## Задание 5"
   ]
  },
  {
   "cell_type": "markdown",
   "metadata": {},
   "source": [
    "### Дамми переменные"
   ]
  },
  {
   "cell_type": "code",
   "execution_count": 34,
   "metadata": {},
   "outputs": [
    {
     "name": "stdout",
     "output_type": "stream",
     "text": [
      "                            OLS Regression Results                            \n",
      "==============================================================================\n",
      "Dep. Variable:                   wage   R-squared:                       0.334\n",
      "Model:                            OLS   Adj. R-squared:                  0.292\n",
      "Method:                 Least Squares   F-statistic:                     7.964\n",
      "Date:                Sun, 15 Dec 2024   Prob (F-statistic):           8.18e-08\n",
      "Time:                        19:42:55   Log-Likelihood:                -89.622\n",
      "No. Observations:                 119   AIC:                             195.2\n",
      "Df Residuals:                     111   BIC:                             217.5\n",
      "Df Model:                           7                                         \n",
      "Covariance Type:            nonrobust                                         \n",
      "======================================================================================\n",
      "                         coef    std err          t      P>|t|      [0.025      0.975]\n",
      "--------------------------------------------------------------------------------------\n",
      "age                   -0.0190      0.009     -2.196      0.030      -0.036      -0.002\n",
      "high                   0.8972      0.236      3.799      0.000       0.429       1.365\n",
      "is_children           10.9255      0.471     23.189      0.000       9.992      11.859\n",
      "smoke                  0.2918      0.235      1.242      0.217      -0.174       0.757\n",
      "age_female             0.0208      0.010      2.110      0.037       0.001       0.040\n",
      "high_female           -0.3703      0.263     -1.409      0.162      -0.891       0.150\n",
      "is_children_female    -1.1086      0.539     -2.058      0.042      -2.176      -0.041\n",
      "smoke_female          -0.2068      0.301     -0.688      0.493      -0.802       0.389\n",
      "==============================================================================\n",
      "Omnibus:                        1.320   Durbin-Watson:                   1.744\n",
      "Prob(Omnibus):                  0.517   Jarque-Bera (JB):                1.245\n",
      "Skew:                           0.247   Prob(JB):                        0.537\n",
      "Kurtosis:                       2.915   Cond. No.                         979.\n",
      "==============================================================================\n",
      "\n",
      "Notes:\n",
      "[1] Standard Errors assume that the covariance matrix of the errors is correctly specified.\n"
     ]
    }
   ],
   "source": [
    "df['age_female'] = df['age'] * df['female']\n",
    "df['high_female'] = df['high'] * df['female']\n",
    "df['is_children_female'] = df['is_children'] * df['female']\n",
    "df['smoke_female'] = df['smoke'] * df['female']\n",
    "\n",
    "X_dumy = df[['age', 'high', 'is_children', 'smoke', 'age_female', 'high_female', 'is_children_female', 'smoke_female']]\n",
    "X_dumy = sm.add_constant(X_dumy)\n",
    "y = np.log(df['wage'])\n",
    "\n",
    "model_dumy = sm.OLS(y, X_dumy).fit()\n",
    "print(model_dumy.summary())"
   ]
  },
  {
   "cell_type": "code",
   "execution_count": 35,
   "metadata": {},
   "outputs": [
    {
     "name": "stdout",
     "output_type": "stream",
     "text": [
      "Результаты F-теста для взаимодействий:\n",
      "<F test: F=3.625828317431612, p=0.008130066179893938, df_denom=111, df_num=4>\n"
     ]
    }
   ],
   "source": [
    "hypotheses = ['age_female = 0', 'high_female = 0', 'is_children_female = 0', 'smoke_female = 0']\n",
    "f_test = model_dumy.f_test('age_female = high_female = is_children_female = smoke_female = 0')\n",
    "print(\"Результаты F-теста для взаимодействий:\")\n",
    "print(f_test)"
   ]
  },
  {
   "cell_type": "markdown",
   "metadata": {},
   "source": [
    "Из проверки через Дамми пременными, можно сделать вывод, что различия между мужчинами и женщинами разница есть"
   ]
  },
  {
   "cell_type": "code",
   "execution_count": 32,
   "metadata": {},
   "outputs": [
    {
     "name": "stdout",
     "output_type": "stream",
     "text": [
      "Уравнение модели:\n",
      "ln(wage) =  + (-0.019) * age + (0.897) * high + (-0.554) * female + (10.926) * is_children + (0.292) * smoke + (0.021) * age_female + (-0.370) * high_female + (-0.554) * is_children_female + (-0.207) * smoke_female\n"
     ]
    }
   ],
   "source": [
    "coefficients_dumy = model_dumy.params\n",
    "\n",
    "# Формируем уравнение модели\n",
    "equation = f\"ln(wage) = \"\n",
    "for variable, coef in coefficients_dumy.items():\n",
    "    equation += f\" + ({coef:.3f}) * {variable}\"\n",
    "\n",
    "# Выводим уравнение\n",
    "print(\"Уравнение модели:\")\n",
    "print(equation)"
   ]
  },
  {
   "cell_type": "markdown",
   "metadata": {},
   "source": [
    "В отчете разделю на формулу для женщин и мужчин"
   ]
  },
  {
   "cell_type": "markdown",
   "metadata": {},
   "source": [
    "### Тест Чоу"
   ]
  },
  {
   "cell_type": "code",
   "execution_count": 33,
   "metadata": {},
   "outputs": [
    {
     "name": "stdout",
     "output_type": "stream",
     "text": [
      "Статистика Чоу: 3.6258\n",
      "p-значение Чоу теста: 0.0081\n"
     ]
    }
   ],
   "source": [
    "from scipy.stats import f\n",
    "\n",
    "df_male = df[df['female'] == 0]\n",
    "df_female = df[df['female'] == 1]\n",
    "\n",
    "vars = ['age', 'high', 'is_children', 'smoke']\n",
    "# для общей модели\n",
    "X_full = sm.add_constant(df[vars])\n",
    "y_full = np.log(df['wage'])\n",
    "# для мужчин\n",
    "X_male = sm.add_constant(df_male[vars])\n",
    "y_male = np.log(df_male['wage'])\n",
    "# для женщин\n",
    "X_female = sm.add_constant(df_female[vars])\n",
    "y_female = np.log(df_female['wage'])\n",
    "\n",
    "\n",
    "model_full = sm.OLS(y_full, X_full).fit()\n",
    "rss_full = model_full.ssr\n",
    "\n",
    "# Построение модели для мужчин\n",
    "model_male = sm.OLS(y_male, X_male).fit()\n",
    "rss_male = model_male.ssr\n",
    "\n",
    "# Построение модели для женщин\n",
    "model_female = sm.OLS(y_female, X_female).fit()\n",
    "rss_female = model_female.ssr\n",
    "\n",
    "# Параметры для теста Чоу\n",
    "n = df.shape[0]\n",
    "k = X_full.shape[1]  # количество параметров включая константу\n",
    "g = 2  # количество групп (мужчины и женщины)\n",
    "\n",
    "chow_stat = ((rss_full - (rss_male + rss_female)) / k) / ((rss_male + rss_female) / (n - 2 * k))\n",
    "p_value = 1 - f.cdf(chow_stat, k, n - 2 * k)\n",
    "\n",
    "print(f\"Статистика Чоу: {chow_stat:.4f}\")\n",
    "print(f\"p-значение Чоу теста: {p_value:.4f}\")\n"
   ]
  },
  {
   "cell_type": "markdown",
   "metadata": {},
   "source": [
    "ну мы получили такой же результат, значит разница между мужчинами и женщинами всё таки есть"
   ]
  },
  {
   "cell_type": "code",
   "execution_count": 36,
   "metadata": {},
   "outputs": [
    {
     "name": "stdout",
     "output_type": "stream",
     "text": [
      "                            OLS Regression Results                            \n",
      "==============================================================================\n",
      "Dep. Variable:                   wage   R-squared:                       0.452\n",
      "Model:                            OLS   Adj. R-squared:                  0.381\n",
      "Method:                 Least Squares   F-statistic:                     6.334\n",
      "Date:                Sun, 15 Dec 2024   Prob (F-statistic):            0.00273\n",
      "Time:                        20:17:20   Log-Likelihood:                -17.970\n",
      "No. Observations:                  27   AIC:                             43.94\n",
      "Df Residuals:                      23   BIC:                             49.12\n",
      "Df Model:                           3                                         \n",
      "Covariance Type:            nonrobust                                         \n",
      "===============================================================================\n",
      "                  coef    std err          t      P>|t|      [0.025      0.975]\n",
      "-------------------------------------------------------------------------------\n",
      "age            -0.0190      0.008     -2.291      0.031      -0.036      -0.002\n",
      "high            0.8972      0.226      3.962      0.001       0.429       1.366\n",
      "is_children    10.9255      0.452     24.188      0.000       9.991      11.860\n",
      "smoke           0.2918      0.225      1.296      0.208      -0.174       0.758\n",
      "==============================================================================\n",
      "Omnibus:                        0.538   Durbin-Watson:                   1.635\n",
      "Prob(Omnibus):                  0.764   Jarque-Bera (JB):                0.581\n",
      "Skew:                          -0.292   Prob(JB):                        0.748\n",
      "Kurtosis:                       2.581   Cond. No.                         239.\n",
      "==============================================================================\n",
      "\n",
      "Notes:\n",
      "[1] Standard Errors assume that the covariance matrix of the errors is correctly specified.\n"
     ]
    }
   ],
   "source": [
    "print(model_male.summary())"
   ]
  },
  {
   "cell_type": "code",
   "execution_count": 37,
   "metadata": {},
   "outputs": [
    {
     "name": "stdout",
     "output_type": "stream",
     "text": [
      "                            OLS Regression Results                            \n",
      "==============================================================================\n",
      "Dep. Variable:                   wage   R-squared:                       0.193\n",
      "Model:                            OLS   Adj. R-squared:                  0.165\n",
      "Method:                 Least Squares   F-statistic:                     7.001\n",
      "Date:                Sun, 15 Dec 2024   Prob (F-statistic):           0.000281\n",
      "Time:                        20:17:41   Log-Likelihood:                -71.407\n",
      "No. Observations:                  92   AIC:                             150.8\n",
      "Df Residuals:                      88   BIC:                             160.9\n",
      "Df Model:                           3                                         \n",
      "Covariance Type:            nonrobust                                         \n",
      "===============================================================================\n",
      "                  coef    std err          t      P>|t|      [0.025      0.975]\n",
      "-------------------------------------------------------------------------------\n",
      "age             0.0018      0.005      0.380      0.705      -0.008       0.011\n",
      "high            0.5268      0.116      4.527      0.000       0.296       0.758\n",
      "is_children     9.8169      0.264     37.194      0.000       9.292      10.341\n",
      "smoke           0.0850      0.189      0.449      0.655      -0.292       0.462\n",
      "==============================================================================\n",
      "Omnibus:                        2.208   Durbin-Watson:                   1.683\n",
      "Prob(Omnibus):                  0.332   Jarque-Bera (JB):                1.990\n",
      "Skew:                           0.359   Prob(JB):                        0.370\n",
      "Kurtosis:                       2.951   Cond. No.                         248.\n",
      "==============================================================================\n",
      "\n",
      "Notes:\n",
      "[1] Standard Errors assume that the covariance matrix of the errors is correctly specified.\n"
     ]
    }
   ],
   "source": [
    "print(model_female.summary())"
   ]
  },
  {
   "cell_type": "markdown",
   "metadata": {},
   "source": [
    "получились примерно те же формулы для женщин и мужчин, что и при дамми переменных"
   ]
  },
  {
   "cell_type": "markdown",
   "metadata": {},
   "source": [
    "## Задание 6"
   ]
  },
  {
   "cell_type": "markdown",
   "metadata": {},
   "source": [
    "Будем смотреть на стьюдентизированные остатки и DFFITS"
   ]
  },
  {
   "cell_type": "code",
   "execution_count": 38,
   "metadata": {},
   "outputs": [
    {
     "name": "stdout",
     "output_type": "stream",
     "text": [
      "Выбросы:\n",
      "shape: (5, 3)\n",
      "┌───────┬───────────┬──────────┐\n",
      "│ Index ┆ Residuals ┆ Leverage │\n",
      "│ ---   ┆ ---       ┆ ---      │\n",
      "│ i64   ┆ f64       ┆ f64      │\n",
      "╞═══════╪═══════════╪══════════╡\n",
      "│ 13    ┆ 2.582709  ┆ 0.089481 │\n",
      "│ 39    ┆ 2.583247  ┆ 0.02673  │\n",
      "│ 50    ┆ -2.012087 ┆ 0.059045 │\n",
      "│ 67    ┆ 2.10301   ┆ 0.019738 │\n",
      "│ 93    ┆ -2.385046 ┆ 0.029239 │\n",
      "└───────┴───────────┴──────────┘\n"
     ]
    }
   ],
   "source": [
    "influence = model_2.get_influence()\n",
    "standardized_residuals = influence.resid_studentized_internal  # Стьюдентизированные остатки\n",
    "leverage = influence.hat_matrix_diag  # Диагональные элементы матрицы Хэт\n",
    "\n",
    "# Устанавливаем порог для выбросов\n",
    "threshold = 2\n",
    "\n",
    "results_df = pl.DataFrame({\n",
    "    \"Index\": np.arange(len(standardized_residuals)),\n",
    "    \"Residuals\": standardized_residuals,\n",
    "    \"Leverage\": leverage\n",
    "})\n",
    "\n",
    "# Фильтруем выбросы\n",
    "outliers_df = results_df.filter(pl.col(\"Residuals\").abs() > threshold)\n",
    "\n",
    "print(\"Выбросы:\")\n",
    "print(outliers_df)"
   ]
  },
  {
   "cell_type": "markdown",
   "metadata": {},
   "source": [
    "Получили выбросы с помощью стьюдентизированных остатков под индексами 13, 39, 50, 67, 93"
   ]
  },
  {
   "cell_type": "code",
   "execution_count": 39,
   "metadata": {},
   "outputs": [
    {
     "name": "stdout",
     "output_type": "stream",
     "text": [
      "Наблюдения с высокими DFFITS:\n",
      "shape: (14, 2)\n",
      "┌───────┬───────────┐\n",
      "│ Index ┆ DFFITS    │\n",
      "│ ---   ┆ ---       │\n",
      "│ i64   ┆ f64       │\n",
      "╞═══════╪═══════════╡\n",
      "│ 7     ┆ -0.439798 │\n",
      "│ 13    ┆ 0.830761  │\n",
      "│ 15    ┆ -0.538091 │\n",
      "│ 39    ┆ 0.43927   │\n",
      "│ 46    ┆ -0.374154 │\n",
      "│ …     ┆ …         │\n",
      "│ 93    ┆ -0.422791 │\n",
      "│ 96    ┆ 0.439444  │\n",
      "│ 107   ┆ -0.390997 │\n",
      "│ 109   ┆ -0.366737 │\n",
      "│ 110   ┆ 0.448814  │\n",
      "└───────┴───────────┘\n"
     ]
    }
   ],
   "source": [
    "dffits_values = influence.dffits[0]  # DFFITS для всех наблюдений\n",
    "threshold = 2 * np.sqrt(k / n)\n",
    "\n",
    "results_df = pl.DataFrame({\n",
    "    \"Index\": np.arange(len(dffits_values)),  # Индексы строк\n",
    "    \"DFFITS\": dffits_values\n",
    "})\n",
    "\n",
    "# Определяем выбросы (где |DFFITS| > Threshold)\n",
    "outliers = results_df.filter(pl.col(\"DFFITS\").abs() > threshold)\n",
    "\n",
    "# Вывод выбросов\n",
    "print(\"Наблюдения с высокими DFFITS:\")\n",
    "print(outliers)"
   ]
  },
  {
   "cell_type": "code",
   "execution_count": 42,
   "metadata": {},
   "outputs": [
    {
     "name": "stdout",
     "output_type": "stream",
     "text": [
      "[  7  13  15  39  46  50  59  74  90  93  96 107 109 110]\n"
     ]
    }
   ],
   "source": [
    "print(np.array(outliers['Index']))"
   ]
  },
  {
   "cell_type": "markdown",
   "metadata": {},
   "source": [
    "выше индексы, которые показались нам выбросами с помощью DFFITS"
   ]
  },
  {
   "cell_type": "markdown",
   "metadata": {},
   "source": [
    "## Задание 7\n"
   ]
  },
  {
   "cell_type": "code",
   "execution_count": 43,
   "metadata": {},
   "outputs": [
    {
     "data": {
      "text/html": [
       "<div>\n",
       "<style scoped>\n",
       "    .dataframe tbody tr th:only-of-type {\n",
       "        vertical-align: middle;\n",
       "    }\n",
       "\n",
       "    .dataframe tbody tr th {\n",
       "        vertical-align: top;\n",
       "    }\n",
       "\n",
       "    .dataframe thead th {\n",
       "        text-align: right;\n",
       "    }\n",
       "</style>\n",
       "<table border=\"1\" class=\"dataframe\">\n",
       "  <thead>\n",
       "    <tr style=\"text-align: right;\">\n",
       "      <th></th>\n",
       "      <th>age</th>\n",
       "      <th>high</th>\n",
       "      <th>female</th>\n",
       "      <th>is_children</th>\n",
       "      <th>smoke</th>\n",
       "    </tr>\n",
       "  </thead>\n",
       "  <tbody>\n",
       "    <tr>\n",
       "      <th>0</th>\n",
       "      <td>36.5</td>\n",
       "      <td>1</td>\n",
       "      <td>1</td>\n",
       "      <td>1</td>\n",
       "      <td>0</td>\n",
       "    </tr>\n",
       "    <tr>\n",
       "      <th>1</th>\n",
       "      <td>42.5</td>\n",
       "      <td>1</td>\n",
       "      <td>1</td>\n",
       "      <td>1</td>\n",
       "      <td>0</td>\n",
       "    </tr>\n",
       "    <tr>\n",
       "      <th>2</th>\n",
       "      <td>36.5</td>\n",
       "      <td>1</td>\n",
       "      <td>0</td>\n",
       "      <td>1</td>\n",
       "      <td>0</td>\n",
       "    </tr>\n",
       "    <tr>\n",
       "      <th>3</th>\n",
       "      <td>66.0</td>\n",
       "      <td>0</td>\n",
       "      <td>1</td>\n",
       "      <td>1</td>\n",
       "      <td>0</td>\n",
       "    </tr>\n",
       "    <tr>\n",
       "      <th>4</th>\n",
       "      <td>49.5</td>\n",
       "      <td>1</td>\n",
       "      <td>1</td>\n",
       "      <td>1</td>\n",
       "      <td>0</td>\n",
       "    </tr>\n",
       "    <tr>\n",
       "      <th>...</th>\n",
       "      <td>...</td>\n",
       "      <td>...</td>\n",
       "      <td>...</td>\n",
       "      <td>...</td>\n",
       "      <td>...</td>\n",
       "    </tr>\n",
       "    <tr>\n",
       "      <th>114</th>\n",
       "      <td>33.0</td>\n",
       "      <td>1</td>\n",
       "      <td>1</td>\n",
       "      <td>1</td>\n",
       "      <td>0</td>\n",
       "    </tr>\n",
       "    <tr>\n",
       "      <th>115</th>\n",
       "      <td>61.5</td>\n",
       "      <td>0</td>\n",
       "      <td>1</td>\n",
       "      <td>1</td>\n",
       "      <td>0</td>\n",
       "    </tr>\n",
       "    <tr>\n",
       "      <th>116</th>\n",
       "      <td>29.5</td>\n",
       "      <td>0</td>\n",
       "      <td>1</td>\n",
       "      <td>1</td>\n",
       "      <td>0</td>\n",
       "    </tr>\n",
       "    <tr>\n",
       "      <th>117</th>\n",
       "      <td>42.5</td>\n",
       "      <td>0</td>\n",
       "      <td>1</td>\n",
       "      <td>1</td>\n",
       "      <td>1</td>\n",
       "    </tr>\n",
       "    <tr>\n",
       "      <th>118</th>\n",
       "      <td>39.5</td>\n",
       "      <td>0</td>\n",
       "      <td>0</td>\n",
       "      <td>1</td>\n",
       "      <td>1</td>\n",
       "    </tr>\n",
       "  </tbody>\n",
       "</table>\n",
       "<p>119 rows × 5 columns</p>\n",
       "</div>"
      ],
      "text/plain": [
       "      age  high  female  is_children  smoke\n",
       "0    36.5     1       1            1      0\n",
       "1    42.5     1       1            1      0\n",
       "2    36.5     1       0            1      0\n",
       "3    66.0     0       1            1      0\n",
       "4    49.5     1       1            1      0\n",
       "..    ...   ...     ...          ...    ...\n",
       "114  33.0     1       1            1      0\n",
       "115  61.5     0       1            1      0\n",
       "116  29.5     0       1            1      0\n",
       "117  42.5     0       1            1      1\n",
       "118  39.5     0       0            1      1\n",
       "\n",
       "[119 rows x 5 columns]"
      ]
     },
     "execution_count": 43,
     "metadata": {},
     "output_type": "execute_result"
    }
   ],
   "source": [
    "X"
   ]
  },
  {
   "cell_type": "code",
   "execution_count": null,
   "metadata": {},
   "outputs": [
    {
     "data": {
      "image/png": "[encoded data removed]",
      "text/plain": [
       "<Figure size 800x800 with 2 Axes>"
      ]
     },
     "metadata": {},
     "output_type": "display_data"
    }
   ],
   "source": [
    "cor = X.drop('is_children', axis=1).corr() # is_children тут у нас как константа\n",
    "plt.figure(figsize=(8, 8))\n",
    "sns.heatmap(\n",
    "    cor, \n",
    "    cmap=\"coolwarm\", \n",
    "    fmt=\".2f\", \n",
    "    annot=True,\n",
    "    xticklabels=cor.columns,\n",
    "    yticklabels=cor.columns\n",
    ")\n",
    "plt.title(\"Корреляционная матрица\")\n",
    "plt.show()"
   ]
  },
  {
   "cell_type": "markdown",
   "metadata": {},
   "source": [
    "тут в целом есть высокая корреляция только между курением и женщинами, в целом всё нормально, но давайте лучше проверим $VIF_i$"
   ]
  },
  {
   "cell_type": "code",
   "execution_count": 46,
   "metadata": {},
   "outputs": [
    {
     "name": "stdout",
     "output_type": "stream",
     "text": [
      "   Фактор       VIF\n",
      "0     age  5.609958\n",
      "1    high  1.697088\n",
      "2  female  4.350101\n",
      "3   smoke  1.355180\n"
     ]
    }
   ],
   "source": [
    "from statsmodels.stats.outliers_influence import variance_inflation_factor\n",
    "\n",
    "X_without_const = X.drop('is_children', axis=1)\n",
    "\n",
    "# Вычисление VIF для каждой переменной\n",
    "vif_data = pd.DataFrame()\n",
    "vif_data['Фактор'] = X_without_const.columns\n",
    "vif_data['VIF'] = [variance_inflation_factor(X_without_const.values, i) for i in range(X_without_const.shape[1])]\n",
    "print(vif_data)"
   ]
  },
  {
   "cell_type": "markdown",
   "metadata": {},
   "source": [
    "Как и предполагалось, мультиколлинеарности нет, все VIF меньше 10 "
   ]
  },
  {
   "cell_type": "markdown",
   "metadata": {},
   "source": [
    "## Задание 8"
   ]
  },
  {
   "cell_type": "code",
   "execution_count": 52,
   "metadata": {},
   "outputs": [
    {
     "name": "stdout",
     "output_type": "stream",
     "text": [
      "Доля объясненной дисперсии 1 главная компонента: 0.37\n",
      "Доля объясненной дисперсии 2 главная компонента: 0.29\n",
      "Доля объясненной дисперсии 3 главная компонента: 0.22\n",
      "Доля объясненной дисперсии 4 главная компонента: 0.12\n"
     ]
    },
    {
     "data": {
      "text/html": [
       "<div>\n",
       "<style scoped>\n",
       "    .dataframe tbody tr th:only-of-type {\n",
       "        vertical-align: middle;\n",
       "    }\n",
       "\n",
       "    .dataframe tbody tr th {\n",
       "        vertical-align: top;\n",
       "    }\n",
       "\n",
       "    .dataframe thead th {\n",
       "        text-align: right;\n",
       "    }\n",
       "</style>\n",
       "<table border=\"1\" class=\"dataframe\">\n",
       "  <thead>\n",
       "    <tr style=\"text-align: right;\">\n",
       "      <th></th>\n",
       "      <th>PC1</th>\n",
       "      <th>PC2</th>\n",
       "      <th>PC3</th>\n",
       "      <th>PC4</th>\n",
       "    </tr>\n",
       "  </thead>\n",
       "  <tbody>\n",
       "    <tr>\n",
       "      <th>age</th>\n",
       "      <td>-0.195432</td>\n",
       "      <td>-0.625116</td>\n",
       "      <td>0.741961</td>\n",
       "      <td>0.143281</td>\n",
       "    </tr>\n",
       "    <tr>\n",
       "      <th>female</th>\n",
       "      <td>-0.085755</td>\n",
       "      <td>0.760086</td>\n",
       "      <td>0.554500</td>\n",
       "      <td>0.327787</td>\n",
       "    </tr>\n",
       "    <tr>\n",
       "      <th>smoke</th>\n",
       "      <td>-0.676971</td>\n",
       "      <td>-0.080433</td>\n",
       "      <td>-0.368168</td>\n",
       "      <td>0.632213</td>\n",
       "    </tr>\n",
       "    <tr>\n",
       "      <th>high</th>\n",
       "      <td>0.704388</td>\n",
       "      <td>-0.158205</td>\n",
       "      <td>-0.080474</td>\n",
       "      <td>0.687265</td>\n",
       "    </tr>\n",
       "  </tbody>\n",
       "</table>\n",
       "</div>"
      ],
      "text/plain": [
       "             PC1       PC2       PC3       PC4\n",
       "age    -0.195432 -0.625116  0.741961  0.143281\n",
       "female -0.085755  0.760086  0.554500  0.327787\n",
       "smoke  -0.676971 -0.080433 -0.368168  0.632213\n",
       "high    0.704388 -0.158205 -0.080474  0.687265"
      ]
     },
     "execution_count": 52,
     "metadata": {},
     "output_type": "execute_result"
    }
   ],
   "source": [
    "from sklearn.preprocessing import StandardScaler\n",
    "from sklearn.decomposition import PCA \n",
    "X_noconst = X.drop(['is_children'], axis=1)\n",
    "scaler = StandardScaler()\n",
    "X_scaled = scaler.fit_transform(X_noconst)\n",
    "pca = PCA()\n",
    "principal_components = pca.fit_transform(X_scaled)\n",
    "loadings = pca.components_\n",
    "loadings_df = pd.DataFrame(loadings, index=['PC1', 'PC2', 'PC3', 'PC4'], columns=['age', 'female', 'smoke', 'high']).T\n",
    "explained_variance = pca.explained_variance_ratio_\n",
    "print(f'Доля объясненной дисперсии 1 главная компонента: {explained_variance[0]:.2f}')\n",
    "print(f'Доля объясненной дисперсии 2 главная компонента: {explained_variance[1]:.2f}')\n",
    "print(f'Доля объясненной дисперсии 3 главная компонента: {explained_variance[2]:.2f}')\n",
    "print(f'Доля объясненной дисперсии 4 главная компонента: {explained_variance[3]:.2f}')\n",
    "loadings_df"
   ]
  },
  {
   "cell_type": "markdown",
   "metadata": {},
   "source": [
    "## Задание 9"
   ]
  },
  {
   "cell_type": "code",
   "execution_count": 57,
   "metadata": {},
   "outputs": [
    {
     "data": {
      "text/plain": [
       "<seaborn.axisgrid.FacetGrid at 0x30fd0c980>"
      ]
     },
     "execution_count": 57,
     "metadata": {},
     "output_type": "execute_result"
    },
    {
     "data": {
      "image/png": "[encoded data removed]",
      "text/plain": [
       "<Figure size 800x400 with 1 Axes>"
      ]
     },
     "metadata": {},
     "output_type": "display_data"
    }
   ],
   "source": [
    "X = df[['age', 'high', 'female', 'is_children', 'smoke']]\n",
    "X = sm.add_constant(X)\n",
    "y = np.log(df['wage'])\n",
    "\n",
    "model_2 = sm.OLS(y, X).fit()\n",
    "\n",
    "residuals = model_2.resid  # Остатки модели\n",
    "predictions = model_2.predict()  # Прогнозируемые значения\n",
    "\n",
    "sns.relplot(\n",
    "    y=residuals,\n",
    "    x=predictions,\n",
    "    kind='scatter',\n",
    "    height=4,\n",
    "    aspect=2\n",
    ").set(xlabel=\"Прогнозируемые значения\", ylabel=\"Остатки\", title='График Остатки–Прогнозы')"
   ]
  },
  {
   "cell_type": "code",
   "execution_count": 56,
   "metadata": {},
   "outputs": [
    {
     "data": {
      "text/plain": [
       "Text(0.5, 1.0, 'Распределение остатоков')"
      ]
     },
     "execution_count": 56,
     "metadata": {},
     "output_type": "execute_result"
    },
    {
     "data": {
      "image/png": "[encoded data removed]",
      "text/plain": [
       "<Figure size 800x600 with 1 Axes>"
      ]
     },
     "metadata": {},
     "output_type": "display_data"
    }
   ],
   "source": [
    "fig, ax = plt.subplots(figsize=(8, 6))\n",
    "sns.histplot(\n",
    "    x=residuals,\n",
    "    kde=True,\n",
    "    ax=ax\n",
    ").set_title('Распределение остатоков')"
   ]
  },
  {
   "cell_type": "markdown",
   "metadata": {},
   "source": [
    "## Задание 10"
   ]
  },
  {
   "cell_type": "markdown",
   "metadata": {},
   "source": [
    "### Тест Уайта"
   ]
  },
  {
   "cell_type": "code",
   "execution_count": 83,
   "metadata": {},
   "outputs": [
    {
     "name": "stdout",
     "output_type": "stream",
     "text": [
      "27.011086913012925\n",
      "0.004577543961819622\n"
     ]
    }
   ],
   "source": [
    "from statsmodels.stats.diagnostic import het_white\n",
    "white_test = het_white(residuals, X)\n",
    "hi2 = white_test[0]\n",
    "p_val = white_test[1]\n",
    "print(hi2)\n",
    "print(p_val)"
   ]
  },
  {
   "cell_type": "markdown",
   "metadata": {},
   "source": [
    "По тесту Уайта мы отвергаем гипотизу $H_0$, поскольку p-value маленький, значит гетероскедастичность присутсвует"
   ]
  },
  {
   "cell_type": "markdown",
   "metadata": {},
   "source": [
    "### Тест Бройша-Пагана"
   ]
  },
  {
   "cell_type": "code",
   "execution_count": 84,
   "metadata": {},
   "outputs": [
    {
     "name": "stdout",
     "output_type": "stream",
     "text": [
      "10.296191239845779\n",
      "0.03572326072825726\n"
     ]
    }
   ],
   "source": [
    "from statsmodels.stats.diagnostic import het_breuschpagan\n",
    "breuschpagan_test = het_breuschpagan(residuals, X)\n",
    "hi2 = breuschpagan_test[0]\n",
    "p_val = breuschpagan_test[1]\n",
    "print(hi2)\n",
    "print(p_val)"
   ]
  },
  {
   "cell_type": "markdown",
   "metadata": {},
   "source": [
    "Данный тест даёт нам шанс на то что всё ок, но нет веть на нормальном уровне значимости (например 0.05) p-value всё равно маленький, значит точно $H_0$ снова отвергаем, получается гетероскедастичность присутсвует"
   ]
  },
  {
   "cell_type": "markdown",
   "metadata": {},
   "source": [
    "### Исправление гетероскедастичности с помощью взвешенного метода МНК с оценками дисперсий из теста Глейзера"
   ]
  },
  {
   "cell_type": "code",
   "execution_count": 89,
   "metadata": {},
   "outputs": [
    {
     "name": "stdout",
     "output_type": "stream",
     "text": [
      "                            OLS Regression Results                            \n",
      "==============================================================================\n",
      "Dep. Variable:                      y   R-squared:                       0.063\n",
      "Model:                            OLS   Adj. R-squared:                  0.030\n",
      "Method:                 Least Squares   F-statistic:                     1.924\n",
      "Date:                Sun, 15 Dec 2024   Prob (F-statistic):              0.111\n",
      "Time:                        23:49:41   Log-Likelihood:                -242.60\n",
      "No. Observations:                 119   AIC:                             495.2\n",
      "Df Residuals:                     114   BIC:                             509.1\n",
      "Df Model:                           4                                         \n",
      "Covariance Type:            nonrobust                                         \n",
      "===============================================================================\n",
      "                  coef    std err          t      P>|t|      [0.025      0.975]\n",
      "-------------------------------------------------------------------------------\n",
      "age            -0.0254      0.015     -1.730      0.086      -0.054       0.004\n",
      "high            0.6733      0.362      1.862      0.065      -0.043       1.390\n",
      "female          0.1947      0.470      0.415      0.679      -0.735       1.125\n",
      "is_children    -1.6117      0.914     -1.763      0.081      -3.423       0.199\n",
      "smoke           0.2481      0.506      0.490      0.625      -0.754       1.250\n",
      "==============================================================================\n",
      "Omnibus:                       27.896   Durbin-Watson:                   2.117\n",
      "Prob(Omnibus):                  0.000   Jarque-Bera (JB):               40.333\n",
      "Skew:                          -1.172   Prob(JB):                     1.74e-09\n",
      "Kurtosis:                       4.624   Cond. No.                         290.\n",
      "==============================================================================\n",
      "\n",
      "Notes:\n",
      "[1] Standard Errors assume that the covariance matrix of the errors is correctly specified.\n"
     ]
    }
   ],
   "source": [
    "residuals_squared = residuals ** 2\n",
    "\n",
    "# Добавляем константу для модели дисперсии\n",
    "X_var = sm.add_constant(X)\n",
    "\n",
    "# Модель для логарифма квадратов остатков\n",
    "model_var = sm.OLS(np.log(residuals_squared), X_var).fit()\n",
    "print(model_var.summary())\n",
    "\n",
    "# Предсказание логарифма дисперсии\n",
    "log_var_pred = model_var.predict(X_var)\n",
    "\n",
    "# Оценка дисперсии\n",
    "var_pred = np.exp(log_var_pred)\n",
    "\n",
    "# Веса для WLS\n",
    "weights = 1 / var_pred\n"
   ]
  },
  {
   "cell_type": "code",
   "execution_count": 90,
   "metadata": {},
   "outputs": [
    {
     "name": "stdout",
     "output_type": "stream",
     "text": [
      "                            WLS Regression Results                            \n",
      "==============================================================================\n",
      "Dep. Variable:                   wage   R-squared:                       0.310\n",
      "Model:                            WLS   Adj. R-squared:                  0.286\n",
      "Method:                 Least Squares   F-statistic:                     12.83\n",
      "Date:                Sun, 15 Dec 2024   Prob (F-statistic):           1.17e-08\n",
      "Time:                        23:49:44   Log-Likelihood:                -89.906\n",
      "No. Observations:                 119   AIC:                             189.8\n",
      "Df Residuals:                     114   BIC:                             203.7\n",
      "Df Model:                           4                                         \n",
      "Covariance Type:            nonrobust                                         \n",
      "===============================================================================\n",
      "                  coef    std err          t      P>|t|      [0.025      0.975]\n",
      "-------------------------------------------------------------------------------\n",
      "age            -0.0055      0.004     -1.442      0.152      -0.013       0.002\n",
      "high            0.5831      0.104      5.634      0.000       0.378       0.788\n",
      "female         -0.2557      0.127     -2.008      0.047      -0.508      -0.003\n",
      "is_children    10.4423      0.253     41.300      0.000       9.941      10.943\n",
      "smoke           0.1364      0.141      0.964      0.337      -0.144       0.417\n",
      "==============================================================================\n",
      "Omnibus:                        0.723   Durbin-Watson:                   1.729\n",
      "Prob(Omnibus):                  0.697   Jarque-Bera (JB):                0.785\n",
      "Skew:                           0.180   Prob(JB):                        0.675\n",
      "Kurtosis:                       2.829   Cond. No.                         334.\n",
      "==============================================================================\n",
      "\n",
      "Notes:\n",
      "[1] Standard Errors assume that the covariance matrix of the errors is correctly specified.\n"
     ]
    }
   ],
   "source": [
    "model_wls = sm.WLS(y, X, weights=weights).fit()\n",
    "print(model_wls.summary())"
   ]
  },
  {
   "cell_type": "code",
   "execution_count": 91,
   "metadata": {},
   "outputs": [
    {
     "data": {
      "text/plain": [
       "<seaborn.axisgrid.FacetGrid at 0x325e54980>"
      ]
     },
     "execution_count": 91,
     "metadata": {},
     "output_type": "execute_result"
    },
    {
     "data": {
      "image/png": "[encoded data removed]",
      "text/plain": [
       "<Figure size 800x400 with 1 Axes>"
      ]
     },
     "metadata": {},
     "output_type": "display_data"
    }
   ],
   "source": [
    "residuals_wls = model_wls.resid  # Остатки модели\n",
    "predictions_wls = model_wls.fittedvalues  # Прогнозируемые значения\n",
    "\n",
    "sns.relplot(\n",
    "    y=residuals_wls,\n",
    "    x=predictions_wls,\n",
    "    kind='scatter',\n",
    "    height=4,\n",
    "    aspect=2\n",
    ").set(xlabel=\"Прогнозируемые значения\", ylabel=\"Остатки\", title='График Остатки–Прогнозы')"
   ]
  },
  {
   "cell_type": "code",
   "execution_count": 92,
   "metadata": {},
   "outputs": [
    {
     "name": "stdout",
     "output_type": "stream",
     "text": [
      "White test p-value after WLS: 0.0018663756952347014\n",
      "Breusch-Pagan test p-value after WLS: 0.008653105417447847\n"
     ]
    }
   ],
   "source": [
    "white_test_wls = het_white(residuals_wls, X)\n",
    "white_p_val_wls = white_test_wls[1]\n",
    "print(f\"White test p-value after WLS: {white_p_val_wls}\")\n",
    "\n",
    "# Тест Бройша-Пагана\n",
    "bp_test_wls = het_breuschpagan(residuals_wls, X)\n",
    "bp_p_val_wls = bp_test_wls[1]\n",
    "print(f\"Breusch-Pagan test p-value after WLS: {bp_p_val_wls}\")\n"
   ]
  },
  {
   "cell_type": "markdown",
   "metadata": {},
   "source": [
    "круто, мне это не помогло, поэтому будем пользоваться другим методом\n"
   ]
  },
  {
   "cell_type": "markdown",
   "metadata": {},
   "source": [
    "### Робастеные стандартные ошибки в форме Уайта"
   ]
  },
  {
   "cell_type": "code",
   "execution_count": 73,
   "metadata": {},
   "outputs": [
    {
     "name": "stdout",
     "output_type": "stream",
     "text": [
      "                            OLS Regression Results                            \n",
      "==============================================================================\n",
      "Dep. Variable:                   wage   R-squared:                       0.297\n",
      "Model:                            OLS   Adj. R-squared:                  0.272\n",
      "Method:                 Least Squares   F-statistic:                     11.77\n",
      "Date:                Sun, 15 Dec 2024   Prob (F-statistic):           4.90e-08\n",
      "Time:                        23:25:43   Log-Likelihood:                -92.906\n",
      "No. Observations:                 119   AIC:                             195.8\n",
      "Df Residuals:                     114   BIC:                             209.7\n",
      "Df Model:                           4                                         \n",
      "Covariance Type:                  HC3                                         \n",
      "===============================================================================\n",
      "                  coef    std err          z      P>|z|      [0.025      0.975]\n",
      "-------------------------------------------------------------------------------\n",
      "age            -0.0023      0.004     -0.551      0.582      -0.010       0.006\n",
      "high            0.5600      0.106      5.297      0.000       0.353       0.767\n",
      "female         -0.3768      0.166     -2.264      0.024      -0.703      -0.051\n",
      "is_children    10.3792      0.265     39.192      0.000       9.860      10.898\n",
      "smoke           0.1339      0.179      0.746      0.456      -0.218       0.485\n",
      "==============================================================================\n",
      "Omnibus:                        0.815   Durbin-Watson:                   1.796\n",
      "Prob(Omnibus):                  0.665   Jarque-Bera (JB):                0.936\n",
      "Skew:                           0.168   Prob(JB):                        0.626\n",
      "Kurtosis:                       2.724   Cond. No.                         290.\n",
      "==============================================================================\n",
      "\n",
      "Notes:\n",
      "[1] Standard Errors are heteroscedasticity robust (HC3)\n"
     ]
    }
   ],
   "source": [
    "X = df[['age', 'high', 'female', 'is_children', 'smoke']]\n",
    "X = sm.add_constant(X)\n",
    "y = np.log(df['wage'])\n",
    "\n",
    "model = sm.OLS(y, X).fit(cov_type='HC3')  # или 'HC0', 'HC1', 'HC2'\n",
    "print(model.summary())"
   ]
  },
  {
   "cell_type": "code",
   "execution_count": 74,
   "metadata": {},
   "outputs": [
    {
     "name": "stdout",
     "output_type": "stream",
     "text": [
      "0.004577543961819622\n"
     ]
    }
   ],
   "source": [
    "residuals_correct = model.resid\n",
    "white_test_correct = het_white(residuals_correct, X)\n",
    "hi2 = white_test_correct[0]\n",
    "p_val = white_test_correct[1]\n",
    "print(p_val)"
   ]
  },
  {
   "cell_type": "markdown",
   "metadata": {},
   "source": [
    "ну, особо ничего не помогло, но в первом случае хотя бы облако ошибок стало лучше"
   ]
  },
  {
   "cell_type": "markdown",
   "metadata": {},
   "source": [
    "## Задание 11"
   ]
  },
  {
   "cell_type": "code",
   "execution_count": 93,
   "metadata": {},
   "outputs": [
    {
     "name": "stdout",
     "output_type": "stream",
     "text": [
      "p-value(0.134)\n",
      "f-value(2.277)\n",
      "<F test: F=2.2771888215996143, p=0.13408068423377537, df_denom=113, df_num=1>\n"
     ]
    }
   ],
   "source": [
    "\n",
    "from statsmodels.stats.diagnostic import linear_reset\n",
    "reset = linear_reset(res=model, power=2, test_type=\"fitted\", use_f=True)\n",
    "p_value = reset.pvalue\n",
    "f = reset.fvalue\n",
    "print(f'p-value({p_value:.3f})')\n",
    "print(f'f-value({f:.3f})')\n",
    "print(reset)"
   ]
  },
  {
   "cell_type": "markdown",
   "metadata": {},
   "source": []
  }
 ],
 "metadata": {
  "kernelspec": {
   "display_name": "Python 3",
   "language": "python",
   "name": "python3"
  },
  "language_info": {
   "codemirror_mode": {
    "name": "ipython",
    "version": 3
   },
   "file_extension": ".py",
   "mimetype": "text/x-python",
   "name": "python",
   "nbconvert_exporter": "python",
   "pygments_lexer": "ipython3",
   "version": "3.12.0"
  }
 },
 "nbformat": 4,
 "nbformat_minor": 2
}
