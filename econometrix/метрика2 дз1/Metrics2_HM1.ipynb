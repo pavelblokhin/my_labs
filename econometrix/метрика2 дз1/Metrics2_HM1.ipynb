{
 "cells": [
  {
   "cell_type": "markdown",
   "metadata": {},
   "source": [
    "Вы планируете оценить следующую модель:\n",
    "\n",
    "$$\n",
    "lbwght_i = \\beta_0 + \\beta_1 \\cdot male_i + \\beta_2 \\cdot parity_i + \\beta_3 \\cdot lfaminc_i + \\beta_4 \\cdot cigs_i + \\varepsilon_i\n",
    "$$\n"
   ]
  },
  {
   "cell_type": "code",
   "execution_count": 1,
   "metadata": {},
   "outputs": [],
   "source": [
    "import pandas as pd\n",
    "import numpy as np\n",
    "import pyreadstat\n",
    "from scipy import stats\n",
    "from statsmodels.stats.diagnostic import het_white, het_breuschpagan\n",
    "import statsmodels.api as sm\n",
    "from linearmodels.iv import IV2SLS, compare\n",
    "from linearmodels.shared.hypotheses import WaldTestStatistic as wald_test\n",
    "# убрать предупреждения\n",
    "import warnings\n",
    "warnings.filterwarnings(\"ignore\")"
   ]
  },
  {
   "cell_type": "markdown",
   "metadata": {},
   "source": [
    "## Задание 1"
   ]
  },
  {
   "cell_type": "markdown",
   "metadata": {},
   "source": [
    "### Пункт с)"
   ]
  },
  {
   "cell_type": "markdown",
   "metadata": {},
   "source": [
    "Оцените с помощью OLS модель из пункта (a). Проинтерпретируйте полученные результаты."
   ]
  },
  {
   "cell_type": "code",
   "execution_count": 5,
   "metadata": {},
   "outputs": [
    {
     "data": {
      "text/html": [
       "<div>\n",
       "<style scoped>\n",
       "    .dataframe tbody tr th:only-of-type {\n",
       "        vertical-align: middle;\n",
       "    }\n",
       "\n",
       "    .dataframe tbody tr th {\n",
       "        vertical-align: top;\n",
       "    }\n",
       "\n",
       "    .dataframe thead th {\n",
       "        text-align: right;\n",
       "    }\n",
       "</style>\n",
       "<table border=\"1\" class=\"dataframe\">\n",
       "  <thead>\n",
       "    <tr style=\"text-align: right;\">\n",
       "      <th></th>\n",
       "      <th>faminc</th>\n",
       "      <th>cigtax</th>\n",
       "      <th>cigprice</th>\n",
       "      <th>bwght</th>\n",
       "      <th>fatheduc</th>\n",
       "      <th>motheduc</th>\n",
       "      <th>parity</th>\n",
       "      <th>male</th>\n",
       "      <th>white</th>\n",
       "      <th>cigs</th>\n",
       "      <th>lbwght</th>\n",
       "      <th>bwghtlbs</th>\n",
       "      <th>packs</th>\n",
       "      <th>lfaminc</th>\n",
       "    </tr>\n",
       "  </thead>\n",
       "  <tbody>\n",
       "    <tr>\n",
       "      <th>0</th>\n",
       "      <td>13.5</td>\n",
       "      <td>16.5</td>\n",
       "      <td>122.300003</td>\n",
       "      <td>109</td>\n",
       "      <td>12</td>\n",
       "      <td>12</td>\n",
       "      <td>1</td>\n",
       "      <td>1</td>\n",
       "      <td>1</td>\n",
       "      <td>0</td>\n",
       "      <td>4.691348</td>\n",
       "      <td>6.8125</td>\n",
       "      <td>0.0</td>\n",
       "      <td>2.602690</td>\n",
       "    </tr>\n",
       "    <tr>\n",
       "      <th>1</th>\n",
       "      <td>7.5</td>\n",
       "      <td>16.5</td>\n",
       "      <td>122.300003</td>\n",
       "      <td>133</td>\n",
       "      <td>6</td>\n",
       "      <td>12</td>\n",
       "      <td>2</td>\n",
       "      <td>1</td>\n",
       "      <td>0</td>\n",
       "      <td>0</td>\n",
       "      <td>4.890349</td>\n",
       "      <td>8.3125</td>\n",
       "      <td>0.0</td>\n",
       "      <td>2.014903</td>\n",
       "    </tr>\n",
       "    <tr>\n",
       "      <th>2</th>\n",
       "      <td>0.5</td>\n",
       "      <td>16.5</td>\n",
       "      <td>122.300003</td>\n",
       "      <td>129</td>\n",
       "      <td>NaN</td>\n",
       "      <td>12</td>\n",
       "      <td>2</td>\n",
       "      <td>0</td>\n",
       "      <td>0</td>\n",
       "      <td>0</td>\n",
       "      <td>4.859812</td>\n",
       "      <td>8.0625</td>\n",
       "      <td>0.0</td>\n",
       "      <td>-0.693147</td>\n",
       "    </tr>\n",
       "    <tr>\n",
       "      <th>3</th>\n",
       "      <td>15.5</td>\n",
       "      <td>16.5</td>\n",
       "      <td>122.300003</td>\n",
       "      <td>126</td>\n",
       "      <td>12</td>\n",
       "      <td>12</td>\n",
       "      <td>2</td>\n",
       "      <td>1</td>\n",
       "      <td>0</td>\n",
       "      <td>0</td>\n",
       "      <td>4.836282</td>\n",
       "      <td>7.8750</td>\n",
       "      <td>0.0</td>\n",
       "      <td>2.740840</td>\n",
       "    </tr>\n",
       "    <tr>\n",
       "      <th>4</th>\n",
       "      <td>27.5</td>\n",
       "      <td>16.5</td>\n",
       "      <td>122.300003</td>\n",
       "      <td>134</td>\n",
       "      <td>14</td>\n",
       "      <td>12</td>\n",
       "      <td>2</td>\n",
       "      <td>1</td>\n",
       "      <td>1</td>\n",
       "      <td>0</td>\n",
       "      <td>4.897840</td>\n",
       "      <td>8.3750</td>\n",
       "      <td>0.0</td>\n",
       "      <td>3.314186</td>\n",
       "    </tr>\n",
       "    <tr>\n",
       "      <th>...</th>\n",
       "      <td>...</td>\n",
       "      <td>...</td>\n",
       "      <td>...</td>\n",
       "      <td>...</td>\n",
       "      <td>...</td>\n",
       "      <td>...</td>\n",
       "      <td>...</td>\n",
       "      <td>...</td>\n",
       "      <td>...</td>\n",
       "      <td>...</td>\n",
       "      <td>...</td>\n",
       "      <td>...</td>\n",
       "      <td>...</td>\n",
       "      <td>...</td>\n",
       "    </tr>\n",
       "    <tr>\n",
       "      <th>1383</th>\n",
       "      <td>27.5</td>\n",
       "      <td>30.0</td>\n",
       "      <td>138.300003</td>\n",
       "      <td>110</td>\n",
       "      <td>12</td>\n",
       "      <td>12</td>\n",
       "      <td>4</td>\n",
       "      <td>1</td>\n",
       "      <td>1</td>\n",
       "      <td>0</td>\n",
       "      <td>4.700480</td>\n",
       "      <td>6.8750</td>\n",
       "      <td>0.0</td>\n",
       "      <td>3.314186</td>\n",
       "    </tr>\n",
       "    <tr>\n",
       "      <th>1384</th>\n",
       "      <td>5.5</td>\n",
       "      <td>30.0</td>\n",
       "      <td>138.300003</td>\n",
       "      <td>146</td>\n",
       "      <td>NaN</td>\n",
       "      <td>16</td>\n",
       "      <td>2</td>\n",
       "      <td>1</td>\n",
       "      <td>1</td>\n",
       "      <td>0</td>\n",
       "      <td>4.983607</td>\n",
       "      <td>9.1250</td>\n",
       "      <td>0.0</td>\n",
       "      <td>1.704748</td>\n",
       "    </tr>\n",
       "    <tr>\n",
       "      <th>1385</th>\n",
       "      <td>65.0</td>\n",
       "      <td>8.0</td>\n",
       "      <td>118.599998</td>\n",
       "      <td>135</td>\n",
       "      <td>18</td>\n",
       "      <td>16</td>\n",
       "      <td>2</td>\n",
       "      <td>0</td>\n",
       "      <td>1</td>\n",
       "      <td>0</td>\n",
       "      <td>4.905275</td>\n",
       "      <td>8.4375</td>\n",
       "      <td>0.0</td>\n",
       "      <td>4.174387</td>\n",
       "    </tr>\n",
       "    <tr>\n",
       "      <th>1386</th>\n",
       "      <td>27.5</td>\n",
       "      <td>8.0</td>\n",
       "      <td>118.599998</td>\n",
       "      <td>118</td>\n",
       "      <td>NaN</td>\n",
       "      <td>14</td>\n",
       "      <td>2</td>\n",
       "      <td>0</td>\n",
       "      <td>1</td>\n",
       "      <td>0</td>\n",
       "      <td>4.770685</td>\n",
       "      <td>7.3750</td>\n",
       "      <td>0.0</td>\n",
       "      <td>3.314186</td>\n",
       "    </tr>\n",
       "    <tr>\n",
       "      <th>1387</th>\n",
       "      <td>37.5</td>\n",
       "      <td>8.0</td>\n",
       "      <td>118.599998</td>\n",
       "      <td>111</td>\n",
       "      <td>16</td>\n",
       "      <td>13</td>\n",
       "      <td>2</td>\n",
       "      <td>0</td>\n",
       "      <td>1</td>\n",
       "      <td>0</td>\n",
       "      <td>4.709530</td>\n",
       "      <td>6.9375</td>\n",
       "      <td>0.0</td>\n",
       "      <td>3.624341</td>\n",
       "    </tr>\n",
       "  </tbody>\n",
       "</table>\n",
       "<p>1388 rows × 14 columns</p>\n",
       "</div>"
      ],
      "text/plain": [
       "      faminc  cigtax    cigprice  bwght fatheduc motheduc  parity  male  \\\n",
       "0       13.5    16.5  122.300003    109       12       12       1     1   \n",
       "1        7.5    16.5  122.300003    133        6       12       2     1   \n",
       "2        0.5    16.5  122.300003    129      NaN       12       2     0   \n",
       "3       15.5    16.5  122.300003    126       12       12       2     1   \n",
       "4       27.5    16.5  122.300003    134       14       12       2     1   \n",
       "...      ...     ...         ...    ...      ...      ...     ...   ...   \n",
       "1383    27.5    30.0  138.300003    110       12       12       4     1   \n",
       "1384     5.5    30.0  138.300003    146      NaN       16       2     1   \n",
       "1385    65.0     8.0  118.599998    135       18       16       2     0   \n",
       "1386    27.5     8.0  118.599998    118      NaN       14       2     0   \n",
       "1387    37.5     8.0  118.599998    111       16       13       2     0   \n",
       "\n",
       "      white  cigs    lbwght  bwghtlbs  packs   lfaminc  \n",
       "0         1     0  4.691348    6.8125    0.0  2.602690  \n",
       "1         0     0  4.890349    8.3125    0.0  2.014903  \n",
       "2         0     0  4.859812    8.0625    0.0 -0.693147  \n",
       "3         0     0  4.836282    7.8750    0.0  2.740840  \n",
       "4         1     0  4.897840    8.3750    0.0  3.314186  \n",
       "...     ...   ...       ...       ...    ...       ...  \n",
       "1383      1     0  4.700480    6.8750    0.0  3.314186  \n",
       "1384      1     0  4.983607    9.1250    0.0  1.704748  \n",
       "1385      1     0  4.905275    8.4375    0.0  4.174387  \n",
       "1386      1     0  4.770685    7.3750    0.0  3.314186  \n",
       "1387      1     0  4.709530    6.9375    0.0  3.624341  \n",
       "\n",
       "[1388 rows x 14 columns]"
      ]
     },
     "execution_count": 5,
     "metadata": {},
     "output_type": "execute_result"
    }
   ],
   "source": [
    "df, _ = pyreadstat.read_dta('bwght.dta')\n",
    "df"
   ]
  },
  {
   "cell_type": "code",
   "execution_count": 6,
   "metadata": {},
   "outputs": [
    {
     "name": "stdout",
     "output_type": "stream",
     "text": [
      "                            OLS Regression Results                            \n",
      "==============================================================================\n",
      "Dep. Variable:                 lbwght   R-squared:                       0.035\n",
      "Model:                            OLS   Adj. R-squared:                  0.032\n",
      "Method:                 Least Squares   F-statistic:                     12.55\n",
      "Date:                Sun, 16 Mar 2025   Prob (F-statistic):           4.90e-10\n",
      "Time:                        22:46:06   Log-Likelihood:                 356.03\n",
      "No. Observations:                1388   AIC:                            -702.1\n",
      "Df Residuals:                    1383   BIC:                            -675.9\n",
      "Df Model:                           4                                         \n",
      "Covariance Type:            nonrobust                                         \n",
      "==============================================================================\n",
      "                 coef    std err          t      P>|t|      [0.025      0.975]\n",
      "------------------------------------------------------------------------------\n",
      "const          4.6756      0.022    213.681      0.000       4.633       4.719\n",
      "male           0.0262      0.010      2.601      0.009       0.006       0.046\n",
      "parity         0.0147      0.006      2.600      0.009       0.004       0.026\n",
      "lfaminc        0.0180      0.006      3.233      0.001       0.007       0.029\n",
      "cigs          -0.0042      0.001     -4.890      0.000      -0.006      -0.003\n",
      "==============================================================================\n",
      "Omnibus:                      614.841   Durbin-Watson:                   1.931\n",
      "Prob(Omnibus):                  0.000   Jarque-Bera (JB):             6025.606\n",
      "Skew:                          -1.799   Prob(JB):                         0.00\n",
      "Kurtosis:                      12.552   Cond. No.                         29.2\n",
      "==============================================================================\n",
      "\n",
      "Notes:\n",
      "[1] Standard Errors assume that the covariance matrix of the errors is correctly specified.\n"
     ]
    }
   ],
   "source": [
    "factors = sm.add_constant(df[['male', 'parity', 'lfaminc', 'cigs']])\n",
    "lbwght = df['lbwght']\n",
    "res = sm.OLS(lbwght, factors).fit()\n",
    "print(res.summary())"
   ]
  },
  {
   "cell_type": "code",
   "execution_count": 54,
   "metadata": {},
   "outputs": [
    {
     "name": "stdout",
     "output_type": "stream",
     "text": [
      "lbwght = 4.676 + 0.026 * male + 0.015 * parity + 0.018 * lfaminc + -0.004 * cigs\n"
     ]
    }
   ],
   "source": [
    "print(f'lbwght = {res.params['const']:0.3f} + {res.params['male']:0.3f} * male + {res.params['parity']:0.3f} * parity + {res.params['lfaminc']:0.3f} * lfaminc + {res.params['cigs']:0.3f} * cigs')"
   ]
  },
  {
   "cell_type": "markdown",
   "metadata": {},
   "source": [
    "### Пункт d)\n",
    "\n",
    "Используя в качестве инструментальной переменной среднюю стоимость сигарет ($cigprice$), оцените модель из пункта (a) с помощью 2SLS. Сравните полученный результат с результатом из пункта (c)."
   ]
  },
  {
   "cell_type": "code",
   "execution_count": 7,
   "metadata": {},
   "outputs": [
    {
     "name": "stdout",
     "output_type": "stream",
     "text": [
      "                          IV-2SLS Estimation Summary                          \n",
      "==============================================================================\n",
      "Dep. Variable:                 lbwght   R-squared:                     -1.8118\n",
      "Estimator:                    IV-2SLS   Adj. R-squared:                -1.8199\n",
      "No. Observations:                1388   F-statistic:                    10.018\n",
      "Date:                Sun, Mar 16 2025   P-value (F-stat)                0.0401\n",
      "Time:                        22:46:11   Distribution:                  chi2(4)\n",
      "Cov. Estimator:                robust                                         \n",
      "                                                                              \n",
      "                             Parameter Estimates                              \n",
      "==============================================================================\n",
      "            Parameter  Std. Err.     T-stat    P-value    Lower CI    Upper CI\n",
      "------------------------------------------------------------------------------\n",
      "const          4.4679     0.2559     17.463     0.0000      3.9664      4.9693\n",
      "male           0.0298     0.0172     1.7348     0.0828     -0.0039      0.0635\n",
      "parity        -0.0012     0.0253    -0.0489     0.9610     -0.0509      0.0484\n",
      "lfaminc        0.0636     0.0570     1.1172     0.2639     -0.0480      0.1753\n",
      "cigs           0.0399     0.0556     0.7173     0.4732     -0.0690      0.1488\n",
      "==============================================================================\n",
      "\n",
      "Endogenous: cigs\n",
      "Instruments: cigprice\n",
      "Robust Covariance (Heteroskedastic)\n",
      "Debiased: False\n"
     ]
    }
   ],
   "source": [
    "iv_2sls = IV2SLS(\n",
    "    dependent = lbwght,\n",
    "    exog = factors.drop(['cigs'], axis=1),\n",
    "    endog = factors['cigs'],\n",
    "    instruments = df[['cigprice']]\n",
    ").fit()\n",
    "print(iv_2sls.summary)"
   ]
  },
  {
   "cell_type": "markdown",
   "metadata": {},
   "source": [
    "### Пункт e)\n",
    "\n",
    "Каким свойствам должна удовлетворять инструментальная переменная? На уровне значимости 5\\% проверьте их для инструментальной переменной из пункта (d), описав подробно используемые тесты."
   ]
  },
  {
   "cell_type": "code",
   "execution_count": 8,
   "metadata": {},
   "outputs": [
    {
     "data": {
      "text/plain": [
       "Wu-Hausman test of exogeneity\n",
       "H0: Variables cigs are exogenous\n",
       "Statistic: 1.9186\n",
       "P-value: 0.1662\n",
       "Distributed: F(1,1382)\n",
       "WaldTestStatistic, id: 0x3210de4b0"
      ]
     },
     "execution_count": 8,
     "metadata": {},
     "output_type": "execute_result"
    }
   ],
   "source": [
    "#Хаусман \n",
    "iv_2sls.wu_hausman(['cigs'])"
   ]
  },
  {
   "cell_type": "code",
   "execution_count": 9,
   "metadata": {},
   "outputs": [
    {
     "name": "stdout",
     "output_type": "stream",
     "text": [
      "                            OLS Regression Results                            \n",
      "==============================================================================\n",
      "Dep. Variable:                   cigs   R-squared:                       0.030\n",
      "Model:                            OLS   Adj. R-squared:                  0.028\n",
      "Method:                 Least Squares   F-statistic:                     10.86\n",
      "Date:                Sun, 16 Mar 2025   Prob (F-statistic):           1.14e-08\n",
      "Time:                        22:46:48   Log-Likelihood:                -4428.2\n",
      "No. Observations:                1388   AIC:                             8866.\n",
      "Df Residuals:                    1383   BIC:                             8892.\n",
      "Df Model:                           4                                         \n",
      "Covariance Type:            nonrobust                                         \n",
      "==============================================================================\n",
      "                 coef    std err          t      P>|t|      [0.025      0.975]\n",
      "------------------------------------------------------------------------------\n",
      "const          2.7482      2.080      1.321      0.187      -1.332       6.828\n",
      "male          -0.0945      0.317     -0.298      0.766      -0.717       0.527\n",
      "parity         0.3630      0.178      2.044      0.041       0.015       0.711\n",
      "lfaminc       -1.0527      0.174     -6.051      0.000      -1.394      -0.711\n",
      "cigprice       0.0155      0.016      1.001      0.317      -0.015       0.046\n",
      "==============================================================================\n",
      "Omnibus:                     1025.554   Durbin-Watson:                   1.945\n",
      "Prob(Omnibus):                  0.000   Jarque-Bera (JB):            14470.841\n",
      "Skew:                           3.423   Prob(JB):                         0.00\n",
      "Kurtosis:                      17.260   Cond. No.                     1.72e+03\n",
      "==============================================================================\n",
      "\n",
      "Notes:\n",
      "[1] Standard Errors assume that the covariance matrix of the errors is correctly specified.\n",
      "[2] The condition number is large, 1.72e+03. This might indicate that there are\n",
      "strong multicollinearity or other numerical problems.\n"
     ]
    }
   ],
   "source": [
    "#F-статистика первого шага\n",
    "dependent = df['cigs']\n",
    "exog = sm.add_constant(df[['male', 'parity', 'lfaminc', 'cigprice']])\n",
    "mod = sm.OLS(dependent, exog)\n",
    "res = mod.fit()\n",
    "print(res.summary())"
   ]
  },
  {
   "cell_type": "code",
   "execution_count": 10,
   "metadata": {},
   "outputs": [
    {
     "name": "stdout",
     "output_type": "stream",
     "text": [
      "<F test: F=1.0018004472161448, p=0.31705033061915966, df_denom=1.38e+03, df_num=1>\n"
     ]
    }
   ],
   "source": [
    "hypotheses = '(cigprice = 0)'\n",
    "f_test = res.f_test(hypotheses)\n",
    "print(f_test)"
   ]
  }
 ],
 "metadata": {
  "kernelspec": {
   "display_name": "Python 3",
   "language": "python",
   "name": "python3"
  },
  "language_info": {
   "codemirror_mode": {
    "name": "ipython",
    "version": 3
   },
   "file_extension": ".py",
   "mimetype": "text/x-python",
   "name": "python",
   "nbconvert_exporter": "python",
   "pygments_lexer": "ipython3",
   "version": "3.12.0"
  }
 },
 "nbformat": 4,
 "nbformat_minor": 2
}
