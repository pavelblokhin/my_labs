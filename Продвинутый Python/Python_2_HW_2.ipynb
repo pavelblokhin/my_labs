{
  "nbformat": 4,
  "nbformat_minor": 0,
  "metadata": {
    "colab": {
      "provenance": []
    },
    "kernelspec": {
      "name": "python3",
      "display_name": "Python 3"
    },
    "language_info": {
      "name": "python"
    }
  },
  "cells": [
    {
      "cell_type": "markdown",
      "source": [
        "#Продвинутый Python, ДЗ-2\n",
        "\n",
        "Правила игры:\n",
        "\n",
        "В домашке 8 задач, разбаловка указана в задании. Суммарно за дз можно получить 100 баллов, что равняется 10 баллам\n",
        "\n",
        "В каждой задаче необходимо реализовать функцию, которая после будет проверяться через github classroom на тестах. Сами тесты лежит в гитхабе, можете локально проверить работу функций перед сдачей\n",
        "\n",
        "Дедлайн - 7 дней после выдачи дз. Необходимо залить решеннный ноутбук в github и прислать ссылку в Anytask (без выполнения любого из пунктов работа проверяться не будет)\n",
        "\n",
        "В данной домашке нужно использовать pandas"
      ],
      "metadata": {
        "id": "5ktPX0pCqSRN"
      }
    },
    {
      "cell_type": "code",
      "source": [
        "# https://stackoverflow.com/a/60658965/7286121\n",
        "\n",
        "from IPython.core.magic import register_cell_magic\n",
        "\n",
        "@register_cell_magic\n",
        "def write_and_run(line, cell):\n",
        "    argz = line.split()\n",
        "    file = argz[-1]\n",
        "    mode = 'w'\n",
        "    if len(argz) == 2 and argz[0] == '-a':\n",
        "        mode = 'a'\n",
        "    with open(file, mode) as f:\n",
        "        f.write(cell)\n",
        "    get_ipython().run_cell(cell)"
      ],
      "metadata": {
        "id": "Rlek5byfvxPo"
      },
      "execution_count": 1,
      "outputs": []
    },
    {
      "cell_type": "markdown",
      "source": [
        "## Данные"
      ],
      "metadata": {
        "id": "63di75_vqbTp"
      }
    },
    {
      "cell_type": "markdown",
      "source": [
        "В этом домашнем задании вам придется оказаться на месте аналитика в бразильском маркетплейсе [Olist](https://olist.com/pt-br/). Вам необходимо исследовать данные и на их основании сделать выводы, которые помогут бизнесу расцветать!\n",
        "\n",
        "Данные находятся тут в файле archive.zip"
      ],
      "metadata": {
        "id": "krcmq1NUqeCS"
      }
    },
    {
      "cell_type": "code",
      "source": [
        "# !pip install wget\n",
        "#перед сдачей это закомментить"
      ],
      "metadata": {
        "id": "5U4xc4-9b9XR",
        "colab": {
          "base_uri": "https://localhost:8080/"
        },
        "outputId": "a6397ce4-8437-4265-f76b-93ee6da6d166"
      },
      "execution_count": 2,
      "outputs": [
        {
          "output_type": "stream",
          "name": "stdout",
          "text": [
            "Collecting wget\n",
            "  Downloading wget-3.2.zip (10 kB)\n",
            "  Preparing metadata (setup.py) ... \u001b[?25l\u001b[?25hdone\n",
            "Building wheels for collected packages: wget\n",
            "  Building wheel for wget (setup.py) ... \u001b[?25l\u001b[?25hdone\n",
            "  Created wheel for wget: filename=wget-3.2-py3-none-any.whl size=9655 sha256=2c55acb14699b065b3adafe9ea10c0355e31836fdb20d8a3e30a8b6782657609\n",
            "  Stored in directory: /root/.cache/pip/wheels/8b/f1/7f/5c94f0a7a505ca1c81cd1d9208ae2064675d97582078e6c769\n",
            "Successfully built wget\n",
            "Installing collected packages: wget\n",
            "Successfully installed wget-3.2\n"
          ]
        }
      ]
    },
    {
      "cell_type": "code",
      "source": [
        "# Код, который будет в каждом тесте, названия не менять\n",
        "import pandas as pd\n",
        "import numpy as np\n",
        "import zipfile\n",
        "import wget\n",
        "\n",
        "url = 'https://github.com/Palladain/Deep_Python/raw/main/Homeworks/Homework_1/archive.zip'\n",
        "filename = wget.download(url)\n",
        "\n",
        "with zipfile.ZipFile(filename, 'r') as zip_ref:\n",
        "    zip_ref.extractall('./')\n",
        "\n",
        "customers = pd.read_csv('olist_customers_dataset.csv')\n",
        "location = pd.read_csv('olist_geolocation_dataset.csv')\n",
        "items = pd.read_csv('olist_order_items_dataset.csv')\n",
        "payments = pd.read_csv('olist_order_payments_dataset.csv')\n",
        "reviews = pd.read_csv('olist_order_reviews_dataset.csv')\n",
        "orders = pd.read_csv('olist_orders_dataset.csv')\n",
        "products = pd.read_csv('olist_products_dataset.csv')\n",
        "translation = pd.read_csv('product_category_name_translation.csv')\n",
        "sellers = pd.read_csv('olist_sellers_dataset.csv')"
      ],
      "metadata": {
        "id": "ItTnixKIrtHQ"
      },
      "execution_count": 3,
      "outputs": []
    },
    {
      "cell_type": "markdown",
      "source": [
        "Ван дано 9 датасетов, которые содержат в себе все данные по 100 000 заказам со всей Бразилии. Чтобы облегчить вам жизнь, вот связи по этим датасетам (файл product_category_name_translation является переводом названий категорий с португальского на английский)"
      ],
      "metadata": {
        "id": "LLos28bYrbR2"
      }
    },
    {
      "cell_type": "markdown",
      "source": [
        "![](https://i.imgur.com/HRhd2Y0.png)"
      ],
      "metadata": {
        "id": "lXXie4hQrdhI"
      }
    },
    {
      "cell_type": "markdown",
      "source": [
        "Ну что же, начнем!"
      ],
      "metadata": {
        "id": "4pUMuhE1rWhb"
      }
    },
    {
      "cell_type": "markdown",
      "source": [
        "## Задание 1 (10 баллов)"
      ],
      "metadata": {
        "id": "VnjVNWlFrVKG"
      }
    },
    {
      "cell_type": "markdown",
      "source": [
        "Определите:\n",
        "\n",
        "* Число товаров\n",
        "\n",
        "* Среднюю стоимость товара (стоимость товара = среднее от цен в датасете items)\n",
        "\n",
        "в разрезе категорий (все категории должны быть на английском языке)\n",
        "\n",
        "Табличка, которая у вас должна получиться:\n",
        "\n",
        "```\n",
        "category | products | price\n",
        "\n",
        "value    | value      | value\n",
        "```\n",
        "\n",
        "**Обратите внимание:**\n",
        "\n",
        "Для категории portateis_cozinha_e_preparadores_de_alimentos перевод portable kitchen and food preparers\n",
        "\n",
        "Для категории pc_gamer перевод PC Gamer\n",
        "\n",
        "Для них нужно отдельно добавить перевод"
      ],
      "metadata": {
        "id": "2Qt0BXIIvXOx"
      }
    },
    {
      "cell_type": "code",
      "source": [
        "%%write_and_run task_1.py\n",
        "\n",
        "# важно! все зависимости, которые используете (если добавляее новые) в этом классе надо явно продублировать в эту ячейку\n",
        "import numpy as np\n",
        "import pandas as pd\n",
        "\n",
        "def task_1(translation, items, products):\n",
        "    new_tr = pd.DataFrame([\n",
        "        ['portateis_cozinha_e_preparadores_de_alimentos', 'portable kitchen and food preparers'],\n",
        "        ['pc_gamer', 'PC Gamer']\n",
        "    ], columns=['product_category_name', 'product_category_name_english'])\n",
        "\n",
        "    translation = pd.concat([translation, new_tr], ignore_index=True)\n",
        "    res = items.join(products[['product_id', 'product_category_name']].set_index('product_id'), how='inner', on='product_id').join(translation.set_index('product_category_name'), how='inner', on='product_category_name')\n",
        "    res = res.groupby(['product_category_name_english', 'product_id']).agg({\"price\": \"mean\"}).reset_index()\n",
        "    res = res.groupby(['product_category_name_english']).agg({'product_id': 'nunique', 'price': \"mean\"}).reset_index()\n",
        "    res = res.rename(columns={'product_category_name_english': 'category', 'product_id': 'products'})\n",
        "    return res"
      ],
      "metadata": {
        "id": "PWVaTwBFrkFj"
      },
      "execution_count": 4,
      "outputs": []
    },
    {
      "cell_type": "code",
      "source": [
        "#Проверки\n",
        "\n",
        "res = task_1(translation, items, products)\n",
        "\n",
        "assert res[res.category == 'portable kitchen and food preparers'].price.values[0] == 186.996\n",
        "assert len(res) == 73\n",
        "assert len(res.drop_duplicates()) == 73\n",
        "assert res[res.category == 'drinks'].products.values[0] == 81\n",
        "assert res.products.sum() == 32341\n",
        "assert res.price.sum() == 12459.751444351941\n",
        "assert res[res.category == 'home_confort'].price.values[0] == 185.56926417326417"
      ],
      "metadata": {
        "id": "VgSA5JAjxngq"
      },
      "execution_count": 5,
      "outputs": []
    },
    {
      "cell_type": "markdown",
      "source": [
        "## Задание 2 (10 баллов)"
      ],
      "metadata": {
        "id": "yUh0q89ztKMV"
      }
    },
    {
      "cell_type": "markdown",
      "source": [
        "Определите для каждого продавца основную категорию их продаж (категории должны быть на английском языке)\n",
        "\n",
        "Табличка, которая у вас должна получиться:\n",
        "\n",
        "```\n",
        "seller_id | category\n",
        "\n",
        "value    | value\n",
        "```\n",
        "\n",
        "\n"
      ],
      "metadata": {
        "id": "3PM7DzaRzO9x"
      }
    },
    {
      "cell_type": "code",
      "source": [
        "%%write_and_run task_2.py\n",
        "\n",
        "# важно! все зависимости, которые используете (если добавляее новые) в этом классе надо явно продублировать в эту ячейку\n",
        "import numpy as np\n",
        "import pandas as pd\n",
        "\n",
        "def task_2(translation, products, items):\n",
        "    new_tr = pd.DataFrame([\n",
        "        ['portateis_cozinha_e_preparadores_de_alimentos', 'portable kitchen and food preparers'],\n",
        "        ['pc_gamer', 'PC Gamer']\n",
        "    ], columns=['product_category_name', 'product_category_name_english'])\n",
        "\n",
        "    translation = pd.concat([translation, new_tr], ignore_index=True)\n",
        "    res = items.join(products[['product_id', 'product_category_name']].set_index('product_id'), how='inner', on='product_id').join(translation.set_index('product_category_name'), how='inner', on='product_category_name')\n",
        "    res = res.groupby(['seller_id','product_category_name_english']).agg({'order_id': 'count'}).reset_index()\n",
        "    res = res.sort_values('order_id', ascending=False).reset_index()\n",
        "    res = res.groupby(['seller_id']).agg({'product_category_name_english': 'first'}).reset_index()\n",
        "    res.columns=['seller_id', 'category']\n",
        "    return res"
      ],
      "metadata": {
        "id": "YCKMxSNtzdxO",
        "colab": {
          "base_uri": "https://localhost:8080/",
          "height": 419
        },
        "outputId": "061e4ce9-30ac-421b-da17-e1aed9b9cfef"
      },
      "execution_count": 6,
      "outputs": [
        {
          "output_type": "execute_result",
          "data": {
            "text/plain": [
              "                             seller_id                category\n",
              "0     0015a82c2db000af6aaaf3ae2ecb0532        small_appliances\n",
              "1     001cca7ae9ae17fb1caed9dfb1094831            garden_tools\n",
              "2     001e6ad469a905060d959994f1b41e4f          sports_leisure\n",
              "3     002100f778ceb8431b7a1020ff7ab48f         furniture_decor\n",
              "4     004c9cd9d87a3c30c522c48c4fc07416          bed_bath_table\n",
              "...                                ...                     ...\n",
              "3030  ffcfefa19b08742c5d315f2791395ee5  books_general_interest\n",
              "3031  ffdd9f82b9a447f6f8d4b91554cc7dd3              housewares\n",
              "3032  ffeee66ac5d5a62fe688b9d26f83f534         home_appliances\n",
              "3033  fffd5413c0700ac820c7069d66d98c89              housewares\n",
              "3034  ffff564a4f9085cd26170f4732393726                    auto\n",
              "\n",
              "[3035 rows x 2 columns]"
            ],
            "text/html": [
              "\n",
              "  <div id=\"df-62b4601f-3edd-4e8c-86cf-d19244996b03\" class=\"colab-df-container\">\n",
              "    <div>\n",
              "<style scoped>\n",
              "    .dataframe tbody tr th:only-of-type {\n",
              "        vertical-align: middle;\n",
              "    }\n",
              "\n",
              "    .dataframe tbody tr th {\n",
              "        vertical-align: top;\n",
              "    }\n",
              "\n",
              "    .dataframe thead th {\n",
              "        text-align: right;\n",
              "    }\n",
              "</style>\n",
              "<table border=\"1\" class=\"dataframe\">\n",
              "  <thead>\n",
              "    <tr style=\"text-align: right;\">\n",
              "      <th></th>\n",
              "      <th>seller_id</th>\n",
              "      <th>category</th>\n",
              "    </tr>\n",
              "  </thead>\n",
              "  <tbody>\n",
              "    <tr>\n",
              "      <th>0</th>\n",
              "      <td>0015a82c2db000af6aaaf3ae2ecb0532</td>\n",
              "      <td>small_appliances</td>\n",
              "    </tr>\n",
              "    <tr>\n",
              "      <th>1</th>\n",
              "      <td>001cca7ae9ae17fb1caed9dfb1094831</td>\n",
              "      <td>garden_tools</td>\n",
              "    </tr>\n",
              "    <tr>\n",
              "      <th>2</th>\n",
              "      <td>001e6ad469a905060d959994f1b41e4f</td>\n",
              "      <td>sports_leisure</td>\n",
              "    </tr>\n",
              "    <tr>\n",
              "      <th>3</th>\n",
              "      <td>002100f778ceb8431b7a1020ff7ab48f</td>\n",
              "      <td>furniture_decor</td>\n",
              "    </tr>\n",
              "    <tr>\n",
              "      <th>4</th>\n",
              "      <td>004c9cd9d87a3c30c522c48c4fc07416</td>\n",
              "      <td>bed_bath_table</td>\n",
              "    </tr>\n",
              "    <tr>\n",
              "      <th>...</th>\n",
              "      <td>...</td>\n",
              "      <td>...</td>\n",
              "    </tr>\n",
              "    <tr>\n",
              "      <th>3030</th>\n",
              "      <td>ffcfefa19b08742c5d315f2791395ee5</td>\n",
              "      <td>books_general_interest</td>\n",
              "    </tr>\n",
              "    <tr>\n",
              "      <th>3031</th>\n",
              "      <td>ffdd9f82b9a447f6f8d4b91554cc7dd3</td>\n",
              "      <td>housewares</td>\n",
              "    </tr>\n",
              "    <tr>\n",
              "      <th>3032</th>\n",
              "      <td>ffeee66ac5d5a62fe688b9d26f83f534</td>\n",
              "      <td>home_appliances</td>\n",
              "    </tr>\n",
              "    <tr>\n",
              "      <th>3033</th>\n",
              "      <td>fffd5413c0700ac820c7069d66d98c89</td>\n",
              "      <td>housewares</td>\n",
              "    </tr>\n",
              "    <tr>\n",
              "      <th>3034</th>\n",
              "      <td>ffff564a4f9085cd26170f4732393726</td>\n",
              "      <td>auto</td>\n",
              "    </tr>\n",
              "  </tbody>\n",
              "</table>\n",
              "<p>3035 rows × 2 columns</p>\n",
              "</div>\n",
              "    <div class=\"colab-df-buttons\">\n",
              "\n",
              "  <div class=\"colab-df-container\">\n",
              "    <button class=\"colab-df-convert\" onclick=\"convertToInteractive('df-62b4601f-3edd-4e8c-86cf-d19244996b03')\"\n",
              "            title=\"Convert this dataframe to an interactive table.\"\n",
              "            style=\"display:none;\">\n",
              "\n",
              "  <svg xmlns=\"http://www.w3.org/2000/svg\" height=\"24px\" viewBox=\"0 -960 960 960\">\n",
              "    <path d=\"M120-120v-720h720v720H120Zm60-500h600v-160H180v160Zm220 220h160v-160H400v160Zm0 220h160v-160H400v160ZM180-400h160v-160H180v160Zm440 0h160v-160H620v160ZM180-180h160v-160H180v160Zm440 0h160v-160H620v160Z\"/>\n",
              "  </svg>\n",
              "    </button>\n",
              "\n",
              "  <style>\n",
              "    .colab-df-container {\n",
              "      display:flex;\n",
              "      gap: 12px;\n",
              "    }\n",
              "\n",
              "    .colab-df-convert {\n",
              "      background-color: #E8F0FE;\n",
              "      border: none;\n",
              "      border-radius: 50%;\n",
              "      cursor: pointer;\n",
              "      display: none;\n",
              "      fill: #1967D2;\n",
              "      height: 32px;\n",
              "      padding: 0 0 0 0;\n",
              "      width: 32px;\n",
              "    }\n",
              "\n",
              "    .colab-df-convert:hover {\n",
              "      background-color: #E2EBFA;\n",
              "      box-shadow: 0px 1px 2px rgba(60, 64, 67, 0.3), 0px 1px 3px 1px rgba(60, 64, 67, 0.15);\n",
              "      fill: #174EA6;\n",
              "    }\n",
              "\n",
              "    .colab-df-buttons div {\n",
              "      margin-bottom: 4px;\n",
              "    }\n",
              "\n",
              "    [theme=dark] .colab-df-convert {\n",
              "      background-color: #3B4455;\n",
              "      fill: #D2E3FC;\n",
              "    }\n",
              "\n",
              "    [theme=dark] .colab-df-convert:hover {\n",
              "      background-color: #434B5C;\n",
              "      box-shadow: 0px 1px 3px 1px rgba(0, 0, 0, 0.15);\n",
              "      filter: drop-shadow(0px 1px 2px rgba(0, 0, 0, 0.3));\n",
              "      fill: #FFFFFF;\n",
              "    }\n",
              "  </style>\n",
              "\n",
              "    <script>\n",
              "      const buttonEl =\n",
              "        document.querySelector('#df-62b4601f-3edd-4e8c-86cf-d19244996b03 button.colab-df-convert');\n",
              "      buttonEl.style.display =\n",
              "        google.colab.kernel.accessAllowed ? 'block' : 'none';\n",
              "\n",
              "      async function convertToInteractive(key) {\n",
              "        const element = document.querySelector('#df-62b4601f-3edd-4e8c-86cf-d19244996b03');\n",
              "        const dataTable =\n",
              "          await google.colab.kernel.invokeFunction('convertToInteractive',\n",
              "                                                    [key], {});\n",
              "        if (!dataTable) return;\n",
              "\n",
              "        const docLinkHtml = 'Like what you see? Visit the ' +\n",
              "          '<a target=\"_blank\" href=https://colab.research.google.com/notebooks/data_table.ipynb>data table notebook</a>'\n",
              "          + ' to learn more about interactive tables.';\n",
              "        element.innerHTML = '';\n",
              "        dataTable['output_type'] = 'display_data';\n",
              "        await google.colab.output.renderOutput(dataTable, element);\n",
              "        const docLink = document.createElement('div');\n",
              "        docLink.innerHTML = docLinkHtml;\n",
              "        element.appendChild(docLink);\n",
              "      }\n",
              "    </script>\n",
              "  </div>\n",
              "\n",
              "\n",
              "<div id=\"df-d858caf2-7cae-4ada-b089-ee0c7ee3cbc0\">\n",
              "  <button class=\"colab-df-quickchart\" onclick=\"quickchart('df-d858caf2-7cae-4ada-b089-ee0c7ee3cbc0')\"\n",
              "            title=\"Suggest charts.\"\n",
              "            style=\"display:none;\">\n",
              "\n",
              "<svg xmlns=\"http://www.w3.org/2000/svg\" height=\"24px\"viewBox=\"0 0 24 24\"\n",
              "     width=\"24px\">\n",
              "    <g>\n",
              "        <path d=\"M19 3H5c-1.1 0-2 .9-2 2v14c0 1.1.9 2 2 2h14c1.1 0 2-.9 2-2V5c0-1.1-.9-2-2-2zM9 17H7v-7h2v7zm4 0h-2V7h2v10zm4 0h-2v-4h2v4z\"/>\n",
              "    </g>\n",
              "</svg>\n",
              "  </button>\n",
              "\n",
              "<style>\n",
              "  .colab-df-quickchart {\n",
              "      --bg-color: #E8F0FE;\n",
              "      --fill-color: #1967D2;\n",
              "      --hover-bg-color: #E2EBFA;\n",
              "      --hover-fill-color: #174EA6;\n",
              "      --disabled-fill-color: #AAA;\n",
              "      --disabled-bg-color: #DDD;\n",
              "  }\n",
              "\n",
              "  [theme=dark] .colab-df-quickchart {\n",
              "      --bg-color: #3B4455;\n",
              "      --fill-color: #D2E3FC;\n",
              "      --hover-bg-color: #434B5C;\n",
              "      --hover-fill-color: #FFFFFF;\n",
              "      --disabled-bg-color: #3B4455;\n",
              "      --disabled-fill-color: #666;\n",
              "  }\n",
              "\n",
              "  .colab-df-quickchart {\n",
              "    background-color: var(--bg-color);\n",
              "    border: none;\n",
              "    border-radius: 50%;\n",
              "    cursor: pointer;\n",
              "    display: none;\n",
              "    fill: var(--fill-color);\n",
              "    height: 32px;\n",
              "    padding: 0;\n",
              "    width: 32px;\n",
              "  }\n",
              "\n",
              "  .colab-df-quickchart:hover {\n",
              "    background-color: var(--hover-bg-color);\n",
              "    box-shadow: 0 1px 2px rgba(60, 64, 67, 0.3), 0 1px 3px 1px rgba(60, 64, 67, 0.15);\n",
              "    fill: var(--button-hover-fill-color);\n",
              "  }\n",
              "\n",
              "  .colab-df-quickchart-complete:disabled,\n",
              "  .colab-df-quickchart-complete:disabled:hover {\n",
              "    background-color: var(--disabled-bg-color);\n",
              "    fill: var(--disabled-fill-color);\n",
              "    box-shadow: none;\n",
              "  }\n",
              "\n",
              "  .colab-df-spinner {\n",
              "    border: 2px solid var(--fill-color);\n",
              "    border-color: transparent;\n",
              "    border-bottom-color: var(--fill-color);\n",
              "    animation:\n",
              "      spin 1s steps(1) infinite;\n",
              "  }\n",
              "\n",
              "  @keyframes spin {\n",
              "    0% {\n",
              "      border-color: transparent;\n",
              "      border-bottom-color: var(--fill-color);\n",
              "      border-left-color: var(--fill-color);\n",
              "    }\n",
              "    20% {\n",
              "      border-color: transparent;\n",
              "      border-left-color: var(--fill-color);\n",
              "      border-top-color: var(--fill-color);\n",
              "    }\n",
              "    30% {\n",
              "      border-color: transparent;\n",
              "      border-left-color: var(--fill-color);\n",
              "      border-top-color: var(--fill-color);\n",
              "      border-right-color: var(--fill-color);\n",
              "    }\n",
              "    40% {\n",
              "      border-color: transparent;\n",
              "      border-right-color: var(--fill-color);\n",
              "      border-top-color: var(--fill-color);\n",
              "    }\n",
              "    60% {\n",
              "      border-color: transparent;\n",
              "      border-right-color: var(--fill-color);\n",
              "    }\n",
              "    80% {\n",
              "      border-color: transparent;\n",
              "      border-right-color: var(--fill-color);\n",
              "      border-bottom-color: var(--fill-color);\n",
              "    }\n",
              "    90% {\n",
              "      border-color: transparent;\n",
              "      border-bottom-color: var(--fill-color);\n",
              "    }\n",
              "  }\n",
              "</style>\n",
              "\n",
              "  <script>\n",
              "    async function quickchart(key) {\n",
              "      const quickchartButtonEl =\n",
              "        document.querySelector('#' + key + ' button');\n",
              "      quickchartButtonEl.disabled = true;  // To prevent multiple clicks.\n",
              "      quickchartButtonEl.classList.add('colab-df-spinner');\n",
              "      try {\n",
              "        const charts = await google.colab.kernel.invokeFunction(\n",
              "            'suggestCharts', [key], {});\n",
              "      } catch (error) {\n",
              "        console.error('Error during call to suggestCharts:', error);\n",
              "      }\n",
              "      quickchartButtonEl.classList.remove('colab-df-spinner');\n",
              "      quickchartButtonEl.classList.add('colab-df-quickchart-complete');\n",
              "    }\n",
              "    (() => {\n",
              "      let quickchartButtonEl =\n",
              "        document.querySelector('#df-d858caf2-7cae-4ada-b089-ee0c7ee3cbc0 button');\n",
              "      quickchartButtonEl.style.display =\n",
              "        google.colab.kernel.accessAllowed ? 'block' : 'none';\n",
              "    })();\n",
              "  </script>\n",
              "</div>\n",
              "    </div>\n",
              "  </div>\n"
            ]
          },
          "metadata": {},
          "execution_count": 6
        }
      ]
    },
    {
      "cell_type": "code",
      "source": [
        "# Проверки\n",
        "\n",
        "res = task_2(translation, products, items)\n",
        "assert res[res.seller_id == 'e3e15e2c0b9700561efac21c6be48066'].category.values[0] == 'housewares'\n",
        "assert res[res.seller_id == '2f73e04d12cdf0c945ded66bb3fcf6c7'].category.values[0] == 'garden_tools'\n",
        "assert len(res) == len(res.drop_duplicates())\n",
        "assert len(res) == 3035\n",
        "assert len(res[res.category == 'telephony']) == 66\n",
        "assert list(np.sort(res.groupby(\"category\").agg({\"seller_id\": \"nunique\"}).seller_id.values)) == [  1,   1,   1,   1,   1,   2,   2,   2,   2,   2,   3,   3,   4,\n",
        "         4,   4,   4,   5,   5,   5,   5,   5,   5,   6,   6,   6,   7,\n",
        "         8,  10,  12,  13,  13,  13,  14,  14,  14,  15,  16,  17,  17,\n",
        "        17,  19,  20,  20,  20,  21,  22,  26,  37,  37,  43,  46,  51,\n",
        "        54,  59,  66,  66,  78,  87,  87,  99, 101, 116, 125, 156, 216,\n",
        "       224, 256, 288, 310]"
      ],
      "metadata": {
        "id": "jfx4Lfn10Tic"
      },
      "execution_count": 7,
      "outputs": []
    },
    {
      "cell_type": "markdown",
      "source": [
        "## Задание 3 (10 баллов)"
      ],
      "metadata": {
        "id": "DQemvudwt4mt"
      }
    },
    {
      "cell_type": "markdown",
      "source": [
        "Выведите долю потраченных денег по каждому штату (потраченные деньги - сумма денег по доставленным заказам, сумма по price и freight_value)\n",
        "\n",
        "*Примечание:* разбивка по штатам - по штату покупателя, процент - число от 0 до 1\n",
        "\n",
        "\n",
        "Табличка, которая у вас должна получиться:\n",
        "\n",
        "```\n",
        "state | perc\n",
        "\n",
        "value | value\n",
        "```"
      ],
      "metadata": {
        "id": "X6wytIx56ivp"
      }
    },
    {
      "cell_type": "code",
      "source": [
        "%%write_and_run task_3.py\n",
        "\n",
        "# важно! все зависимости, которые используете (если добавляее новые) в этом классе надо явно продублировать в эту ячейку\n",
        "import numpy as np\n",
        "import pandas as pd\n",
        "\n",
        "def task_3(orders, customers, items):\n",
        "    res = items.join(orders[['order_id', 'customer_id', 'order_status']].set_index('order_id'), on='order_id', how='inner').join(customers[['customer_id', 'customer_state']].set_index('customer_id'), on='customer_id', how='inner')\n",
        "    res = res[res.order_status == 'delivered']\n",
        "    res['total_price'] = res['price'] + res['freight_value']\n",
        "    res = res.groupby(['customer_state']).agg({'total_price': 'sum'}).reset_index()\n",
        "    res['perc'] = res['total_price'] / res['total_price'].sum()\n",
        "    res = res.rename(columns={'customer_state': 'state'})\n",
        "    return res[['state', 'perc']]"
      ],
      "metadata": {
        "id": "WH5QCAJi3sWk"
      },
      "execution_count": 8,
      "outputs": []
    },
    {
      "cell_type": "code",
      "source": [
        "# Проверки\n",
        "\n",
        "res = task_3(orders, customers, items)\n",
        "assert res.perc.sum() == 1\n",
        "assert res[res.state == \"RS\"].perc.values[0] == 0.055868056429816286\n",
        "assert res.sort_values(\"perc\", ascending=True).iloc[0, 1] == 0.0005862290943146945\n",
        "assert res.sort_values(\"perc\", ascending=False).iloc[0, 1] == 0.3741756035817322\n",
        "assert len(res) == 27"
      ],
      "metadata": {
        "id": "gE01dmRp5YlV"
      },
      "execution_count": 9,
      "outputs": []
    },
    {
      "cell_type": "markdown",
      "source": [
        "## Задание 4 (10 баллов)"
      ],
      "metadata": {
        "id": "2Z5KBkyet7wB"
      }
    },
    {
      "cell_type": "markdown",
      "source": [
        "Определите средний чек покупки (добавьте разбивку на стоимость самого заказ и стоимость доставки) и среднее число товаров в заказе\n",
        "\n",
        "А также определите среднее число покупок на пользователя (обратите внимание на идентификаторы)"
      ],
      "metadata": {
        "id": "9klcqoBj80DL"
      }
    },
    {
      "cell_type": "code",
      "source": [
        "%%write_and_run task_4.py\n",
        "\n",
        "# важно! все зависимости, которые используете (если добавляее новые) в этом классе надо явно продублировать в эту ячейку\n",
        "import numpy as np\n",
        "import pandas as pd\n",
        "\n",
        "def task_4(items, orders, customers):\n",
        "    df = items.join(orders[['order_id', 'customer_id']].set_index('order_id'), on='order_id', how='inner').join(customers[['customer_id', 'customer_unique_id']].set_index('customer_id'), on='customer_id', how='inner')\n",
        "    mean_price_df = df.groupby(['order_id']).agg({'price': 'sum'}).reset_index()\n",
        "    mean_price = mean_price_df['price'].mean() # стоимость заказа\n",
        "    mean_freight_value_df = df.groupby(['order_id']).agg({'freight_value': 'sum'}).reset_index()\n",
        "    mean_freight_value = mean_freight_value_df['freight_value'].mean() # стоимость доставки\n",
        "    mean_order_amount_df = df.groupby(['order_id']).agg({'order_item_id': 'count'}).reset_index()\n",
        "    mean_order_amount = mean_order_amount_df['order_item_id'].mean() # среднее число товаров в заказе\n",
        "    mean_buys = len(orders.order_id.unique()) / len(customers.customer_unique_id.unique()) # среднее покупок на пользователя\n",
        "    return (mean_price, mean_freight_value, mean_order_amount, mean_buys)"
      ],
      "metadata": {
        "id": "lMqosgB-7OeQ"
      },
      "execution_count": 10,
      "outputs": []
    },
    {
      "cell_type": "code",
      "source": [
        "# Проверка\n",
        "\n",
        "res = task_4(items, orders, customers)\n",
        "assert res == (137.7540763788945, 22.823561713254815, 1.1417306873695092, 1.0348089410589412)"
      ],
      "metadata": {
        "id": "ManEB8qf7lm_"
      },
      "execution_count": 11,
      "outputs": []
    },
    {
      "cell_type": "markdown",
      "source": [
        "## Задание 5 (10 баллов)"
      ],
      "metadata": {
        "id": "pEHsUeuYuPsK"
      }
    },
    {
      "cell_type": "markdown",
      "source": [
        "Посчитайте CSAT (customer satisfaction - средняя оценка ревью) и отобразите средний CSAT по дням в период с апреля 2017 по апрель 2018 года\n",
        "\n",
        "Все манипуляции с датой необходимо сделать с помощью datetime и dateutil\n",
        "\n",
        "\n",
        "Табличка, которая у вас должна получиться:\n",
        "\n",
        "```\n",
        "date | csat\n",
        "\n",
        "\"YYYY-MM-DD\" | value\n",
        "```"
      ],
      "metadata": {
        "id": "cGX_GxAs9Fww"
      }
    },
    {
      "cell_type": "code",
      "source": [
        "%%write_and_run task_5.py\n",
        "\n",
        "# важно! все зависимости, которые используете (если добавляее новые) в этом классе надо явно продублировать в эту ячейку\n",
        "import numpy as np\n",
        "import pandas as pd\n",
        "from dateutil.parser import parse\n",
        "import datetime\n",
        "\n",
        "def task_5(reviews):\n",
        "    reviews['review_creation_date'] = pd.to_datetime(reviews['review_creation_date'])\n",
        "    # res = reviews.groupby(['review_creation_date']).agg({'review_score': 'mean'}).reset_index()\n",
        "    res = reviews[(reviews['review_creation_date'] >= datetime.datetime(2017, 4, 1)) & (reviews['review_creation_date'] <= datetime.datetime(2018, 4, 30))]\n",
        "    res = res.groupby(['review_creation_date']).agg({'review_score': 'mean'}).reset_index()\n",
        "    res = res.rename(columns={'review_creation_date': 'date', 'review_score': 'csat'})\n",
        "    res['date'] = res['date'].dt.strftime('%Y-%m-%d')\n",
        "    return res"
      ],
      "metadata": {
        "id": "Fu31Qrod9M_4"
      },
      "execution_count": 13,
      "outputs": []
    },
    {
      "cell_type": "code",
      "source": [
        "# Проверки\n",
        "res = task_5(reviews)\n",
        "assert res.date.min() == '2017-04-01'\n",
        "assert res.date.max() == '2018-04-30'\n",
        "assert res.csat.sum() == 1551.8881071384853\n",
        "assert res[res.date == '2017-07-11'].csat.values[0] == 4.291390728476821\n",
        "assert res[res.date == '2018-02-09'].csat.values[0] == 3.992156862745098\n",
        "assert res[res.csat == 3.6814814814814816].date.values[0] == '2018-02-25'"
      ],
      "metadata": {
        "id": "UK4r71Vh-Pfu"
      },
      "execution_count": 14,
      "outputs": []
    },
    {
      "cell_type": "markdown",
      "source": [
        "## Задание 6 (10 баллов)"
      ],
      "metadata": {
        "id": "L-rho7C0uUTY"
      }
    },
    {
      "cell_type": "markdown",
      "source": [
        "Посмотрите, как быстро отвечают пользователи (сделайте аггреграцию по числу дней ответа) и какая средняя оценка\n",
        "\n",
        "Все манипуляции со временем нужно делать через datetime и dateutil\n",
        "\n",
        "Табличка, которая у вас должна получиться:\n",
        "\n",
        "```\n",
        "days | csat | orders\n",
        "\n",
        "value | value | value\n",
        "```\n",
        "\n",
        "Результаты должны быть отсориртированы по дня по возрастанию"
      ],
      "metadata": {
        "id": "3H-lma4hL-sa"
      }
    },
    {
      "cell_type": "code",
      "source": [
        "%%write_and_run task_6.py\n",
        "\n",
        "# важно! все зависимости, которые используете (если добавляее новые) в этом классе надо явно продублировать в эту ячейку\n",
        "import numpy as np\n",
        "import pandas as pd\n",
        "from dateutil.parser import parse\n",
        "import datetime\n",
        "\n",
        "def task_6(reviews):\n",
        "    reviews['review_creation_date'] = pd.to_datetime(reviews['review_creation_date'])\n",
        "    reviews['review_answer_timestamp'] = pd.to_datetime(reviews['review_answer_timestamp'])\n",
        "    reviews['days'] = reviews['review_answer_timestamp'] - reviews['review_creation_date']\n",
        "    reviews['days'] = reviews['days'].dt.days\n",
        "    res = reviews.groupby(['days']).agg({'review_score': 'mean', 'order_id': 'count'}).reset_index()\n",
        "    res = res.rename(columns={'review_score': 'csat', 'order_id': 'orders'})\n",
        "\n",
        "    return res"
      ],
      "metadata": {
        "id": "BCjO8WQgMeGC"
      },
      "execution_count": 16,
      "outputs": []
    },
    {
      "cell_type": "code",
      "source": [
        "# Проверки\n",
        "res = task_6(reviews)\n",
        "assert res.orders.sum() == 99224\n",
        "assert np.all(res.days.values == np.sort(res.days.values))\n",
        "assert len(res) == 214\n",
        "assert res.days.min() == 0\n",
        "assert res.days.max() == 518\n",
        "assert res[res.days == 233].csat.values[0] == 3.0\n",
        "assert res[res.days == 87].orders.values[0] == 4"
      ],
      "metadata": {
        "id": "b_zq1nfxOvZa"
      },
      "execution_count": 17,
      "outputs": []
    },
    {
      "cell_type": "markdown",
      "source": [
        "## Задание 7 (10 баллов)"
      ],
      "metadata": {
        "id": "bc-MZgP2udIi"
      }
    },
    {
      "cell_type": "markdown",
      "source": [
        "Выделите все заказы, где не проставлено поле order_delivered_customer_date. Замените его на дату '2999-12-31'"
      ],
      "metadata": {
        "id": "JxkpI1l0QO0i"
      }
    },
    {
      "cell_type": "code",
      "source": [
        "%%write_and_run task_7.py\n",
        "\n",
        "# важно! все зависимости, которые используете (если добавляее новые) в этом классе надо явно продублировать в эту ячейку\n",
        "import numpy as np\n",
        "import pandas as pd\n",
        "\n",
        "def task_7(orders):\n",
        "    orders['order_delivered_customer_date'].fillna('2999-12-31', inplace=True)\n",
        "    return orders"
      ],
      "metadata": {
        "id": "oqIpnXvbP3FZ"
      },
      "execution_count": 18,
      "outputs": []
    },
    {
      "cell_type": "code",
      "source": [
        "#Проверки\n",
        "\n",
        "res = task_7(orders)\n",
        "assert len(res[res.order_delivered_customer_date.isna()]) == 0\n",
        "assert len(res) == 99441\n",
        "assert len(res[res.order_delivered_customer_date == '2999-12-31']) == 2965"
      ],
      "metadata": {
        "id": "k6z59EMXWLkm"
      },
      "execution_count": 19,
      "outputs": []
    },
    {
      "cell_type": "markdown",
      "source": [
        "## Задание 8 (30 баллов)"
      ],
      "metadata": {
        "id": "TVbTTB9nuiHH"
      }
    },
    {
      "cell_type": "markdown",
      "source": [
        "Определите топ-10 продавцов, у которых больше 100 заказов, отсылающие чаще всего свою посылку в другие регионы (считаются только доставленные заказы)\n",
        "\n",
        "Чаще всего отсылают = самый большой процент отправленных заказов в другой штат\n",
        "\n",
        "Табличка, которая у вас должна получиться:\n",
        "\n",
        "```\n",
        "seller_id | share\n",
        "\n",
        "value | value\n",
        "```"
      ],
      "metadata": {
        "id": "zeRxv6FDVeVJ"
      }
    },
    {
      "cell_type": "code",
      "source": [
        "%%write_and_run task_8.py\n",
        "\n",
        "# важно! все зависимости, которые используете (если добавляее новые) в этом классе надо явно продублировать в эту ячейку\n",
        "import numpy as np\n",
        "import pandas as pd\n",
        "\n",
        "def task_8(orders, items, sellers, customers):\n",
        "    df = orders[['order_id', 'customer_id', 'order_status']].join(items[['order_id', 'seller_id']].set_index('order_id'), how='inner', on='order_id')\n",
        "    df = df.join(sellers[['seller_id', 'seller_state']].set_index('seller_id'), on='seller_id', how='inner')\n",
        "    df = df.join(customers[['customer_id', 'customer_state']].set_index('customer_id'), on='customer_id', how='inner')# склеил датафреймы\n",
        "    df = df[df.order_status == 'delivered'] # убрал не доставленные\n",
        "    df = df.groupby(['seller_id', 'seller_state', 'customer_state']).agg({'order_id': 'nunique'}).reset_index()\n",
        "\n",
        "    df_cnt_orders = df.copy()\n",
        "    df_cnt_orders = df_cnt_orders.groupby(['seller_id']).agg({'order_id': 'sum'}).reset_index()\n",
        "    df_cnt_orders = df_cnt_orders[df_cnt_orders.order_id > 100] # отобрал те где больше 100 продаж\n",
        "\n",
        "    df = df[df.seller_state != df.customer_state]\n",
        "    df = df.groupby(['seller_id']).agg({'order_id': 'sum'}).reset_index()\n",
        "    df = df.rename(columns={'order_id': 'another_state'}) # нашёл их заказы в другие регионы\n",
        "\n",
        "    res = df_cnt_orders.join(df.set_index('seller_id'), how='inner', on='seller_id')\n",
        "    res['share'] = res['another_state'] / res['order_id']\n",
        "    res = res.sort_values('share', ascending=False)\n",
        "    res = res.head(10)\n",
        "    res = res[['seller_id', 'share']]\n",
        "    return res"
      ],
      "metadata": {
        "id": "Nv1eFCg5WnlD"
      },
      "execution_count": 20,
      "outputs": []
    },
    {
      "cell_type": "code",
      "source": [
        "# Проверки\n",
        "\n",
        "res = task_8(orders, items, sellers, customers)\n",
        "assert np.all(res.share.values == np.sort(res.share.values)[::-1])\n",
        "assert res.share.values[0] == 0.9743589743589743\n",
        "assert res.share.values[-1] == 0.9356435643564357\n",
        "assert res.seller_id.values[5] == '1b4c3a6f53068f0b6944d2d005c9fc89'\n",
        "assert res.seller_id.values[2] == '06a2c3af7b3aee5d69171b0e14f0ee87'\n",
        "assert res.share.sum() == 9.519118744616716"
      ],
      "metadata": {
        "id": "1bC_uAYIbRrn"
      },
      "execution_count": 21,
      "outputs": []
    }
  ]
}